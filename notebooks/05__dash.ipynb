{
  "nbformat": 4,
  "nbformat_minor": 0,
  "metadata": {
    "colab": {
      "name": "05__dash.ipynb",
      "provenance": [],
      "collapsed_sections": [],
      "toc_visible": true
    },
    "kernelspec": {
      "name": "python3",
      "display_name": "Python 3"
    },
    "language_info": {
      "name": "python"
    }
  },
  "cells": [
    {
      "cell_type": "markdown",
      "source": [
        "# Basics of Dash"
      ],
      "metadata": {
        "id": "EB5yOZ6THhUF"
      }
    },
    {
      "cell_type": "markdown",
      "source": [
        "## Installation"
      ],
      "metadata": {
        "id": "fYFUOfniHmSk"
      }
    },
    {
      "cell_type": "markdown",
      "source": [
        "We are going to use Google Colab to deploy in a localhost server a Dash application. In this way we will avoid using environments or further configuration steps in our computers. We only need to install dash by means of the python package manager pip."
      ],
      "metadata": {
        "id": "edL2ODcZHw-j"
      }
    },
    {
      "cell_type": "code",
      "source": [
        "!pip install dash"
      ],
      "metadata": {
        "colab": {
          "base_uri": "https://localhost:8080/"
        },
        "id": "GyH0VdFmNFG2",
        "outputId": "8c5be183-aac0-42bd-9b58-58d0fb50297e"
      },
      "execution_count": 1,
      "outputs": [
        {
          "output_type": "stream",
          "name": "stdout",
          "text": [
            "Requirement already satisfied: dash in /usr/local/lib/python3.7/dist-packages (2.2.0)\n",
            "Requirement already satisfied: dash-html-components==2.0.0 in /usr/local/lib/python3.7/dist-packages (from dash) (2.0.0)\n",
            "Requirement already satisfied: dash-table==5.0.0 in /usr/local/lib/python3.7/dist-packages (from dash) (5.0.0)\n",
            "Requirement already satisfied: Flask>=1.0.4 in /usr/local/lib/python3.7/dist-packages (from dash) (1.1.4)\n",
            "Requirement already satisfied: dash-core-components==2.0.0 in /usr/local/lib/python3.7/dist-packages (from dash) (2.0.0)\n",
            "Requirement already satisfied: flask-compress in /usr/local/lib/python3.7/dist-packages (from dash) (1.11)\n",
            "Requirement already satisfied: plotly>=5.0.0 in /usr/local/lib/python3.7/dist-packages (from dash) (5.5.0)\n",
            "Requirement already satisfied: click<8.0,>=5.1 in /usr/local/lib/python3.7/dist-packages (from Flask>=1.0.4->dash) (7.1.2)\n",
            "Requirement already satisfied: itsdangerous<2.0,>=0.24 in /usr/local/lib/python3.7/dist-packages (from Flask>=1.0.4->dash) (1.1.0)\n",
            "Requirement already satisfied: Jinja2<3.0,>=2.10.1 in /usr/local/lib/python3.7/dist-packages (from Flask>=1.0.4->dash) (2.11.3)\n",
            "Requirement already satisfied: Werkzeug<2.0,>=0.15 in /usr/local/lib/python3.7/dist-packages (from Flask>=1.0.4->dash) (1.0.1)\n",
            "Requirement already satisfied: MarkupSafe>=0.23 in /usr/local/lib/python3.7/dist-packages (from Jinja2<3.0,>=2.10.1->Flask>=1.0.4->dash) (2.0.1)\n",
            "Requirement already satisfied: six in /usr/local/lib/python3.7/dist-packages (from plotly>=5.0.0->dash) (1.15.0)\n",
            "Requirement already satisfied: tenacity>=6.2.0 in /usr/local/lib/python3.7/dist-packages (from plotly>=5.0.0->dash) (8.0.1)\n",
            "Requirement already satisfied: brotli in /usr/local/lib/python3.7/dist-packages (from flask-compress->dash) (1.0.9)\n"
          ]
        }
      ]
    },
    {
      "cell_type": "code",
      "source": [
        "!pip install jupyter-dash -q"
      ],
      "metadata": {
        "id": "P_UGS1d2VWOA"
      },
      "execution_count": 2,
      "outputs": []
    },
    {
      "cell_type": "markdown",
      "source": [
        "## Libraries"
      ],
      "metadata": {
        "id": "zuanG-uFHuQl"
      }
    },
    {
      "cell_type": "markdown",
      "source": [
        "Once we installed them we import `pandas` in order to deal with the dataset as usual. `plotly` to make the visualizations. And finally `Dash` to build an small static website."
      ],
      "metadata": {
        "id": "kaoqY-qqIJxQ"
      }
    },
    {
      "cell_type": "code",
      "execution_count": 4,
      "metadata": {
        "id": "4ZKPQQ97M2cP"
      },
      "outputs": [],
      "source": [
        "import pandas as pd\n",
        "\n",
        "import plotly.graph_objects as go\n",
        "import plotly.express as px\n",
        "\n",
        "from dash import dcc\n",
        "from dash import html\n",
        "from jupyter_dash import JupyterDash\n",
        "import dash"
      ]
    },
    {
      "cell_type": "markdown",
      "source": [
        "## Reading the dataset"
      ],
      "metadata": {
        "id": "ZwPHKFU8Igg1"
      }
    },
    {
      "cell_type": "code",
      "source": [
        "url = 'https://www.famaf.unc.edu.ar/~nocampo043/sysarmy_survey_2020_processed.csv'\n",
        "df = pd.read_csv(url)"
      ],
      "metadata": {
        "id": "7XB0NOR5M7w5"
      },
      "execution_count": 5,
      "outputs": []
    },
    {
      "cell_type": "markdown",
      "source": [
        "## What do we plot?\n",
        "\n",
        "After the exploration process we need to choose the plots we are going to show to the our clients, supervisors, boss. In this case we are going to come back to previous plots of the nobetook 04. Our choices plots related to the `salary_monthly_NET` variable and the `profile_studies_level`. In this case 3 types of barplots.\n",
        "\n",
        "We saved each of these plots as figures objects (note the fig suffix we added to their name)."
      ],
      "metadata": {
        "id": "bLzma-PnIh9W"
      }
    },
    {
      "cell_type": "code",
      "source": [
        "sorted_studies_levels = [\"Primary\", \"Secondary\", \"Terciary\", \"University\",\n",
        "                         \"Postgraduate\", \"Doctorate\", \"Postdoc\"]\n",
        "\n",
        "# Barplot of the profile_studies_level alongside their frequency count.\n",
        "df_studies_level_count = (\n",
        "    df[\"profile_studies_level\"]\n",
        "      .value_counts()\n",
        "      .reset_index()\n",
        "      .rename(columns={\"index\": \"profile_studies_level\",\n",
        "                       \"profile_studies_level\": \"count\"})\n",
        ")\n",
        "\n",
        "studies_level_count_fig = px.bar(df_studies_level_count,\n",
        "                                 x='profile_studies_level',\n",
        "                                 y='count',\n",
        "                                 category_orders=dict(profile_studies_level=sorted_studies_levels))\n",
        "\n",
        "# Barplot of the profile_studies_level alongside the mean of the salary\n",
        "\n",
        "df_studies_level_mean = (\n",
        "    df[[\"profile_studies_level\", \"salary_monthly_NET\"]]\n",
        "      .groupby(\"profile_studies_level\")\n",
        "      .mean()\n",
        "      .reset_index()\n",
        "      .rename(columns={\"salary_monthly_NET\": \"salary_monthly_NET_mean\"})\n",
        ")\n",
        "\n",
        "studies_level_mean_fig = px.bar(df_studies_level_mean,\n",
        "                                x='profile_studies_level',\n",
        "                                y='salary_monthly_NET_mean',\n",
        "                                category_orders=dict(profile_studies_level=sorted_studies_levels))\n",
        "\n",
        "\n",
        "# Barplot using grouped studies level alongside the mean of the salary\n",
        "new_groups = {\n",
        "    'Postdoc': 'Postgraduate',\n",
        "    'Doctorate': 'Postgraduate',\n",
        "    'Primary': 'Pre-degree',\n",
        "    'Secondary': 'Pre-degree'\n",
        "}\n",
        "order = ['Pre-degree', 'Terciary', 'University', 'Postgraduate']\n",
        "grouped_studies_level = df.profile_studies_level.replace(new_groups)\n",
        "df[\"grouped_profile_studies_level\"] = grouped_studies_level\n",
        "\n",
        "df_grouped_studies_level_mean = (\n",
        "    df[[\"grouped_profile_studies_level\", \"profile_studies_level_state\", \"salary_monthly_NET\"]]\n",
        "      .groupby([\"grouped_profile_studies_level\", \"profile_studies_level_state\"])\n",
        "      .mean()\n",
        "      .reset_index()\n",
        "      .rename(columns={\"salary_monthly_NET\": \"salary_monthly_NET_mean\"})\n",
        ")\n",
        "\n",
        "grouped_studies_level_fig = px.bar(df_grouped_studies_level_mean,\n",
        "                                   x='grouped_profile_studies_level',\n",
        "                                   y='salary_monthly_NET_mean',\n",
        "                                   color='profile_studies_level_state',\n",
        "                                   barmode='group',\n",
        "                                   category_orders=dict(grouped_profile_studies_level=order))"
      ],
      "metadata": {
        "id": "9OTrRyvyc8aa"
      },
      "execution_count": 6,
      "outputs": []
    },
    {
      "cell_type": "markdown",
      "source": [
        "## HTML and CSS\n",
        "\n",
        "HTML is a declarative language to specify the layout of a webpage.\n",
        "\n",
        "Cascading Style Sheets (CSS) is used to format the layout of a webpage.\n",
        "\n",
        "With CSS, you can control the color, font, the size of text, the spacing between elements, how elements are positioned and laid out, what background images or background colors are to be used, different displays for different devices and screen sizes, and much more!"
      ],
      "metadata": {
        "id": "393FrL8UJVia"
      }
    },
    {
      "cell_type": "markdown",
      "source": [
        "In this code cell we formated each section in our layout and set certain visualization properties. For example the header has a dark blue color with a height of 256 pixeles."
      ],
      "metadata": {
        "id": "g5flHlh8Ju5m"
      }
    },
    {
      "cell_type": "code",
      "source": [
        "header = {\n",
        "    \"background-color\": \"#222222\",\n",
        "    \"height\": \"256px\",\n",
        "    \"display\": \"flex\",\n",
        "    \"flex-direction\": \"column\",\n",
        "    \"justify-content\": \"center;\",\n",
        "}\n",
        "\n",
        "header_title = {\n",
        "    'color': '#FFFFFF',\n",
        "    'font-size': '48px',\n",
        "    'font-weight': 'bold',\n",
        "    'text-align': 'center',\n",
        "    'margin': '0 auto',\n",
        "}\n",
        "\n",
        "header_description = {\n",
        "    'color': '#CFCFCF',\n",
        "    'margin': '4px auto',\n",
        "    'text-align': 'center',\n",
        "    'max-width': '384px',\n",
        "}\n",
        "\n",
        "plot_card = {\n",
        "    'margin-bottom': '24px',\n",
        "    'box-shadow': '0 4px 6px 0 rgba(0, 0, 0, 0.18)'\n",
        "}\n",
        "\n",
        "wrapper = {\n",
        "    'margin-right': 'auto',\n",
        "    'margin-left': 'auto',\n",
        "    'max-width': '1024px',\n",
        "    'padding-right': '10px',\n",
        "    'padding-left': '10px',\n",
        "    'margin-top': '32px',\n",
        "    'font-family': '\"Lato\", sans-serif',\n",
        "    'background-color': '#F7F7F7'\n",
        "}"
      ],
      "metadata": {
        "id": "ZigJvlMPGR59"
      },
      "execution_count": 19,
      "outputs": []
    },
    {
      "cell_type": "markdown",
      "source": [
        "Once we defined the styles and the layout we can combine them using slash. Here Div objects correspond to `<div>` tags in html, the parameter `children` indicates all the following tags that depend on the `div` object. Once our layout is finished we can run our application server in external mode so it can be run in your localhost in this case in http://127.0.0.1:8050/ ."
      ],
      "metadata": {
        "id": "PP2KSPebJtuy"
      }
    },
    {
      "cell_type": "code",
      "source": [
        "app = JupyterDash(__name__)\n",
        "app.layout = html.Div(\n",
        "    children=[\n",
        "        html.Div(\n",
        "            children=[\n",
        "                html.H1(children=\"Using Dash\", style=header_title),\n",
        "                html.P(\n",
        "                    children=\"Analyze the salary monthly net alongside the years of experience\",\n",
        "                    style=header_description\n",
        "                )     \n",
        "            ],\n",
        "            style=header),\n",
        "        html.Div(\n",
        "            children=[\n",
        "                dcc.Graph(figure=studies_level_count_fig),\n",
        "                dcc.Graph(figure=studies_level_mean_fig),\n",
        "                dcc.Graph(figure=grouped_studies_level_fig)         \n",
        "            ],\n",
        "            style=plot_card,\n",
        "        )\n",
        "    ],\n",
        "    style=wrapper\n",
        ")\n",
        "\n",
        "if __name__ =='__main__':\n",
        "    app.run_server(mode=\"external\")"
      ],
      "metadata": {
        "id": "Dm7dDVuDNs1P",
        "colab": {
          "base_uri": "https://localhost:8080/",
          "height": 52
        },
        "outputId": "0e684d17-7044-4d7a-81fd-73ea8e722277"
      },
      "execution_count": 20,
      "outputs": [
        {
          "output_type": "stream",
          "name": "stdout",
          "text": [
            "Dash app running on:\n"
          ]
        },
        {
          "output_type": "display_data",
          "data": {
            "application/javascript": [
              "(async (port, path, text, element) => {\n",
              "    if (!google.colab.kernel.accessAllowed) {\n",
              "      return;\n",
              "    }\n",
              "    element.appendChild(document.createTextNode(''));\n",
              "    const url = await google.colab.kernel.proxyPort(port);\n",
              "    const anchor = document.createElement('a');\n",
              "    anchor.href = new URL(path, url).toString();\n",
              "    anchor.target = '_blank';\n",
              "    anchor.setAttribute('data-href', url + path);\n",
              "    anchor.textContent = text;\n",
              "    element.appendChild(anchor);\n",
              "  })(8050, \"/\", \"http://127.0.0.1:8050/\", window.element)"
            ],
            "text/plain": [
              "<IPython.core.display.Javascript object>"
            ]
          },
          "metadata": {}
        }
      ]
    },
    {
      "cell_type": "code",
      "source": [
        ""
      ],
      "metadata": {
        "id": "O7XnoTapHHtq"
      },
      "execution_count": null,
      "outputs": []
    }
  ]
}