{
  "nbformat": 4,
  "nbformat_minor": 0,
  "metadata": {
    "colab": {
      "name": "02__descriptive_statistics.ipynb",
      "provenance": [],
      "collapsed_sections": []
    },
    "kernelspec": {
      "name": "python3",
      "display_name": "Python 3"
    },
    "language_info": {
      "name": "python"
    }
  },
  "cells": [
    {
      "cell_type": "markdown",
      "source": [
        "# Descriptive statistics"
      ],
      "metadata": {
        "id": "Q_jVkc2M6bO-"
      }
    },
    {
      "cell_type": "code",
      "execution_count": 1,
      "metadata": {
        "id": "PVjcB6Dr6INS"
      },
      "outputs": [],
      "source": [
        "import io\n",
        "import matplotlib\n",
        "import matplotlib.pyplot as plt\n",
        "import numpy\n",
        "import pandas as pd\n",
        "import seaborn\n",
        "\n",
        "seaborn.set_context('talk')"
      ]
    },
    {
      "cell_type": "markdown",
      "source": [
        "## Reading the dataset"
      ],
      "metadata": {
        "id": "WNUWjdKr6e_1"
      }
    },
    {
      "cell_type": "code",
      "source": [
        "url = 'https://www.famaf.unc.edu.ar/~nocampo043/sysarmy_survey_2020_processed.csv'\n",
        "df = pd.read_csv(url)"
      ],
      "metadata": {
        "id": "SlRWwRgE6VEo"
      },
      "execution_count": 2,
      "outputs": []
    },
    {
      "cell_type": "markdown",
      "source": [
        "# Descriptive statistics\n",
        "\n",
        "We've been organizing and visualizing data in different ways, but what insights can we get?\n",
        "\n",
        "Visualizations such as histograms or tally charts show the number of times each value is observed in a set of realizations of a random variable. This is called frequency analysis and is part of **descriptive statistics**.\n",
        "\n",
        "Visualizations limit us to estimates, but the raw data is too much to interpret together. For this, descriptive statistics also provides measures of central tendency and dispersion, which summarize properties of the realizations of the variable in a numerical value.\n",
        "\n",
        "Let's go back to the original problem with the v.a. `salary_monthly_NETt`; what information do the following metrics provide and how to use them?"
      ],
      "metadata": {
        "id": "ohT74Aty6-E1"
      }
    },
    {
      "cell_type": "code",
      "source": [
        "df[\"salary_monthly_NET\"].describe().apply(lambda s: '{0:.2f}'.format(s))"
      ],
      "metadata": {
        "colab": {
          "base_uri": "https://localhost:8080/"
        },
        "id": "bWO8zqCc7B2y",
        "outputId": "c9ea6ca3-6c47-482c-d56e-6c8d2725a93e"
      },
      "execution_count": null,
      "outputs": [
        {
          "output_type": "execute_result",
          "data": {
            "text/plain": [
              "count       5883.00\n",
              "mean       94907.95\n",
              "std        96862.26\n",
              "min            1.00\n",
              "25%        51480.00\n",
              "50%        78000.00\n",
              "75%       106000.00\n",
              "max      2080000.00\n",
              "Name: salary_monthly_NET, dtype: object"
            ]
          },
          "metadata": {},
          "execution_count": 4
        }
      ]
    },
    {
      "cell_type": "markdown",
      "source": [
        "## Measures of central tendency\n",
        "\n",
        "To obtain representative value realizations of an r.v., *measures of central tendency* are used.\n",
        "\n",
        "Given X a path and a set of realizations $x = \\{ x_1, x_2 ... \\}$ where $x_i = X(\\omega)$ for some $\\omega \\in \\Omega$, and $N = |x|$:\n",
        "\n",
        "* The **sample mean** (arithmetic) or average is calculated as:\n",
        "\n",
        "$$ \\bar{x} = \\frac{1}{N} \\sum_i^N x_i $$\n",
        "\n",
        "* The **median** is calculated:\n",
        "   1. Order the realizations such that $x_j \\leq x_{j+1}$\n",
        "   2. If the amount of data $N$ is odd, the median is the middle value: $median = x_{\\lfloor N / 2 \\rfloor +1}$\n",
        "   3. If the amount of data $N$ is even, the median is the average of the two middle values: $median = \\frac{1}{2} (x_{ N / 2 } + x_{ (N / 2) +1})$\n",
        "\n",
        "* The **mode** are the values with the greatest frequency, that is, the ones that are repeated the most."
      ],
      "metadata": {
        "id": "yN4M-elh7mSG"
      }
    },
    {
      "cell_type": "code",
      "source": [
        "df[\"salary_monthly_NET\"].mean(), df[\"salary_monthly_NET\"].median()"
      ],
      "metadata": {
        "colab": {
          "base_uri": "https://localhost:8080/"
        },
        "id": "f6PvbKH47pis",
        "outputId": "71117055-af9e-454e-eb82-a3beba400164"
      },
      "execution_count": 3,
      "outputs": [
        {
          "output_type": "execute_result",
          "data": {
            "text/plain": [
              "(94907.9491018188, 78000.0)"
            ]
          },
          "metadata": {},
          "execution_count": 3
        }
      ]
    },
    {
      "cell_type": "markdown",
      "source": [
        "**Why are the two measurements so different?**\n",
        "\n",
        "Mean properties:\n",
        "* Can be interpreted as the histogram's *center of mass*. That is, if the histogram were a wooden figure, the balance point where we can support it, and it does not fall is the mean.\n",
        "* It is susceptible to extreme values.\n",
        "\n",
        "**Is it proper for these data?**"
      ],
      "metadata": {
        "id": "gFdl09vM75iY"
      }
    },
    {
      "cell_type": "code",
      "source": [
        "max_salaries = [df[\"salary_monthly_NET\"].max(), 10**6, 500000, 400000, 300000, 200000]\n",
        "central_tendency = [\n",
        "    (max_salary, df[df[\"salary_monthly_NET\"] < max_salary][\"salary_monthly_NET\"].mean(),\n",
        "     df[df[\"salary_monthly_NET\"] < max_salary][\"salary_monthly_NET\"].median())\n",
        "    for max_salary in max_salaries\n",
        "]\n",
        "central_tendency"
      ],
      "metadata": {
        "colab": {
          "base_uri": "https://localhost:8080/"
        },
        "id": "i-3jA7Eg7_16",
        "outputId": "40557c2f-327b-430c-f631-ebddc8b10a50"
      },
      "execution_count": null,
      "outputs": [
        {
          "output_type": "execute_result",
          "data": {
            "text/plain": [
              "[(2080000.0, 94570.46320401224, 77900.0),\n",
              " (1000000, 92698.81889747956, 77522.5),\n",
              " (500000, 88151.87028949177, 77000.0),\n",
              " (400000, 85670.75178384922, 76000.0),\n",
              " (300000, 82071.23510452473, 75000.0),\n",
              " (200000, 77205.32366377127, 74824.5)]"
            ]
          },
          "metadata": {},
          "execution_count": 6
        }
      ]
    },
    {
      "cell_type": "markdown",
      "source": [
        "These numbers can be plotted to get a better intuition of the magnitude of the differences. Also, displaying a visualization can include more points.\n",
        "\n",
        "In order to create seaborn charts with different sets of data, it is often necessary to change the format of the dataframe from wide to long. See [this link](https://anvil.works/blog/tidy-data) for more information."
      ],
      "metadata": {
        "id": "pTT7r4ej8FMl"
      }
    },
    {
      "cell_type": "code",
      "source": [
        "central_tendency_max = [\n",
        "    (max_salary, df[df[\"salary_monthly_NET\"] < max_salary][\"salary_monthly_NET\"].mean(),\n",
        "     df[df[\"salary_monthly_NET\"] < max_salary][\"salary_monthly_NET\"].median())\n",
        "    for max_salary in range(50000, int(df[\"salary_monthly_NET\"].max()), 10**4)\n",
        "]\n",
        "central_tendency_max_df = pd.DataFrame(central_tendency_max,\n",
        "                                   columns=['max_salary', 'mean', 'median'])\\\n",
        "  .melt(id_vars='max_salary', var_name='metric')\n",
        "\n",
        "central_tendency_max_df[:3]"
      ],
      "metadata": {
        "colab": {
          "base_uri": "https://localhost:8080/",
          "height": 143
        },
        "id": "iwUpgq538Ekn",
        "outputId": "6193816a-835c-4097-e85d-41df559f1179"
      },
      "execution_count": 4,
      "outputs": [
        {
          "output_type": "execute_result",
          "data": {
            "text/html": [
              "\n",
              "  <div id=\"df-09f8befd-d53a-41c5-80f9-3a61225125b3\">\n",
              "    <div class=\"colab-df-container\">\n",
              "      <div>\n",
              "<style scoped>\n",
              "    .dataframe tbody tr th:only-of-type {\n",
              "        vertical-align: middle;\n",
              "    }\n",
              "\n",
              "    .dataframe tbody tr th {\n",
              "        vertical-align: top;\n",
              "    }\n",
              "\n",
              "    .dataframe thead th {\n",
              "        text-align: right;\n",
              "    }\n",
              "</style>\n",
              "<table border=\"1\" class=\"dataframe\">\n",
              "  <thead>\n",
              "    <tr style=\"text-align: right;\">\n",
              "      <th></th>\n",
              "      <th>max_salary</th>\n",
              "      <th>metric</th>\n",
              "      <th>value</th>\n",
              "    </tr>\n",
              "  </thead>\n",
              "  <tbody>\n",
              "    <tr>\n",
              "      <th>0</th>\n",
              "      <td>50000</td>\n",
              "      <td>mean</td>\n",
              "      <td>31760.877295</td>\n",
              "    </tr>\n",
              "    <tr>\n",
              "      <th>1</th>\n",
              "      <td>60000</td>\n",
              "      <td>mean</td>\n",
              "      <td>38301.665653</td>\n",
              "    </tr>\n",
              "    <tr>\n",
              "      <th>2</th>\n",
              "      <td>70000</td>\n",
              "      <td>mean</td>\n",
              "      <td>44085.591719</td>\n",
              "    </tr>\n",
              "  </tbody>\n",
              "</table>\n",
              "</div>\n",
              "      <button class=\"colab-df-convert\" onclick=\"convertToInteractive('df-09f8befd-d53a-41c5-80f9-3a61225125b3')\"\n",
              "              title=\"Convert this dataframe to an interactive table.\"\n",
              "              style=\"display:none;\">\n",
              "        \n",
              "  <svg xmlns=\"http://www.w3.org/2000/svg\" height=\"24px\"viewBox=\"0 0 24 24\"\n",
              "       width=\"24px\">\n",
              "    <path d=\"M0 0h24v24H0V0z\" fill=\"none\"/>\n",
              "    <path d=\"M18.56 5.44l.94 2.06.94-2.06 2.06-.94-2.06-.94-.94-2.06-.94 2.06-2.06.94zm-11 1L8.5 8.5l.94-2.06 2.06-.94-2.06-.94L8.5 2.5l-.94 2.06-2.06.94zm10 10l.94 2.06.94-2.06 2.06-.94-2.06-.94-.94-2.06-.94 2.06-2.06.94z\"/><path d=\"M17.41 7.96l-1.37-1.37c-.4-.4-.92-.59-1.43-.59-.52 0-1.04.2-1.43.59L10.3 9.45l-7.72 7.72c-.78.78-.78 2.05 0 2.83L4 21.41c.39.39.9.59 1.41.59.51 0 1.02-.2 1.41-.59l7.78-7.78 2.81-2.81c.8-.78.8-2.07 0-2.86zM5.41 20L4 18.59l7.72-7.72 1.47 1.35L5.41 20z\"/>\n",
              "  </svg>\n",
              "      </button>\n",
              "      \n",
              "  <style>\n",
              "    .colab-df-container {\n",
              "      display:flex;\n",
              "      flex-wrap:wrap;\n",
              "      gap: 12px;\n",
              "    }\n",
              "\n",
              "    .colab-df-convert {\n",
              "      background-color: #E8F0FE;\n",
              "      border: none;\n",
              "      border-radius: 50%;\n",
              "      cursor: pointer;\n",
              "      display: none;\n",
              "      fill: #1967D2;\n",
              "      height: 32px;\n",
              "      padding: 0 0 0 0;\n",
              "      width: 32px;\n",
              "    }\n",
              "\n",
              "    .colab-df-convert:hover {\n",
              "      background-color: #E2EBFA;\n",
              "      box-shadow: 0px 1px 2px rgba(60, 64, 67, 0.3), 0px 1px 3px 1px rgba(60, 64, 67, 0.15);\n",
              "      fill: #174EA6;\n",
              "    }\n",
              "\n",
              "    [theme=dark] .colab-df-convert {\n",
              "      background-color: #3B4455;\n",
              "      fill: #D2E3FC;\n",
              "    }\n",
              "\n",
              "    [theme=dark] .colab-df-convert:hover {\n",
              "      background-color: #434B5C;\n",
              "      box-shadow: 0px 1px 3px 1px rgba(0, 0, 0, 0.15);\n",
              "      filter: drop-shadow(0px 1px 2px rgba(0, 0, 0, 0.3));\n",
              "      fill: #FFFFFF;\n",
              "    }\n",
              "  </style>\n",
              "\n",
              "      <script>\n",
              "        const buttonEl =\n",
              "          document.querySelector('#df-09f8befd-d53a-41c5-80f9-3a61225125b3 button.colab-df-convert');\n",
              "        buttonEl.style.display =\n",
              "          google.colab.kernel.accessAllowed ? 'block' : 'none';\n",
              "\n",
              "        async function convertToInteractive(key) {\n",
              "          const element = document.querySelector('#df-09f8befd-d53a-41c5-80f9-3a61225125b3');\n",
              "          const dataTable =\n",
              "            await google.colab.kernel.invokeFunction('convertToInteractive',\n",
              "                                                     [key], {});\n",
              "          if (!dataTable) return;\n",
              "\n",
              "          const docLinkHtml = 'Like what you see? Visit the ' +\n",
              "            '<a target=\"_blank\" href=https://colab.research.google.com/notebooks/data_table.ipynb>data table notebook</a>'\n",
              "            + ' to learn more about interactive tables.';\n",
              "          element.innerHTML = '';\n",
              "          dataTable['output_type'] = 'display_data';\n",
              "          await google.colab.output.renderOutput(dataTable, element);\n",
              "          const docLink = document.createElement('div');\n",
              "          docLink.innerHTML = docLinkHtml;\n",
              "          element.appendChild(docLink);\n",
              "        }\n",
              "      </script>\n",
              "    </div>\n",
              "  </div>\n",
              "  "
            ],
            "text/plain": [
              "   max_salary metric         value\n",
              "0       50000   mean  31760.877295\n",
              "1       60000   mean  38301.665653\n",
              "2       70000   mean  44085.591719"
            ]
          },
          "metadata": {},
          "execution_count": 4
        }
      ]
    },
    {
      "cell_type": "code",
      "source": [
        "fig = plt.figure(figsize=(15, 5))\n",
        "seaborn.lineplot(data=central_tendency_max_df, x='max_salary', y='value', hue='metric')\n",
        "plt.ticklabel_format(style='plain', axis='x')\n",
        "seaborn.despine()"
      ],
      "metadata": {
        "colab": {
          "base_uri": "https://localhost:8080/",
          "height": 355
        },
        "id": "qJEH-yYJ8oNr",
        "outputId": "667ef945-3190-4c89-e764-5a811c4dabe0"
      },
      "execution_count": 5,
      "outputs": [
        {
          "output_type": "display_data",
          "data": {
            "image/png": "[encoded data removed]",
            "text/plain": [
              "<Figure size 1080x360 with 1 Axes>"
            ]
          },
          "metadata": {
            "needs_background": "light"
          }
        }
      ]
    },
    {
      "cell_type": "code",
      "source": [
        "## The difference is not always visible on the charts\n",
        "fig, axes = plt.subplots(nrows=2, figsize=(16, 8))\n",
        "seaborn.histplot(df[\"salary_monthly_NET\"], bins=100, ax=axes[0], color='gray')\n",
        "axes[0].axvline(df[\"salary_monthly_NET\"].mean(), color='orangered',\n",
        "            linestyle='--', label='Media')\n",
        "axes[0].axvline(df[\"salary_monthly_NET\"].median(), color='indigo',\n",
        "            linestyle='-.', label='Mediana')\n",
        "\n",
        "filtered_df = df[df[\"salary_monthly_NET\"] < 200000]\n",
        "seaborn.histplot(filtered_df[\"salary_monthly_NET\"], bins=100, ax=axes[1], color='gray')\n",
        "axes[1].axvline(filtered_df[\"salary_monthly_NET\"].mean(), color='orangered',\n",
        "            linestyle='--', label='Media')\n",
        "axes[1].axvline(filtered_df[\"salary_monthly_NET\"].median(), color='indigo',\n",
        "            linestyle='-.', label='Mediana')\n",
        "\n",
        "axes[0].legend()\n",
        "seaborn.despine()"
      ],
      "metadata": {
        "colab": {
          "base_uri": "https://localhost:8080/",
          "height": 519
        },
        "id": "1JAMSsgj8ugc",
        "outputId": "dd603e20-9cea-45f1-9cc4-ac8e138404db"
      },
      "execution_count": null,
      "outputs": [
        {
          "output_type": "display_data",
          "data": {
            "image/png": "[encoded data removed]",
            "text/plain": [
              "<Figure size 1152x576 with 2 Axes>"
            ]
          },
          "metadata": {
            "needs_background": "light"
          }
        }
      ]
    },
    {
      "cell_type": "markdown",
      "source": [
        "What can we say about the mode? The result of the function is not a value, it's a set of values, even though the set has a unique element."
      ],
      "metadata": {
        "id": "gakEEGXYzbRg"
      }
    },
    {
      "cell_type": "code",
      "source": [
        "df.profile_gender.mode()"
      ],
      "metadata": {
        "colab": {
          "base_uri": "https://localhost:8080/"
        },
        "id": "UhRjyQXwzcK_",
        "outputId": "2216da45-02a8-4a55-cf9b-284a10f011ba"
      },
      "execution_count": null,
      "outputs": [
        {
          "output_type": "execute_result",
          "data": {
            "text/plain": [
              "0    Male\n",
              "dtype: object"
            ]
          },
          "metadata": {},
          "execution_count": 10
        }
      ]
    },
    {
      "cell_type": "markdown",
      "source": [
        "## Measures of dispersion\n",
        "\n",
        "The most used measures of dispersion are standard deviation, variance, and variance coefficient. They permit to represent properties of our data with one number.\n",
        "\n",
        "For example, let's compare the net salary with the gross one. Do you think we should note any difference?"
      ],
      "metadata": {
        "id": "H3ZvoTvizjjC"
      }
    },
    {
      "cell_type": "code",
      "source": [
        "df[['salary_monthly_NET', 'salary_monthly_GROSS']].describe().round()"
      ],
      "metadata": {
        "colab": {
          "base_uri": "https://localhost:8080/",
          "height": 300
        },
        "id": "2ih3UkOs0iIY",
        "outputId": "3d430275-1bfe-4ad8-d9e0-afad79c81821"
      },
      "execution_count": null,
      "outputs": [
        {
          "output_type": "execute_result",
          "data": {
            "text/html": [
              "\n",
              "  <div id=\"df-9be39061-4bd6-4594-8743-6163e9b419a0\">\n",
              "    <div class=\"colab-df-container\">\n",
              "      <div>\n",
              "<style scoped>\n",
              "    .dataframe tbody tr th:only-of-type {\n",
              "        vertical-align: middle;\n",
              "    }\n",
              "\n",
              "    .dataframe tbody tr th {\n",
              "        vertical-align: top;\n",
              "    }\n",
              "\n",
              "    .dataframe thead th {\n",
              "        text-align: right;\n",
              "    }\n",
              "</style>\n",
              "<table border=\"1\" class=\"dataframe\">\n",
              "  <thead>\n",
              "    <tr style=\"text-align: right;\">\n",
              "      <th></th>\n",
              "      <th>salary_monthly_NET</th>\n",
              "      <th>salary_monthly_GROSS</th>\n",
              "    </tr>\n",
              "  </thead>\n",
              "  <tbody>\n",
              "    <tr>\n",
              "      <th>count</th>\n",
              "      <td>5883.0</td>\n",
              "      <td>6095.0</td>\n",
              "    </tr>\n",
              "    <tr>\n",
              "      <th>mean</th>\n",
              "      <td>94908.0</td>\n",
              "      <td>124059.0</td>\n",
              "    </tr>\n",
              "    <tr>\n",
              "      <th>std</th>\n",
              "      <td>96862.0</td>\n",
              "      <td>122912.0</td>\n",
              "    </tr>\n",
              "    <tr>\n",
              "      <th>min</th>\n",
              "      <td>1.0</td>\n",
              "      <td>1.0</td>\n",
              "    </tr>\n",
              "    <tr>\n",
              "      <th>25%</th>\n",
              "      <td>51480.0</td>\n",
              "      <td>61595.0</td>\n",
              "    </tr>\n",
              "    <tr>\n",
              "      <th>50%</th>\n",
              "      <td>78000.0</td>\n",
              "      <td>96000.0</td>\n",
              "    </tr>\n",
              "    <tr>\n",
              "      <th>75%</th>\n",
              "      <td>106000.0</td>\n",
              "      <td>145000.0</td>\n",
              "    </tr>\n",
              "    <tr>\n",
              "      <th>max</th>\n",
              "      <td>2080000.0</td>\n",
              "      <td>2180000.0</td>\n",
              "    </tr>\n",
              "  </tbody>\n",
              "</table>\n",
              "</div>\n",
              "      <button class=\"colab-df-convert\" onclick=\"convertToInteractive('df-9be39061-4bd6-4594-8743-6163e9b419a0')\"\n",
              "              title=\"Convert this dataframe to an interactive table.\"\n",
              "              style=\"display:none;\">\n",
              "        \n",
              "  <svg xmlns=\"http://www.w3.org/2000/svg\" height=\"24px\"viewBox=\"0 0 24 24\"\n",
              "       width=\"24px\">\n",
              "    <path d=\"M0 0h24v24H0V0z\" fill=\"none\"/>\n",
              "    <path d=\"M18.56 5.44l.94 2.06.94-2.06 2.06-.94-2.06-.94-.94-2.06-.94 2.06-2.06.94zm-11 1L8.5 8.5l.94-2.06 2.06-.94-2.06-.94L8.5 2.5l-.94 2.06-2.06.94zm10 10l.94 2.06.94-2.06 2.06-.94-2.06-.94-.94-2.06-.94 2.06-2.06.94z\"/><path d=\"M17.41 7.96l-1.37-1.37c-.4-.4-.92-.59-1.43-.59-.52 0-1.04.2-1.43.59L10.3 9.45l-7.72 7.72c-.78.78-.78 2.05 0 2.83L4 21.41c.39.39.9.59 1.41.59.51 0 1.02-.2 1.41-.59l7.78-7.78 2.81-2.81c.8-.78.8-2.07 0-2.86zM5.41 20L4 18.59l7.72-7.72 1.47 1.35L5.41 20z\"/>\n",
              "  </svg>\n",
              "      </button>\n",
              "      \n",
              "  <style>\n",
              "    .colab-df-container {\n",
              "      display:flex;\n",
              "      flex-wrap:wrap;\n",
              "      gap: 12px;\n",
              "    }\n",
              "\n",
              "    .colab-df-convert {\n",
              "      background-color: #E8F0FE;\n",
              "      border: none;\n",
              "      border-radius: 50%;\n",
              "      cursor: pointer;\n",
              "      display: none;\n",
              "      fill: #1967D2;\n",
              "      height: 32px;\n",
              "      padding: 0 0 0 0;\n",
              "      width: 32px;\n",
              "    }\n",
              "\n",
              "    .colab-df-convert:hover {\n",
              "      background-color: #E2EBFA;\n",
              "      box-shadow: 0px 1px 2px rgba(60, 64, 67, 0.3), 0px 1px 3px 1px rgba(60, 64, 67, 0.15);\n",
              "      fill: #174EA6;\n",
              "    }\n",
              "\n",
              "    [theme=dark] .colab-df-convert {\n",
              "      background-color: #3B4455;\n",
              "      fill: #D2E3FC;\n",
              "    }\n",
              "\n",
              "    [theme=dark] .colab-df-convert:hover {\n",
              "      background-color: #434B5C;\n",
              "      box-shadow: 0px 1px 3px 1px rgba(0, 0, 0, 0.15);\n",
              "      filter: drop-shadow(0px 1px 2px rgba(0, 0, 0, 0.3));\n",
              "      fill: #FFFFFF;\n",
              "    }\n",
              "  </style>\n",
              "\n",
              "      <script>\n",
              "        const buttonEl =\n",
              "          document.querySelector('#df-9be39061-4bd6-4594-8743-6163e9b419a0 button.colab-df-convert');\n",
              "        buttonEl.style.display =\n",
              "          google.colab.kernel.accessAllowed ? 'block' : 'none';\n",
              "\n",
              "        async function convertToInteractive(key) {\n",
              "          const element = document.querySelector('#df-9be39061-4bd6-4594-8743-6163e9b419a0');\n",
              "          const dataTable =\n",
              "            await google.colab.kernel.invokeFunction('convertToInteractive',\n",
              "                                                     [key], {});\n",
              "          if (!dataTable) return;\n",
              "\n",
              "          const docLinkHtml = 'Like what you see? Visit the ' +\n",
              "            '<a target=\"_blank\" href=https://colab.research.google.com/notebooks/data_table.ipynb>data table notebook</a>'\n",
              "            + ' to learn more about interactive tables.';\n",
              "          element.innerHTML = '';\n",
              "          dataTable['output_type'] = 'display_data';\n",
              "          await google.colab.output.renderOutput(dataTable, element);\n",
              "          const docLink = document.createElement('div');\n",
              "          docLink.innerHTML = docLinkHtml;\n",
              "          element.appendChild(docLink);\n",
              "        }\n",
              "      </script>\n",
              "    </div>\n",
              "  </div>\n",
              "  "
            ],
            "text/plain": [
              "       salary_monthly_NET  salary_monthly_GROSS\n",
              "count              5883.0                6095.0\n",
              "mean              94908.0              124059.0\n",
              "std               96862.0              122912.0\n",
              "min                   1.0                   1.0\n",
              "25%               51480.0               61595.0\n",
              "50%               78000.0               96000.0\n",
              "75%              106000.0              145000.0\n",
              "max             2080000.0             2180000.0"
            ]
          },
          "metadata": {},
          "execution_count": 11
        }
      ]
    },
    {
      "cell_type": "markdown",
      "source": [
        "Clearly, both distributions are centered in different values. However, what can we say about its dispersion?.\n",
        "\n",
        "Since we are talking about two different r.v. we can't compare them directly. We need to use the variance coefficient."
      ],
      "metadata": {
        "id": "kezxWOoK0qoQ"
      }
    },
    {
      "cell_type": "code",
      "source": [
        "from scipy.stats import variation\n",
        "\n",
        "print(\"Gross salary variance coefficient:\", variation(df.salary_monthly_GROSS))\n",
        "print(\"Net salary variance coefficient:\", variation(df.salary_monthly_NET.dropna()))"
      ],
      "metadata": {
        "colab": {
          "base_uri": "https://localhost:8080/"
        },
        "id": "ujRp5EiO4_SJ",
        "outputId": "36ecc29b-5923-4687-a778-94dcf480169e"
      },
      "execution_count": null,
      "outputs": [
        {
          "output_type": "stream",
          "name": "stdout",
          "text": [
            "Gross salary variance coefficient: 0.9906795521353624\n",
            "Net salary variance coefficient: 1.0205048799041485\n"
          ]
        }
      ]
    },
    {
      "cell_type": "markdown",
      "source": [
        "## Removing outliers\n",
        "\n",
        "## Using percentiles \n",
        "\n",
        "One possible approach to delete outliers that affect the measures of centrality (mean, median, and visualizations) is to find an extreme percentage of our data through percentiles.\n",
        "\n",
        "For example, we can retain the 99% lowest salaries and eliminate the remaining 1%. We can calculate all the possible percentiles to decide which is appropriate."
      ],
      "metadata": {
        "id": "ZS6gfwLb4d7f"
      }
    },
    {
      "cell_type": "code",
      "source": [
        "k = 90\n",
        "percentil_90 = df[\"salary_monthly_NET\"].quantile(k / 100)\n",
        "nof_below = len(df[df[\"salary_monthly_NET\"] < percentil_90])\n",
        "nof_above = len(df[df[\"salary_monthly_NET\"] > percentil_90])\n",
        "print('Percentil {} of the column {}: {}'.format(k, \"salary_monthly_NET\", percentil_90))\n",
        "print('% of data below the percentil {}: {}'.format(k, nof_below / len(df)))\n",
        "print('% of data above the percentil {}: {}'.format(k, nof_above / len(df)))"
      ],
      "metadata": {
        "colab": {
          "base_uri": "https://localhost:8080/"
        },
        "id": "07vpH6UB7dXj",
        "outputId": "887b16b9-1ddd-4599-b219-635772ecc7bd"
      },
      "execution_count": null,
      "outputs": [
        {
          "output_type": "stream",
          "name": "stdout",
          "text": [
            "Percentil 90 of the column salary_monthly_NET: 150000.0\n",
            "% of data below the percentil 90: 0.8592288761279737\n",
            "% of data above the percentil 90: 0.09532403609515996\n"
          ]
        }
      ]
    },
    {
      "cell_type": "code",
      "source": [
        "df[\"salary_monthly_NET\"].quantile([.95, .98, .99, .995, .998])"
      ],
      "metadata": {
        "colab": {
          "base_uri": "https://localhost:8080/"
        },
        "id": "CZuvCpdn7lWd",
        "outputId": "5af13cb7-b686-42ff-eff2-ad0bbe2cc7f4"
      },
      "execution_count": null,
      "outputs": [
        {
          "output_type": "execute_result",
          "data": {
            "text/plain": [
              "0.950    210000.00\n",
              "0.980    370000.00\n",
              "0.990    491800.00\n",
              "0.995    650000.00\n",
              "0.998    955289.52\n",
              "Name: salary_monthly_NET, dtype: float64"
            ]
          },
          "metadata": {},
          "execution_count": 22
        }
      ]
    },
    {
      "cell_type": "code",
      "source": [
        "plt.figure(figsize=(12, 4))\n",
        "max_limit = df[\"salary_monthly_NET\"].quantile(.98)\n",
        "seaborn.boxenplot(x=df[df[\"salary_monthly_NET\"] < max_limit][\"salary_monthly_NET\"])"
      ],
      "metadata": {
        "colab": {
          "base_uri": "https://localhost:8080/",
          "height": 318
        },
        "id": "SkFh_s3j8L94",
        "outputId": "addd8802-4c92-4515-cc32-0de06b3dea7e"
      },
      "execution_count": 7,
      "outputs": [
        {
          "output_type": "execute_result",
          "data": {
            "text/plain": [
              "<matplotlib.axes._subplots.AxesSubplot at 0x7f4385851f50>"
            ]
          },
          "metadata": {},
          "execution_count": 7
        },
        {
          "output_type": "display_data",
          "data": {
            "image/png": "[encoded data removed]",
            "text/plain": [
              "<Figure size 864x288 with 1 Axes>"
            ]
          },
          "metadata": {
            "needs_background": "light"
          }
        }
      ]
    },
    {
      "cell_type": "code",
      "source": [
        "fig, axes = plt.subplots(figsize=(12, 12), nrows=3)\n",
        "max_limit = df[\"salary_monthly_NET\"].quantile(.98)\n",
        "data = df[df[\"salary_monthly_NET\"] < max_limit][\"salary_monthly_NET\"]\n",
        "seaborn.histplot(x=data, ax=axes[0])\n",
        "seaborn.boxplot(x=data, ax=axes[1])\n",
        "seaborn.boxenplot(x=data, ax=axes[2])"
      ],
      "metadata": {
        "colab": {
          "base_uri": "https://localhost:8080/",
          "height": 760
        },
        "id": "Ph1UWG9P_1yA",
        "outputId": "ecf06589-e15e-4802-eeea-0d783366ceb2"
      },
      "execution_count": null,
      "outputs": [
        {
          "output_type": "execute_result",
          "data": {
            "text/plain": [
              "<matplotlib.axes._subplots.AxesSubplot at 0x7f1a6fe92610>"
            ]
          },
          "metadata": {},
          "execution_count": 24
        },
        {
          "output_type": "display_data",
          "data": {
            "image/png": "[encoded data removed]",
            "text/plain": [
              "<Figure size 864x864 with 3 Axes>"
            ]
          },
          "metadata": {
            "needs_background": "light"
          }
        }
      ]
    },
    {
      "cell_type": "code",
      "source": [
        "df[df[\"salary_monthly_NET\"] < max_limit][\"salary_monthly_NET\"].describe()"
      ],
      "metadata": {
        "colab": {
          "base_uri": "https://localhost:8080/"
        },
        "id": "qS_DSGQ4-fma",
        "outputId": "cd3166f1-8b43-4434-d940-ec33cd49ea4a"
      },
      "execution_count": 8,
      "outputs": [
        {
          "output_type": "execute_result",
          "data": {
            "text/plain": [
              "count      5764.000000\n",
              "mean      84693.019009\n",
              "std       52928.345117\n",
              "min           1.000000\n",
              "25%       50678.000000\n",
              "50%       76000.000000\n",
              "75%      105000.000000\n",
              "max      368300.000000\n",
              "Name: salary_monthly_NET, dtype: float64"
            ]
          },
          "metadata": {},
          "execution_count": 8
        }
      ]
    },
    {
      "cell_type": "markdown",
      "source": [
        "## Using interquartile range"
      ],
      "metadata": {
        "id": "7GvCP2b7ALJW"
      }
    },
    {
      "cell_type": "code",
      "source": [
        "def clean_outliers_q3(dataset, column_name):\n",
        "    \"\"\"Returns dataset removing the outlier rows from column @column_name.\"\"\"\n",
        "    interesting_col = dataset[column_name]\n",
        "    # Here we can remove the outliers from both ends, or even add more restrictions.\n",
        "    mask_outlier = (interesting_col <= (2.5 * interesting_col.quantile(.75)))\n",
        "    return dataset[mask_outlier]"
      ],
      "metadata": {
        "id": "HBC268rDArQy"
      },
      "execution_count": null,
      "outputs": []
    },
    {
      "cell_type": "code",
      "source": [
        "fig = plt.figure(figsize=(12, 4))\n",
        "data = clean_outliers_q3(df, \"salary_monthly_NET\")[\"salary_monthly_NET\"]\n",
        "seaborn.histplot(x=data)"
      ],
      "metadata": {
        "id": "X9o68kHHA_il"
      },
      "execution_count": null,
      "outputs": []
    },
    {
      "cell_type": "code",
      "source": [
        "def clean_outliers_sd(dataset, column_name):\n",
        "    \"\"\"Returns dataset removing the outlier rows from column @column_name.\"\"\"\n",
        "    interesting_col = dataset[column_name]\n",
        "    # Here we can remove the outliers from both ends, or even add more restrictions.\n",
        "    mask_outlier = (\n",
        "        numpy.abs(interesting_col - interesting_col.mean()) <=\n",
        "        (2.5 * interesting_col.std()))\n",
        "    return dataset[mask_outlier]"
      ],
      "metadata": {
        "id": "YF6s_KASAy0r"
      },
      "execution_count": null,
      "outputs": []
    },
    {
      "cell_type": "code",
      "source": [
        "fig = plt.figure(figsize=(12, 4))\n",
        "data = clean_outliers_sd(df, \"salary_monthly_NET\")[\"salary_monthly_NET\"]\n",
        "seaborn.histplot(x=data)"
      ],
      "metadata": {
        "id": "aIjIZzerA5Vz"
      },
      "execution_count": null,
      "outputs": []
    },
    {
      "cell_type": "markdown",
      "source": [
        "### Don't forget to check what you're removing!\n",
        "\n",
        "Who are the ones with a high salary?"
      ],
      "metadata": {
        "id": "qVbfAnoRBr_V"
      }
    },
    {
      "cell_type": "code",
      "source": [
        "df[df[\"salary_monthly_NET\"] > df[\"salary_monthly_NET\"].quantile(0.98)]"
      ],
      "metadata": {
        "colab": {
          "base_uri": "https://localhost:8080/",
          "height": 1000
        },
        "id": "7iBqaqsPBqCS",
        "outputId": "5d9c8d34-ff3b-487f-9bcf-368b0afa149b"
      },
      "execution_count": null,
      "outputs": [
        {
          "output_type": "execute_result",
          "data": {
            "text/html": [
              "\n",
              "  <div id=\"df-3f2d3c0e-fdec-4d42-b016-caa51e68d807\">\n",
              "    <div class=\"colab-df-container\">\n",
              "      <div>\n",
              "<style scoped>\n",
              "    .dataframe tbody tr th:only-of-type {\n",
              "        vertical-align: middle;\n",
              "    }\n",
              "\n",
              "    .dataframe tbody tr th {\n",
              "        vertical-align: top;\n",
              "    }\n",
              "\n",
              "    .dataframe thead th {\n",
              "        text-align: right;\n",
              "    }\n",
              "</style>\n",
              "<table border=\"1\" class=\"dataframe\">\n",
              "  <thead>\n",
              "    <tr style=\"text-align: right;\">\n",
              "      <th></th>\n",
              "      <th>profile_gender</th>\n",
              "      <th>profile_age</th>\n",
              "      <th>work_country</th>\n",
              "      <th>work_province</th>\n",
              "      <th>profile_years_experience</th>\n",
              "      <th>work_years_in_company</th>\n",
              "      <th>work_years_in_current_position</th>\n",
              "      <th>work_people_in_charge_of</th>\n",
              "      <th>profile_studies_level</th>\n",
              "      <th>profile_studies_level_state</th>\n",
              "      <th>profile_career</th>\n",
              "      <th>profile_university</th>\n",
              "      <th>profile_specialization_courses</th>\n",
              "      <th>profile_open_source_contributions</th>\n",
              "      <th>profile_programming_as_hobby</th>\n",
              "      <th>work_role</th>\n",
              "      <th>tools_platform</th>\n",
              "      <th>tools_programming_languages</th>\n",
              "      <th>tools_frameworks</th>\n",
              "      <th>tools_data_bases</th>\n",
              "      <th>tools_qa_testing</th>\n",
              "      <th>tools_IDEs</th>\n",
              "      <th>tools_work_pc_os</th>\n",
              "      <th>tools_cellphone_os</th>\n",
              "      <th>work_on_call_duty</th>\n",
              "      <th>salary_on_call_duty_charge</th>\n",
              "      <th>work_on_call_duty_charge_type</th>\n",
              "      <th>work_contract_type</th>\n",
              "      <th>salary_monthly_GROSS</th>\n",
              "      <th>salary_monthly_NET</th>\n",
              "      <th>salary_in_usd</th>\n",
              "      <th>salary_satisfaction</th>\n",
              "      <th>salary_comparison_last_semester</th>\n",
              "      <th>salary_has_bonus</th>\n",
              "      <th>salary_inflation_adjustment_2020</th>\n",
              "      <th>salary_percentage_inflation_adjustment_2020</th>\n",
              "      <th>salary_month_last_inflation_adjustment</th>\n",
              "      <th>work_has_violence_situations</th>\n",
              "      <th>profile_has_disabilities_hiring_difficulties</th>\n",
              "      <th>company_employee_number</th>\n",
              "      <th>company_main_activity</th>\n",
              "      <th>company_recommended</th>\n",
              "      <th>company_diversity_policies</th>\n",
              "    </tr>\n",
              "  </thead>\n",
              "  <tbody>\n",
              "    <tr>\n",
              "      <th>261</th>\n",
              "      <td>Male</td>\n",
              "      <td>37</td>\n",
              "      <td>Argentina</td>\n",
              "      <td>Ciudad Autónoma de Buenos Aires</td>\n",
              "      <td>21.0</td>\n",
              "      <td>10.0</td>\n",
              "      <td>10.0</td>\n",
              "      <td>17</td>\n",
              "      <td>University</td>\n",
              "      <td>Incomplete</td>\n",
              "      <td>NaN</td>\n",
              "      <td>NaN</td>\n",
              "      <td>No</td>\n",
              "      <td>Yes</td>\n",
              "      <td>Yes</td>\n",
              "      <td>VP / C-Level</td>\n",
              "      <td>Docker, Firebase, Google Cloud Platform/App En...</td>\n",
              "      <td>Bash/Shell, Go, HTML, Javascript, Perl, PHP, P...</td>\n",
              "      <td>jQuery, Rails, React.js</td>\n",
              "      <td>Google Cloud Storage, MariaDB, MySQL, Percona ...</td>\n",
              "      <td>None</td>\n",
              "      <td>Vi, Vim</td>\n",
              "      <td>GNU/Linux</td>\n",
              "      <td>Android</td>\n",
              "      <td>No</td>\n",
              "      <td>0.0</td>\n",
              "      <td>Percentage of my salary</td>\n",
              "      <td>Full-Time</td>\n",
              "      <td>800000.0</td>\n",
              "      <td>500000.0</td>\n",
              "      <td>NaN</td>\n",
              "      <td>4</td>\n",
              "      <td>4</td>\n",
              "      <td>3+ salaries</td>\n",
              "      <td>One</td>\n",
              "      <td>20.0</td>\n",
              "      <td>4</td>\n",
              "      <td>Never</td>\n",
              "      <td>NaN</td>\n",
              "      <td>5001-10000</td>\n",
              "      <td>Software based product</td>\n",
              "      <td>9</td>\n",
              "      <td>9</td>\n",
              "    </tr>\n",
              "    <tr>\n",
              "      <th>267</th>\n",
              "      <td>Other</td>\n",
              "      <td>40</td>\n",
              "      <td>Argentina</td>\n",
              "      <td>Provincia de Buenos Aires</td>\n",
              "      <td>20.0</td>\n",
              "      <td>0.0</td>\n",
              "      <td>0.0</td>\n",
              "      <td>0</td>\n",
              "      <td>University</td>\n",
              "      <td>Incomplete</td>\n",
              "      <td>Ingeniería en Sistemas de Información</td>\n",
              "      <td>UNICEN - Universidad Nacional del Centro de la...</td>\n",
              "      <td>No</td>\n",
              "      <td>No</td>\n",
              "      <td>Yes</td>\n",
              "      <td>Developer</td>\n",
              "      <td>Amazon Web Services, Linux</td>\n",
              "      <td>Bash/Shell, Python, SQL</td>\n",
              "      <td>Django, React.js</td>\n",
              "      <td>MongoDB, Neo4j, PostgreSQL, Redis</td>\n",
              "      <td>None</td>\n",
              "      <td>PyCharm, Vim, Visual Studio Code</td>\n",
              "      <td>macOS</td>\n",
              "      <td>iOS</td>\n",
              "      <td>No</td>\n",
              "      <td>0.0</td>\n",
              "      <td>Gross</td>\n",
              "      <td>Remote (company from another country)</td>\n",
              "      <td>420000.0</td>\n",
              "      <td>380000.0</td>\n",
              "      <td>My salary is dollarized</td>\n",
              "      <td>4</td>\n",
              "      <td>4</td>\n",
              "      <td>One salary</td>\n",
              "      <td>No</td>\n",
              "      <td>0.0</td>\n",
              "      <td>0</td>\n",
              "      <td>Never</td>\n",
              "      <td>No</td>\n",
              "      <td>1-10</td>\n",
              "      <td>Software based product</td>\n",
              "      <td>9</td>\n",
              "      <td>10</td>\n",
              "    </tr>\n",
              "    <tr>\n",
              "      <th>303</th>\n",
              "      <td>Male</td>\n",
              "      <td>34</td>\n",
              "      <td>Argentina</td>\n",
              "      <td>Provincia de Buenos Aires</td>\n",
              "      <td>10.0</td>\n",
              "      <td>2.0</td>\n",
              "      <td>8.0</td>\n",
              "      <td>0</td>\n",
              "      <td>University</td>\n",
              "      <td>Incomplete</td>\n",
              "      <td>Ingeniería en Informática</td>\n",
              "      <td>UADE - Universidad Argentina De la Empresa</td>\n",
              "      <td>Yes, they were paid by myself</td>\n",
              "      <td>No</td>\n",
              "      <td>Yes</td>\n",
              "      <td>Developer</td>\n",
              "      <td>Docker</td>\n",
              "      <td>.NET, C#</td>\n",
              "      <td>.NET Core</td>\n",
              "      <td>PostgreSQL</td>\n",
              "      <td>NUnit</td>\n",
              "      <td>Visual Studio, Visual Studio Code, WebStorm, R...</td>\n",
              "      <td>macOS</td>\n",
              "      <td>Android</td>\n",
              "      <td>No</td>\n",
              "      <td>0.0</td>\n",
              "      <td>Percentage of my salary</td>\n",
              "      <td>Remote (company from another country)</td>\n",
              "      <td>480000.0</td>\n",
              "      <td>430000.0</td>\n",
              "      <td>My salary is dollarized</td>\n",
              "      <td>4</td>\n",
              "      <td>4</td>\n",
              "      <td>No</td>\n",
              "      <td>No</td>\n",
              "      <td>0.0</td>\n",
              "      <td>0</td>\n",
              "      <td>In a previous job</td>\n",
              "      <td>No</td>\n",
              "      <td>201-500</td>\n",
              "      <td>Services / Software Consulting / Digital</td>\n",
              "      <td>10</td>\n",
              "      <td>7</td>\n",
              "    </tr>\n",
              "    <tr>\n",
              "      <th>318</th>\n",
              "      <td>Male</td>\n",
              "      <td>40</td>\n",
              "      <td>Argentina</td>\n",
              "      <td>Santa Fe</td>\n",
              "      <td>4.0</td>\n",
              "      <td>0.0</td>\n",
              "      <td>0.0</td>\n",
              "      <td>0</td>\n",
              "      <td>Postdoc</td>\n",
              "      <td>Complete</td>\n",
              "      <td>Licenciatura en Ciencias dela Computación</td>\n",
              "      <td>UNR - Universidad Nacional de Rosario</td>\n",
              "      <td>No</td>\n",
              "      <td>Yes</td>\n",
              "      <td>Yes</td>\n",
              "      <td>Developer</td>\n",
              "      <td>Linux</td>\n",
              "      <td>C++</td>\n",
              "      <td>None</td>\n",
              "      <td>None</td>\n",
              "      <td>google test</td>\n",
              "      <td>Vim</td>\n",
              "      <td>GNU/Linux</td>\n",
              "      <td>Android</td>\n",
              "      <td>No</td>\n",
              "      <td>0.0</td>\n",
              "      <td>Net</td>\n",
              "      <td>Remote (company from another country)</td>\n",
              "      <td>650000.0</td>\n",
              "      <td>422500.0</td>\n",
              "      <td>My salary is dollarized</td>\n",
              "      <td>3</td>\n",
              "      <td>4</td>\n",
              "      <td>No</td>\n",
              "      <td>No</td>\n",
              "      <td>0.0</td>\n",
              "      <td>0</td>\n",
              "      <td>Never</td>\n",
              "      <td>NaN</td>\n",
              "      <td>1001-2000</td>\n",
              "      <td>Services / Software Consulting / Digital</td>\n",
              "      <td>8</td>\n",
              "      <td>10</td>\n",
              "    </tr>\n",
              "    <tr>\n",
              "      <th>437</th>\n",
              "      <td>Male</td>\n",
              "      <td>36</td>\n",
              "      <td>Argentina</td>\n",
              "      <td>Ciudad Autónoma de Buenos Aires</td>\n",
              "      <td>17.0</td>\n",
              "      <td>4.0</td>\n",
              "      <td>4.0</td>\n",
              "      <td>15</td>\n",
              "      <td>University</td>\n",
              "      <td>Incomplete</td>\n",
              "      <td>Ingeniería en Informática</td>\n",
              "      <td>UTN - Universidad Tecnológica Nacional</td>\n",
              "      <td>Yes, they were paid by myself</td>\n",
              "      <td>No</td>\n",
              "      <td>No</td>\n",
              "      <td>Manager / Director</td>\n",
              "      <td>None</td>\n",
              "      <td>Java</td>\n",
              "      <td>None</td>\n",
              "      <td>PostgreSQL</td>\n",
              "      <td>None</td>\n",
              "      <td>IntelliJ</td>\n",
              "      <td>macOS</td>\n",
              "      <td>iOS</td>\n",
              "      <td>Yes, passive</td>\n",
              "      <td>0.0</td>\n",
              "      <td>Percentage of my salary</td>\n",
              "      <td>Full-Time</td>\n",
              "      <td>540000.0</td>\n",
              "      <td>380000.0</td>\n",
              "      <td>NaN</td>\n",
              "      <td>3</td>\n",
              "      <td>2</td>\n",
              "      <td>One salary</td>\n",
              "      <td>No</td>\n",
              "      <td>0.0</td>\n",
              "      <td>0</td>\n",
              "      <td>In a previous job</td>\n",
              "      <td>No</td>\n",
              "      <td>1001-2000</td>\n",
              "      <td>Software based product</td>\n",
              "      <td>7</td>\n",
              "      <td>10</td>\n",
              "    </tr>\n",
              "    <tr>\n",
              "      <th>...</th>\n",
              "      <td>...</td>\n",
              "      <td>...</td>\n",
              "      <td>...</td>\n",
              "      <td>...</td>\n",
              "      <td>...</td>\n",
              "      <td>...</td>\n",
              "      <td>...</td>\n",
              "      <td>...</td>\n",
              "      <td>...</td>\n",
              "      <td>...</td>\n",
              "      <td>...</td>\n",
              "      <td>...</td>\n",
              "      <td>...</td>\n",
              "      <td>...</td>\n",
              "      <td>...</td>\n",
              "      <td>...</td>\n",
              "      <td>...</td>\n",
              "      <td>...</td>\n",
              "      <td>...</td>\n",
              "      <td>...</td>\n",
              "      <td>...</td>\n",
              "      <td>...</td>\n",
              "      <td>...</td>\n",
              "      <td>...</td>\n",
              "      <td>...</td>\n",
              "      <td>...</td>\n",
              "      <td>...</td>\n",
              "      <td>...</td>\n",
              "      <td>...</td>\n",
              "      <td>...</td>\n",
              "      <td>...</td>\n",
              "      <td>...</td>\n",
              "      <td>...</td>\n",
              "      <td>...</td>\n",
              "      <td>...</td>\n",
              "      <td>...</td>\n",
              "      <td>...</td>\n",
              "      <td>...</td>\n",
              "      <td>...</td>\n",
              "      <td>...</td>\n",
              "      <td>...</td>\n",
              "      <td>...</td>\n",
              "      <td>...</td>\n",
              "    </tr>\n",
              "    <tr>\n",
              "      <th>5799</th>\n",
              "      <td>Male</td>\n",
              "      <td>32</td>\n",
              "      <td>Argentina</td>\n",
              "      <td>Ciudad Autónoma de Buenos Aires</td>\n",
              "      <td>10.0</td>\n",
              "      <td>1.0</td>\n",
              "      <td>1.0</td>\n",
              "      <td>1</td>\n",
              "      <td>Terciary</td>\n",
              "      <td>Complete</td>\n",
              "      <td>Diseño Multimedial</td>\n",
              "      <td>Escuela Da Vinci</td>\n",
              "      <td>Yes, they were paid by myself</td>\n",
              "      <td>Yes</td>\n",
              "      <td>Yes</td>\n",
              "      <td>Developer</td>\n",
              "      <td>Digital Ocean</td>\n",
              "      <td>Javascript, PHP</td>\n",
              "      <td>Bootstrap, jQuery, Laravel, WordPress</td>\n",
              "      <td>MariaDB, MySQL</td>\n",
              "      <td>None of the previous one</td>\n",
              "      <td>PHPStorm</td>\n",
              "      <td>macOS</td>\n",
              "      <td>Android</td>\n",
              "      <td>No</td>\n",
              "      <td>0.0</td>\n",
              "      <td>Net</td>\n",
              "      <td>Remote (company from another country)</td>\n",
              "      <td>700000.0</td>\n",
              "      <td>600000.0</td>\n",
              "      <td>My salary is dollarized</td>\n",
              "      <td>4</td>\n",
              "      <td>4</td>\n",
              "      <td>Less than a salary</td>\n",
              "      <td>No</td>\n",
              "      <td>0.0</td>\n",
              "      <td>0</td>\n",
              "      <td>Never</td>\n",
              "      <td>NaN</td>\n",
              "      <td>201-500</td>\n",
              "      <td>Software based product</td>\n",
              "      <td>9</td>\n",
              "      <td>9</td>\n",
              "    </tr>\n",
              "    <tr>\n",
              "      <th>5819</th>\n",
              "      <td>Male</td>\n",
              "      <td>35</td>\n",
              "      <td>Argentina</td>\n",
              "      <td>Ciudad Autónoma de Buenos Aires</td>\n",
              "      <td>10.0</td>\n",
              "      <td>10.0</td>\n",
              "      <td>10.0</td>\n",
              "      <td>0</td>\n",
              "      <td>University</td>\n",
              "      <td>Ongoing</td>\n",
              "      <td>Tecnicatura Superior en Análisis de Sistemas</td>\n",
              "      <td>UAI - Universidad Abierta Interamericana</td>\n",
              "      <td>Yes, they were paid by myself, Yes, they were ...</td>\n",
              "      <td>No</td>\n",
              "      <td>Yes</td>\n",
              "      <td>HelpDesk</td>\n",
              "      <td>Google Cloud Platform/App Engine, Linux, Windo...</td>\n",
              "      <td>Java, Python, SQL</td>\n",
              "      <td>jQuery, WordPress</td>\n",
              "      <td>Google Cloud Storage, Microsoft SQL Server, Or...</td>\n",
              "      <td>None of the previous one</td>\n",
              "      <td>Android Studio, IPython / Jupyter, Visual Stud...</td>\n",
              "      <td>Windows</td>\n",
              "      <td>Android</td>\n",
              "      <td>No</td>\n",
              "      <td>0.0</td>\n",
              "      <td>Gross</td>\n",
              "      <td>Part-Time</td>\n",
              "      <td>986840.0</td>\n",
              "      <td>836400.0</td>\n",
              "      <td>NaN</td>\n",
              "      <td>4</td>\n",
              "      <td>3</td>\n",
              "      <td>Less than a salary</td>\n",
              "      <td>Two</td>\n",
              "      <td>23.0</td>\n",
              "      <td>7</td>\n",
              "      <td>Never</td>\n",
              "      <td>NaN</td>\n",
              "      <td>2001-5000</td>\n",
              "      <td>Other industries</td>\n",
              "      <td>9</td>\n",
              "      <td>8</td>\n",
              "    </tr>\n",
              "    <tr>\n",
              "      <th>5878</th>\n",
              "      <td>Male</td>\n",
              "      <td>54</td>\n",
              "      <td>Argentina</td>\n",
              "      <td>Ciudad Autónoma de Buenos Aires</td>\n",
              "      <td>36.0</td>\n",
              "      <td>34.0</td>\n",
              "      <td>8.0</td>\n",
              "      <td>2500</td>\n",
              "      <td>Postgraduate</td>\n",
              "      <td>Complete</td>\n",
              "      <td>Ingeniería en Sistemas de Información</td>\n",
              "      <td>UAI - Universidad Abierta Interamericana</td>\n",
              "      <td>Yes, they were paid by myself, Yes, they were ...</td>\n",
              "      <td>No</td>\n",
              "      <td>Yes</td>\n",
              "      <td>Manager / Director</td>\n",
              "      <td>Amazon Web Services, Azure, Docker, IBM Cloud ...</td>\n",
              "      <td>.NET, C#, COBOL, HTML, Java, Ruby, SQL</td>\n",
              "      <td>.NET Core, Angular, Bootstrap, Cordova, Hibernate</td>\n",
              "      <td>IBM Db2, Microsoft SQL Server, Oracle</td>\n",
              "      <td>HP LoadRunner, Puppeteer, Visual Studio Coded UI</td>\n",
              "      <td>Android Studio, Eclipse, Visual Studio</td>\n",
              "      <td>Windows</td>\n",
              "      <td>iOS</td>\n",
              "      <td>No</td>\n",
              "      <td>0.0</td>\n",
              "      <td>Percentage of my salary</td>\n",
              "      <td>Full-Time</td>\n",
              "      <td>750000.0</td>\n",
              "      <td>480000.0</td>\n",
              "      <td>NaN</td>\n",
              "      <td>4</td>\n",
              "      <td>4</td>\n",
              "      <td>No</td>\n",
              "      <td>Two</td>\n",
              "      <td>20.0</td>\n",
              "      <td>7</td>\n",
              "      <td>Never</td>\n",
              "      <td>NaN</td>\n",
              "      <td>10001+</td>\n",
              "      <td>Other industries</td>\n",
              "      <td>7</td>\n",
              "      <td>5</td>\n",
              "    </tr>\n",
              "    <tr>\n",
              "      <th>6024</th>\n",
              "      <td>Male</td>\n",
              "      <td>39</td>\n",
              "      <td>Argentina</td>\n",
              "      <td>Santa Fe</td>\n",
              "      <td>18.0</td>\n",
              "      <td>2.0</td>\n",
              "      <td>2.0</td>\n",
              "      <td>0</td>\n",
              "      <td>University</td>\n",
              "      <td>Complete</td>\n",
              "      <td>Ingeniería en Sistemas de Información</td>\n",
              "      <td>UTN - Universidad Tecnológica Nacional</td>\n",
              "      <td>Yes, they were paid by myself, Yes, they were ...</td>\n",
              "      <td>No</td>\n",
              "      <td>Yes</td>\n",
              "      <td>Architect</td>\n",
              "      <td>Amazon Web Services, Docker, Google Cloud Plat...</td>\n",
              "      <td>Go, HTML, Java, Javascript, Scala</td>\n",
              "      <td>Angular, Bootstrap, Hibernate, Node.js</td>\n",
              "      <td>Amazon RDS/Aurora, ElasticSearch, IBM Db2, Mic...</td>\n",
              "      <td>Jest, JUnit, Selenium</td>\n",
              "      <td>Eclipse, IntelliJ, Visual Studio Code</td>\n",
              "      <td>GNU/Linux</td>\n",
              "      <td>Android</td>\n",
              "      <td>No</td>\n",
              "      <td>0.0</td>\n",
              "      <td>Net</td>\n",
              "      <td>Freelance</td>\n",
              "      <td>450000.0</td>\n",
              "      <td>400000.0</td>\n",
              "      <td>My salary is dollarized</td>\n",
              "      <td>4</td>\n",
              "      <td>4</td>\n",
              "      <td>No</td>\n",
              "      <td>No</td>\n",
              "      <td>0.0</td>\n",
              "      <td>0</td>\n",
              "      <td>Never</td>\n",
              "      <td>NaN</td>\n",
              "      <td>101-200</td>\n",
              "      <td>Software based product</td>\n",
              "      <td>7</td>\n",
              "      <td>9</td>\n",
              "    </tr>\n",
              "    <tr>\n",
              "      <th>6080</th>\n",
              "      <td>Male</td>\n",
              "      <td>30</td>\n",
              "      <td>Argentina</td>\n",
              "      <td>San Luis</td>\n",
              "      <td>5.0</td>\n",
              "      <td>2.0</td>\n",
              "      <td>2.0</td>\n",
              "      <td>0</td>\n",
              "      <td>Terciary</td>\n",
              "      <td>Incomplete</td>\n",
              "      <td>Tecnicatura en Programación</td>\n",
              "      <td>Universidad de la punta</td>\n",
              "      <td>Yes, they were paid by myself</td>\n",
              "      <td>Yes</td>\n",
              "      <td>Yes</td>\n",
              "      <td>SysAdmin / DevOps / SRE</td>\n",
              "      <td>Docker, Kubernetes, Linux, OpenShift, Windows ...</td>\n",
              "      <td>Assembler, Bash/Shell, C++, HTML, Java, PHP, P...</td>\n",
              "      <td>None of the previous one</td>\n",
              "      <td>ElasticSearch, MongoDB, Percona Server</td>\n",
              "      <td>None of the previous one</td>\n",
              "      <td>NetBeans, Notepad++, Sublime Text, Vim</td>\n",
              "      <td>GNU/Linux</td>\n",
              "      <td>Android</td>\n",
              "      <td>No</td>\n",
              "      <td>0.0</td>\n",
              "      <td>Gross</td>\n",
              "      <td>Full-Time</td>\n",
              "      <td>580000.0</td>\n",
              "      <td>391000.0</td>\n",
              "      <td>My salary is dollarized</td>\n",
              "      <td>2</td>\n",
              "      <td>2</td>\n",
              "      <td>Less than a salary</td>\n",
              "      <td>No</td>\n",
              "      <td>0.0</td>\n",
              "      <td>1</td>\n",
              "      <td>In a previous job</td>\n",
              "      <td>No</td>\n",
              "      <td>501-1000</td>\n",
              "      <td>Services / Software Consulting / Digital</td>\n",
              "      <td>10</td>\n",
              "      <td>10</td>\n",
              "    </tr>\n",
              "  </tbody>\n",
              "</table>\n",
              "<p>115 rows × 43 columns</p>\n",
              "</div>\n",
              "      <button class=\"colab-df-convert\" onclick=\"convertToInteractive('df-3f2d3c0e-fdec-4d42-b016-caa51e68d807')\"\n",
              "              title=\"Convert this dataframe to an interactive table.\"\n",
              "              style=\"display:none;\">\n",
              "        \n",
              "  <svg xmlns=\"http://www.w3.org/2000/svg\" height=\"24px\"viewBox=\"0 0 24 24\"\n",
              "       width=\"24px\">\n",
              "    <path d=\"M0 0h24v24H0V0z\" fill=\"none\"/>\n",
              "    <path d=\"M18.56 5.44l.94 2.06.94-2.06 2.06-.94-2.06-.94-.94-2.06-.94 2.06-2.06.94zm-11 1L8.5 8.5l.94-2.06 2.06-.94-2.06-.94L8.5 2.5l-.94 2.06-2.06.94zm10 10l.94 2.06.94-2.06 2.06-.94-2.06-.94-.94-2.06-.94 2.06-2.06.94z\"/><path d=\"M17.41 7.96l-1.37-1.37c-.4-.4-.92-.59-1.43-.59-.52 0-1.04.2-1.43.59L10.3 9.45l-7.72 7.72c-.78.78-.78 2.05 0 2.83L4 21.41c.39.39.9.59 1.41.59.51 0 1.02-.2 1.41-.59l7.78-7.78 2.81-2.81c.8-.78.8-2.07 0-2.86zM5.41 20L4 18.59l7.72-7.72 1.47 1.35L5.41 20z\"/>\n",
              "  </svg>\n",
              "      </button>\n",
              "      \n",
              "  <style>\n",
              "    .colab-df-container {\n",
              "      display:flex;\n",
              "      flex-wrap:wrap;\n",
              "      gap: 12px;\n",
              "    }\n",
              "\n",
              "    .colab-df-convert {\n",
              "      background-color: #E8F0FE;\n",
              "      border: none;\n",
              "      border-radius: 50%;\n",
              "      cursor: pointer;\n",
              "      display: none;\n",
              "      fill: #1967D2;\n",
              "      height: 32px;\n",
              "      padding: 0 0 0 0;\n",
              "      width: 32px;\n",
              "    }\n",
              "\n",
              "    .colab-df-convert:hover {\n",
              "      background-color: #E2EBFA;\n",
              "      box-shadow: 0px 1px 2px rgba(60, 64, 67, 0.3), 0px 1px 3px 1px rgba(60, 64, 67, 0.15);\n",
              "      fill: #174EA6;\n",
              "    }\n",
              "\n",
              "    [theme=dark] .colab-df-convert {\n",
              "      background-color: #3B4455;\n",
              "      fill: #D2E3FC;\n",
              "    }\n",
              "\n",
              "    [theme=dark] .colab-df-convert:hover {\n",
              "      background-color: #434B5C;\n",
              "      box-shadow: 0px 1px 3px 1px rgba(0, 0, 0, 0.15);\n",
              "      filter: drop-shadow(0px 1px 2px rgba(0, 0, 0, 0.3));\n",
              "      fill: #FFFFFF;\n",
              "    }\n",
              "  </style>\n",
              "\n",
              "      <script>\n",
              "        const buttonEl =\n",
              "          document.querySelector('#df-3f2d3c0e-fdec-4d42-b016-caa51e68d807 button.colab-df-convert');\n",
              "        buttonEl.style.display =\n",
              "          google.colab.kernel.accessAllowed ? 'block' : 'none';\n",
              "\n",
              "        async function convertToInteractive(key) {\n",
              "          const element = document.querySelector('#df-3f2d3c0e-fdec-4d42-b016-caa51e68d807');\n",
              "          const dataTable =\n",
              "            await google.colab.kernel.invokeFunction('convertToInteractive',\n",
              "                                                     [key], {});\n",
              "          if (!dataTable) return;\n",
              "\n",
              "          const docLinkHtml = 'Like what you see? Visit the ' +\n",
              "            '<a target=\"_blank\" href=https://colab.research.google.com/notebooks/data_table.ipynb>data table notebook</a>'\n",
              "            + ' to learn more about interactive tables.';\n",
              "          element.innerHTML = '';\n",
              "          dataTable['output_type'] = 'display_data';\n",
              "          await google.colab.output.renderOutput(dataTable, element);\n",
              "          const docLink = document.createElement('div');\n",
              "          docLink.innerHTML = docLinkHtml;\n",
              "          element.appendChild(docLink);\n",
              "        }\n",
              "      </script>\n",
              "    </div>\n",
              "  </div>\n",
              "  "
            ],
            "text/plain": [
              "     profile_gender  ...  company_diversity_policies\n",
              "261            Male  ...                           9\n",
              "267           Other  ...                          10\n",
              "303            Male  ...                           7\n",
              "318            Male  ...                          10\n",
              "437            Male  ...                          10\n",
              "...             ...  ...                         ...\n",
              "5799           Male  ...                           9\n",
              "5819           Male  ...                           8\n",
              "5878           Male  ...                           5\n",
              "6024           Male  ...                           9\n",
              "6080           Male  ...                          10\n",
              "\n",
              "[115 rows x 43 columns]"
            ]
          },
          "metadata": {},
          "execution_count": 32
        }
      ]
    },
    {
      "cell_type": "code",
      "source": [
        ""
      ],
      "metadata": {
        "id": "12mAEPCNB6J1"
      },
      "execution_count": null,
      "outputs": []
    }
  ]
}