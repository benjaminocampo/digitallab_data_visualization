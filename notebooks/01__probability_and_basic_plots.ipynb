{
  "nbformat": 4,
  "nbformat_minor": 0,
  "metadata": {
    "colab": {
      "name": "01 _probability_and_basic_plots.ipynb",
      "provenance": [],
      "collapsed_sections": []
    },
    "kernelspec": {
      "name": "python3",
      "display_name": "Python 3"
    }
  },
  "cells": [
    {
      "cell_type": "markdown",
      "metadata": {
        "id": "LYvAOR2VzHmW"
      },
      "source": [
        "# Random variables and probability\n",
        "\n",
        "\n",
        "In this notebook, we will make a first approximation to the dataset.\n",
        "\n",
        "* Random variables and their different types\n",
        "* Probability"
      ]
    },
    {
      "cell_type": "code",
      "metadata": {
        "id": "Xwdfo7z20TUK"
      },
      "source": [
        "import io\n",
        "import matplotlib\n",
        "import matplotlib.pyplot as plt\n",
        "import numpy\n",
        "import pandas as pd\n",
        "import seaborn\n",
        "\n",
        "seaborn.set_context('talk')"
      ],
      "execution_count": null,
      "outputs": []
    },
    {
      "cell_type": "markdown",
      "metadata": {
        "id": "XY2Hl-Ma07Nn"
      },
      "source": [
        "## Reading the dataset\n"
      ]
    },
    {
      "cell_type": "code",
      "metadata": {
        "id": "Vviv_sqXdR5W"
      },
      "source": [
        "url = 'https://www.famaf.unc.edu.ar/~nocampo043/sysarmy_survey_2020_processed.csv'\n",
        "df = pd.read_csv(url)"
      ],
      "execution_count": null,
      "outputs": []
    },
    {
      "cell_type": "code",
      "source": [
        "df"
      ],
      "metadata": {
        "colab": {
          "base_uri": "https://localhost:8080/",
          "height": 991
        },
        "id": "OsaAO5edc8GZ",
        "outputId": "42fc6234-08d9-48d9-d242-a6d52d5c5d36"
      },
      "execution_count": null,
      "outputs": [
        {
          "output_type": "execute_result",
          "data": {
            "text/html": [
              "\n",
              "  <div id=\"df-20fc9c0a-0041-4649-97f9-ff14c3a71519\">\n",
              "    <div class=\"colab-df-container\">\n",
              "      <div>\n",
              "<style scoped>\n",
              "    .dataframe tbody tr th:only-of-type {\n",
              "        vertical-align: middle;\n",
              "    }\n",
              "\n",
              "    .dataframe tbody tr th {\n",
              "        vertical-align: top;\n",
              "    }\n",
              "\n",
              "    .dataframe thead th {\n",
              "        text-align: right;\n",
              "    }\n",
              "</style>\n",
              "<table border=\"1\" class=\"dataframe\">\n",
              "  <thead>\n",
              "    <tr style=\"text-align: right;\">\n",
              "      <th></th>\n",
              "      <th>profile_gender</th>\n",
              "      <th>profile_age</th>\n",
              "      <th>work_country</th>\n",
              "      <th>work_province</th>\n",
              "      <th>profile_years_experience</th>\n",
              "      <th>work_years_in_company</th>\n",
              "      <th>work_years_in_current_position</th>\n",
              "      <th>work_people_in_charge_of</th>\n",
              "      <th>profile_studies_level</th>\n",
              "      <th>profile_studies_level_state</th>\n",
              "      <th>profile_career</th>\n",
              "      <th>profile_university</th>\n",
              "      <th>profile_specialization_courses</th>\n",
              "      <th>profile_open_source_contributions</th>\n",
              "      <th>profile_programming_as_hobby</th>\n",
              "      <th>work_role</th>\n",
              "      <th>tools_platform</th>\n",
              "      <th>tools_programming_languages</th>\n",
              "      <th>tools_frameworks</th>\n",
              "      <th>tools_data_bases</th>\n",
              "      <th>tools_qa_testing</th>\n",
              "      <th>tools_IDEs</th>\n",
              "      <th>tools_work_pc_os</th>\n",
              "      <th>tools_cellphone_os</th>\n",
              "      <th>work_on_call_duty</th>\n",
              "      <th>salary_on_call_duty_charge</th>\n",
              "      <th>work_on_call_duty_charge_type</th>\n",
              "      <th>work_contract_type</th>\n",
              "      <th>salary_monthly_GROSS</th>\n",
              "      <th>salary_monthly_NET</th>\n",
              "      <th>salary_in_usd</th>\n",
              "      <th>salary_satisfaction</th>\n",
              "      <th>salary_comparison_last_semester</th>\n",
              "      <th>salary_has_bonus</th>\n",
              "      <th>salary_inflation_adjustment_2020</th>\n",
              "      <th>salary_percentage_inflation_adjustment_2020</th>\n",
              "      <th>salary_month_last_inflation_adjustment</th>\n",
              "      <th>work_has_violence_situations</th>\n",
              "      <th>profile_has_disabilities_hiring_difficulties</th>\n",
              "      <th>company_employee_number</th>\n",
              "      <th>company_main_activity</th>\n",
              "      <th>company_recommended</th>\n",
              "      <th>company_diversity_policies</th>\n",
              "    </tr>\n",
              "  </thead>\n",
              "  <tbody>\n",
              "    <tr>\n",
              "      <th>0</th>\n",
              "      <td>Female</td>\n",
              "      <td>26</td>\n",
              "      <td>Argentina</td>\n",
              "      <td>Ciudad Autónoma de Buenos Aires</td>\n",
              "      <td>3.0</td>\n",
              "      <td>3.0</td>\n",
              "      <td>3.0</td>\n",
              "      <td>0</td>\n",
              "      <td>University</td>\n",
              "      <td>Ongoing</td>\n",
              "      <td>Ingeniería en Sistemas de Información</td>\n",
              "      <td>UTN - Universidad Tecnológica Nacional</td>\n",
              "      <td>Yes, they were paid by my employer</td>\n",
              "      <td>No</td>\n",
              "      <td>Yes</td>\n",
              "      <td>Consultant</td>\n",
              "      <td>None</td>\n",
              "      <td>None</td>\n",
              "      <td>None</td>\n",
              "      <td>None</td>\n",
              "      <td>None</td>\n",
              "      <td>None</td>\n",
              "      <td>GNU/Linux</td>\n",
              "      <td>Android</td>\n",
              "      <td>No</td>\n",
              "      <td>0.0</td>\n",
              "      <td>Gross</td>\n",
              "      <td>Full-Time</td>\n",
              "      <td>53000.0</td>\n",
              "      <td>43000.000</td>\n",
              "      <td>NaN</td>\n",
              "      <td>1</td>\n",
              "      <td>1</td>\n",
              "      <td>No</td>\n",
              "      <td>No</td>\n",
              "      <td>0.0</td>\n",
              "      <td>0</td>\n",
              "      <td>In my current job</td>\n",
              "      <td>NaN</td>\n",
              "      <td>501-1000</td>\n",
              "      <td>Services / Software Consulting / Digital</td>\n",
              "      <td>7</td>\n",
              "      <td>2</td>\n",
              "    </tr>\n",
              "    <tr>\n",
              "      <th>1</th>\n",
              "      <td>Male</td>\n",
              "      <td>29</td>\n",
              "      <td>Argentina</td>\n",
              "      <td>Corrientes</td>\n",
              "      <td>5.0</td>\n",
              "      <td>2.0</td>\n",
              "      <td>2.0</td>\n",
              "      <td>4</td>\n",
              "      <td>University</td>\n",
              "      <td>Ongoing</td>\n",
              "      <td>Ingeniería en Sistemas de Información</td>\n",
              "      <td>UTN - Universidad Tecnológica Nacional</td>\n",
              "      <td>Yes, they were paid by myself, Yes, they were ...</td>\n",
              "      <td>No</td>\n",
              "      <td>Yes</td>\n",
              "      <td>Developer</td>\n",
              "      <td>Docker, Google Cloud Platform/App Engine</td>\n",
              "      <td>HTML, Javascript, Python</td>\n",
              "      <td>Django, jQuery</td>\n",
              "      <td>Informix, MySQL, PostgreSQL</td>\n",
              "      <td>None</td>\n",
              "      <td>IPython / Jupyter, Sublime Text, Visual Studio...</td>\n",
              "      <td>GNU/Linux</td>\n",
              "      <td>Android</td>\n",
              "      <td>No</td>\n",
              "      <td>0.0</td>\n",
              "      <td>Gross</td>\n",
              "      <td>Full-Time</td>\n",
              "      <td>79000.0</td>\n",
              "      <td>63000.000</td>\n",
              "      <td>NaN</td>\n",
              "      <td>2</td>\n",
              "      <td>2</td>\n",
              "      <td>Less than a salary</td>\n",
              "      <td>One</td>\n",
              "      <td>10.0</td>\n",
              "      <td>1</td>\n",
              "      <td>Never</td>\n",
              "      <td>No</td>\n",
              "      <td>201-500</td>\n",
              "      <td>Other industries</td>\n",
              "      <td>8</td>\n",
              "      <td>9</td>\n",
              "    </tr>\n",
              "    <tr>\n",
              "      <th>2</th>\n",
              "      <td>Female</td>\n",
              "      <td>22</td>\n",
              "      <td>Argentina</td>\n",
              "      <td>Ciudad Autónoma de Buenos Aires</td>\n",
              "      <td>2.0</td>\n",
              "      <td>0.0</td>\n",
              "      <td>0.0</td>\n",
              "      <td>0</td>\n",
              "      <td>Secondary</td>\n",
              "      <td>Complete</td>\n",
              "      <td>NaN</td>\n",
              "      <td>NaN</td>\n",
              "      <td>Yes, they were paid by myself, Yes, they were ...</td>\n",
              "      <td>No</td>\n",
              "      <td>Yes</td>\n",
              "      <td>Infosec</td>\n",
              "      <td>Linux, VMWare</td>\n",
              "      <td>None</td>\n",
              "      <td>None</td>\n",
              "      <td>None</td>\n",
              "      <td>None</td>\n",
              "      <td>None</td>\n",
              "      <td>Windows</td>\n",
              "      <td>iOS</td>\n",
              "      <td>No</td>\n",
              "      <td>0.0</td>\n",
              "      <td>Percentage of my salary</td>\n",
              "      <td>Full-Time</td>\n",
              "      <td>160000.0</td>\n",
              "      <td>127000.000</td>\n",
              "      <td>NaN</td>\n",
              "      <td>3</td>\n",
              "      <td>3</td>\n",
              "      <td>One salary</td>\n",
              "      <td>No</td>\n",
              "      <td>0.0</td>\n",
              "      <td>0</td>\n",
              "      <td>In a previous job</td>\n",
              "      <td>No</td>\n",
              "      <td>2001-5000</td>\n",
              "      <td>Other industries</td>\n",
              "      <td>6</td>\n",
              "      <td>9</td>\n",
              "    </tr>\n",
              "    <tr>\n",
              "      <th>3</th>\n",
              "      <td>Male</td>\n",
              "      <td>39</td>\n",
              "      <td>Argentina</td>\n",
              "      <td>Corrientes</td>\n",
              "      <td>15.0</td>\n",
              "      <td>15.0</td>\n",
              "      <td>13.0</td>\n",
              "      <td>5</td>\n",
              "      <td>Postgraduate</td>\n",
              "      <td>Incomplete</td>\n",
              "      <td>Licenciatura en Sistemas</td>\n",
              "      <td>UNNE Universidad Nacional del Nordeste</td>\n",
              "      <td>Yes, they were paid by myself, Yes, they were ...</td>\n",
              "      <td>Yes</td>\n",
              "      <td>Yes</td>\n",
              "      <td>SysAdmin / DevOps / SRE</td>\n",
              "      <td>Docker, Linux, OpenStack, VMWare, Windows Server</td>\n",
              "      <td>Bash/Shell, C, CSS, HTML, Java, Javascript, PH...</td>\n",
              "      <td>jQuery, WordPress</td>\n",
              "      <td>Microsoft SQL Server, MySQL</td>\n",
              "      <td>PHPUnit</td>\n",
              "      <td>Eclipse, Visual Studio Code</td>\n",
              "      <td>GNU/Linux</td>\n",
              "      <td>Android</td>\n",
              "      <td>Yes, passive</td>\n",
              "      <td>0.0</td>\n",
              "      <td>Gross</td>\n",
              "      <td>Full-Time</td>\n",
              "      <td>130000.0</td>\n",
              "      <td>102000.000</td>\n",
              "      <td>NaN</td>\n",
              "      <td>3</td>\n",
              "      <td>1</td>\n",
              "      <td>No</td>\n",
              "      <td>No</td>\n",
              "      <td>0.0</td>\n",
              "      <td>0</td>\n",
              "      <td>In my current job</td>\n",
              "      <td>NaN</td>\n",
              "      <td>501-1000</td>\n",
              "      <td>Other industries</td>\n",
              "      <td>7</td>\n",
              "      <td>6</td>\n",
              "    </tr>\n",
              "    <tr>\n",
              "      <th>4</th>\n",
              "      <td>Male</td>\n",
              "      <td>32</td>\n",
              "      <td>Argentina</td>\n",
              "      <td>Ciudad Autónoma de Buenos Aires</td>\n",
              "      <td>9.0</td>\n",
              "      <td>6.0</td>\n",
              "      <td>6.0</td>\n",
              "      <td>0</td>\n",
              "      <td>University</td>\n",
              "      <td>Ongoing</td>\n",
              "      <td>Licenciatura en Ciencias dela Computación</td>\n",
              "      <td>UBA - Universidad de Buenos Aires</td>\n",
              "      <td>No</td>\n",
              "      <td>No</td>\n",
              "      <td>Yes</td>\n",
              "      <td>Developer</td>\n",
              "      <td>Amazon Web Services</td>\n",
              "      <td>CSS, HTML, Javascript, SQL, TypeScript</td>\n",
              "      <td>Angular, Node.js</td>\n",
              "      <td>Amazon DynamoDB, MongoDB, MySQL</td>\n",
              "      <td>Jest</td>\n",
              "      <td>Vim</td>\n",
              "      <td>macOS</td>\n",
              "      <td>Android</td>\n",
              "      <td>No</td>\n",
              "      <td>0.0</td>\n",
              "      <td>Percentage of my salary</td>\n",
              "      <td>Full-Time</td>\n",
              "      <td>140000.0</td>\n",
              "      <td>106000.000</td>\n",
              "      <td>NaN</td>\n",
              "      <td>1</td>\n",
              "      <td>1</td>\n",
              "      <td>Less than a salary</td>\n",
              "      <td>No</td>\n",
              "      <td>0.0</td>\n",
              "      <td>0</td>\n",
              "      <td>Never</td>\n",
              "      <td>NaN</td>\n",
              "      <td>11-50</td>\n",
              "      <td>Services / Software Consulting / Digital</td>\n",
              "      <td>6</td>\n",
              "      <td>6</td>\n",
              "    </tr>\n",
              "    <tr>\n",
              "      <th>...</th>\n",
              "      <td>...</td>\n",
              "      <td>...</td>\n",
              "      <td>...</td>\n",
              "      <td>...</td>\n",
              "      <td>...</td>\n",
              "      <td>...</td>\n",
              "      <td>...</td>\n",
              "      <td>...</td>\n",
              "      <td>...</td>\n",
              "      <td>...</td>\n",
              "      <td>...</td>\n",
              "      <td>...</td>\n",
              "      <td>...</td>\n",
              "      <td>...</td>\n",
              "      <td>...</td>\n",
              "      <td>...</td>\n",
              "      <td>...</td>\n",
              "      <td>...</td>\n",
              "      <td>...</td>\n",
              "      <td>...</td>\n",
              "      <td>...</td>\n",
              "      <td>...</td>\n",
              "      <td>...</td>\n",
              "      <td>...</td>\n",
              "      <td>...</td>\n",
              "      <td>...</td>\n",
              "      <td>...</td>\n",
              "      <td>...</td>\n",
              "      <td>...</td>\n",
              "      <td>...</td>\n",
              "      <td>...</td>\n",
              "      <td>...</td>\n",
              "      <td>...</td>\n",
              "      <td>...</td>\n",
              "      <td>...</td>\n",
              "      <td>...</td>\n",
              "      <td>...</td>\n",
              "      <td>...</td>\n",
              "      <td>...</td>\n",
              "      <td>...</td>\n",
              "      <td>...</td>\n",
              "      <td>...</td>\n",
              "      <td>...</td>\n",
              "    </tr>\n",
              "    <tr>\n",
              "      <th>6090</th>\n",
              "      <td>Male</td>\n",
              "      <td>37</td>\n",
              "      <td>Argentina</td>\n",
              "      <td>Ciudad Autónoma de Buenos Aires</td>\n",
              "      <td>13.0</td>\n",
              "      <td>6.0</td>\n",
              "      <td>6.0</td>\n",
              "      <td>0</td>\n",
              "      <td>Terciary</td>\n",
              "      <td>Complete</td>\n",
              "      <td>Analista de Sistemas</td>\n",
              "      <td>IFTS (ex CENT) nro 5</td>\n",
              "      <td>No</td>\n",
              "      <td>No</td>\n",
              "      <td>Yes</td>\n",
              "      <td>Developer</td>\n",
              "      <td>Docker, Google Cloud Platform/App Engine, Linu...</td>\n",
              "      <td>.NET, C#, COBOL, CSS, HTML, Javascript, PHP, S...</td>\n",
              "      <td>Bootstrap, Drupal, jQuery, Symfony, WordPress</td>\n",
              "      <td>MariaDB, Microsoft SQL Server, MySQL</td>\n",
              "      <td>PHPUnit, SoapUI</td>\n",
              "      <td>Eclipse, NetBeans, Notepad++, Sublime Text, Vi...</td>\n",
              "      <td>Windows</td>\n",
              "      <td>Android</td>\n",
              "      <td>No</td>\n",
              "      <td>0.0</td>\n",
              "      <td>Percentage of my salary</td>\n",
              "      <td>Full-Time</td>\n",
              "      <td>99000.0</td>\n",
              "      <td>97000.000</td>\n",
              "      <td>NaN</td>\n",
              "      <td>3</td>\n",
              "      <td>2</td>\n",
              "      <td>No</td>\n",
              "      <td>No</td>\n",
              "      <td>0.0</td>\n",
              "      <td>0</td>\n",
              "      <td>In my current job</td>\n",
              "      <td>No</td>\n",
              "      <td>501-1000</td>\n",
              "      <td>Other industries</td>\n",
              "      <td>7</td>\n",
              "      <td>8</td>\n",
              "    </tr>\n",
              "    <tr>\n",
              "      <th>6091</th>\n",
              "      <td>Male</td>\n",
              "      <td>38</td>\n",
              "      <td>Argentina</td>\n",
              "      <td>Ciudad Autónoma de Buenos Aires</td>\n",
              "      <td>12.0</td>\n",
              "      <td>5.0</td>\n",
              "      <td>5.0</td>\n",
              "      <td>0</td>\n",
              "      <td>University</td>\n",
              "      <td>Ongoing</td>\n",
              "      <td>Ingeniería en Sistemas de Información</td>\n",
              "      <td>UTN - Universidad Tecnológica Nacional</td>\n",
              "      <td>Yes, they were paid by myself, Yes, they were ...</td>\n",
              "      <td>No</td>\n",
              "      <td>No</td>\n",
              "      <td>SysAdmin / DevOps / SRE</td>\n",
              "      <td>Linux, OpenStack, VMWare, Windows Server</td>\n",
              "      <td>None of the previous one</td>\n",
              "      <td>None of the previous one</td>\n",
              "      <td>Microsoft SQL Server, MySQL, Oracle, PostgreSQL</td>\n",
              "      <td>None of the previous one</td>\n",
              "      <td>Vi, Vim</td>\n",
              "      <td>Windows</td>\n",
              "      <td>Android</td>\n",
              "      <td>Yes, passive</td>\n",
              "      <td>10000.0</td>\n",
              "      <td>Percentage of my salary</td>\n",
              "      <td>Full-Time</td>\n",
              "      <td>85000.0</td>\n",
              "      <td>71000.000</td>\n",
              "      <td>NaN</td>\n",
              "      <td>3</td>\n",
              "      <td>3</td>\n",
              "      <td>One salary</td>\n",
              "      <td>One</td>\n",
              "      <td>14.0</td>\n",
              "      <td>6</td>\n",
              "      <td>Never</td>\n",
              "      <td>NaN</td>\n",
              "      <td>2001-5000</td>\n",
              "      <td>Other industries</td>\n",
              "      <td>8</td>\n",
              "      <td>10</td>\n",
              "    </tr>\n",
              "    <tr>\n",
              "      <th>6092</th>\n",
              "      <td>Male</td>\n",
              "      <td>24</td>\n",
              "      <td>Argentina</td>\n",
              "      <td>Ciudad Autónoma de Buenos Aires</td>\n",
              "      <td>2.0</td>\n",
              "      <td>2.0</td>\n",
              "      <td>2.0</td>\n",
              "      <td>0</td>\n",
              "      <td>Terciary</td>\n",
              "      <td>Ongoing</td>\n",
              "      <td>Analista de Sistemas</td>\n",
              "      <td>ORT</td>\n",
              "      <td>Yes, they were paid by myself</td>\n",
              "      <td>No</td>\n",
              "      <td>Yes</td>\n",
              "      <td>QA / Tester</td>\n",
              "      <td>None of the previous one</td>\n",
              "      <td>None of the previous one</td>\n",
              "      <td>None of the previous one</td>\n",
              "      <td>None of the previous one</td>\n",
              "      <td>None of the previous one</td>\n",
              "      <td>None of the previous one</td>\n",
              "      <td>Windows</td>\n",
              "      <td>Android</td>\n",
              "      <td>No</td>\n",
              "      <td>0.0</td>\n",
              "      <td>Percentage of my salary</td>\n",
              "      <td>Full-Time</td>\n",
              "      <td>47250.0</td>\n",
              "      <td>45.753</td>\n",
              "      <td>NaN</td>\n",
              "      <td>3</td>\n",
              "      <td>2</td>\n",
              "      <td>Less than a salary</td>\n",
              "      <td>One</td>\n",
              "      <td>10.0</td>\n",
              "      <td>4</td>\n",
              "      <td>Never</td>\n",
              "      <td>NaN</td>\n",
              "      <td>201-500</td>\n",
              "      <td>Software based product</td>\n",
              "      <td>7</td>\n",
              "      <td>9</td>\n",
              "    </tr>\n",
              "    <tr>\n",
              "      <th>6093</th>\n",
              "      <td>Male</td>\n",
              "      <td>28</td>\n",
              "      <td>Argentina</td>\n",
              "      <td>La Pampa</td>\n",
              "      <td>5.0</td>\n",
              "      <td>3.0</td>\n",
              "      <td>2.0</td>\n",
              "      <td>0</td>\n",
              "      <td>Terciary</td>\n",
              "      <td>Ongoing</td>\n",
              "      <td>Ingeniería en Sistemas de Información</td>\n",
              "      <td>UNLPAM</td>\n",
              "      <td>Yes, they were paid by my employer</td>\n",
              "      <td>No</td>\n",
              "      <td>Yes</td>\n",
              "      <td>SysAdmin / DevOps / SRE</td>\n",
              "      <td>Amazon Web Services, Docker, Kubernetes, Linux</td>\n",
              "      <td>C, C++, HTML, Java, Javascript, PHP, Python, SQL</td>\n",
              "      <td>Symfony</td>\n",
              "      <td>MariaDB, MongoDB, MySQL, Neo4j, PostgreSQL, Redis</td>\n",
              "      <td>PHPUnit, Postman</td>\n",
              "      <td>Nano, PHPStorm, PyCharm, Vim, Visual Studio Code</td>\n",
              "      <td>GNU/Linux</td>\n",
              "      <td>Android</td>\n",
              "      <td>Yes, passive</td>\n",
              "      <td>10.0</td>\n",
              "      <td>Net</td>\n",
              "      <td>Full-Time</td>\n",
              "      <td>86000.0</td>\n",
              "      <td>72.000</td>\n",
              "      <td>NaN</td>\n",
              "      <td>2</td>\n",
              "      <td>1</td>\n",
              "      <td>No</td>\n",
              "      <td>One</td>\n",
              "      <td>20.0</td>\n",
              "      <td>3</td>\n",
              "      <td>Never</td>\n",
              "      <td>No</td>\n",
              "      <td>51-100</td>\n",
              "      <td>Services / Software Consulting / Digital</td>\n",
              "      <td>5</td>\n",
              "      <td>7</td>\n",
              "    </tr>\n",
              "    <tr>\n",
              "      <th>6094</th>\n",
              "      <td>Male</td>\n",
              "      <td>33</td>\n",
              "      <td>Argentina</td>\n",
              "      <td>GBA</td>\n",
              "      <td>5.0</td>\n",
              "      <td>5.0</td>\n",
              "      <td>3.0</td>\n",
              "      <td>0</td>\n",
              "      <td>Terciary</td>\n",
              "      <td>Incomplete</td>\n",
              "      <td>Analista de Sistemas</td>\n",
              "      <td>UAI - Universidad Abierta Interamericana</td>\n",
              "      <td>Yes, they were paid by myself</td>\n",
              "      <td>No</td>\n",
              "      <td>No</td>\n",
              "      <td>SysAdmin / DevOps / SRE</td>\n",
              "      <td>Linux, OpenStack, VMWare, Windows Server</td>\n",
              "      <td>None of the previous one</td>\n",
              "      <td>None of the previous one</td>\n",
              "      <td>None of the previous one</td>\n",
              "      <td>None of the previous one</td>\n",
              "      <td>None of the previous one</td>\n",
              "      <td>Windows</td>\n",
              "      <td>iOS</td>\n",
              "      <td>No</td>\n",
              "      <td>0.0</td>\n",
              "      <td>Net</td>\n",
              "      <td>Full-Time</td>\n",
              "      <td>85000.0</td>\n",
              "      <td>65000.000</td>\n",
              "      <td>NaN</td>\n",
              "      <td>3</td>\n",
              "      <td>3</td>\n",
              "      <td>No</td>\n",
              "      <td>Two</td>\n",
              "      <td>4.0</td>\n",
              "      <td>7</td>\n",
              "      <td>Never</td>\n",
              "      <td>No</td>\n",
              "      <td>501-1000</td>\n",
              "      <td>Other industries</td>\n",
              "      <td>9</td>\n",
              "      <td>7</td>\n",
              "    </tr>\n",
              "  </tbody>\n",
              "</table>\n",
              "<p>6095 rows × 43 columns</p>\n",
              "</div>\n",
              "      <button class=\"colab-df-convert\" onclick=\"convertToInteractive('df-20fc9c0a-0041-4649-97f9-ff14c3a71519')\"\n",
              "              title=\"Convert this dataframe to an interactive table.\"\n",
              "              style=\"display:none;\">\n",
              "        \n",
              "  <svg xmlns=\"http://www.w3.org/2000/svg\" height=\"24px\"viewBox=\"0 0 24 24\"\n",
              "       width=\"24px\">\n",
              "    <path d=\"M0 0h24v24H0V0z\" fill=\"none\"/>\n",
              "    <path d=\"M18.56 5.44l.94 2.06.94-2.06 2.06-.94-2.06-.94-.94-2.06-.94 2.06-2.06.94zm-11 1L8.5 8.5l.94-2.06 2.06-.94-2.06-.94L8.5 2.5l-.94 2.06-2.06.94zm10 10l.94 2.06.94-2.06 2.06-.94-2.06-.94-.94-2.06-.94 2.06-2.06.94z\"/><path d=\"M17.41 7.96l-1.37-1.37c-.4-.4-.92-.59-1.43-.59-.52 0-1.04.2-1.43.59L10.3 9.45l-7.72 7.72c-.78.78-.78 2.05 0 2.83L4 21.41c.39.39.9.59 1.41.59.51 0 1.02-.2 1.41-.59l7.78-7.78 2.81-2.81c.8-.78.8-2.07 0-2.86zM5.41 20L4 18.59l7.72-7.72 1.47 1.35L5.41 20z\"/>\n",
              "  </svg>\n",
              "      </button>\n",
              "      \n",
              "  <style>\n",
              "    .colab-df-container {\n",
              "      display:flex;\n",
              "      flex-wrap:wrap;\n",
              "      gap: 12px;\n",
              "    }\n",
              "\n",
              "    .colab-df-convert {\n",
              "      background-color: #E8F0FE;\n",
              "      border: none;\n",
              "      border-radius: 50%;\n",
              "      cursor: pointer;\n",
              "      display: none;\n",
              "      fill: #1967D2;\n",
              "      height: 32px;\n",
              "      padding: 0 0 0 0;\n",
              "      width: 32px;\n",
              "    }\n",
              "\n",
              "    .colab-df-convert:hover {\n",
              "      background-color: #E2EBFA;\n",
              "      box-shadow: 0px 1px 2px rgba(60, 64, 67, 0.3), 0px 1px 3px 1px rgba(60, 64, 67, 0.15);\n",
              "      fill: #174EA6;\n",
              "    }\n",
              "\n",
              "    [theme=dark] .colab-df-convert {\n",
              "      background-color: #3B4455;\n",
              "      fill: #D2E3FC;\n",
              "    }\n",
              "\n",
              "    [theme=dark] .colab-df-convert:hover {\n",
              "      background-color: #434B5C;\n",
              "      box-shadow: 0px 1px 3px 1px rgba(0, 0, 0, 0.15);\n",
              "      filter: drop-shadow(0px 1px 2px rgba(0, 0, 0, 0.3));\n",
              "      fill: #FFFFFF;\n",
              "    }\n",
              "  </style>\n",
              "\n",
              "      <script>\n",
              "        const buttonEl =\n",
              "          document.querySelector('#df-20fc9c0a-0041-4649-97f9-ff14c3a71519 button.colab-df-convert');\n",
              "        buttonEl.style.display =\n",
              "          google.colab.kernel.accessAllowed ? 'block' : 'none';\n",
              "\n",
              "        async function convertToInteractive(key) {\n",
              "          const element = document.querySelector('#df-20fc9c0a-0041-4649-97f9-ff14c3a71519');\n",
              "          const dataTable =\n",
              "            await google.colab.kernel.invokeFunction('convertToInteractive',\n",
              "                                                     [key], {});\n",
              "          if (!dataTable) return;\n",
              "\n",
              "          const docLinkHtml = 'Like what you see? Visit the ' +\n",
              "            '<a target=\"_blank\" href=https://colab.research.google.com/notebooks/data_table.ipynb>data table notebook</a>'\n",
              "            + ' to learn more about interactive tables.';\n",
              "          element.innerHTML = '';\n",
              "          dataTable['output_type'] = 'display_data';\n",
              "          await google.colab.output.renderOutput(dataTable, element);\n",
              "          const docLink = document.createElement('div');\n",
              "          docLink.innerHTML = docLinkHtml;\n",
              "          element.appendChild(docLink);\n",
              "        }\n",
              "      </script>\n",
              "    </div>\n",
              "  </div>\n",
              "  "
            ],
            "text/plain": [
              "     profile_gender  ...  company_diversity_policies\n",
              "0            Female  ...                           2\n",
              "1              Male  ...                           9\n",
              "2            Female  ...                           9\n",
              "3              Male  ...                           6\n",
              "4              Male  ...                           6\n",
              "...             ...  ...                         ...\n",
              "6090           Male  ...                           8\n",
              "6091           Male  ...                          10\n",
              "6092           Male  ...                           9\n",
              "6093           Male  ...                           7\n",
              "6094           Male  ...                           7\n",
              "\n",
              "[6095 rows x 43 columns]"
            ]
          },
          "metadata": {},
          "execution_count": 89
        }
      ]
    },
    {
      "cell_type": "code",
      "metadata": {
        "id": "gckNHXXLktJ4",
        "colab": {
          "base_uri": "https://localhost:8080/",
          "height": 346
        },
        "outputId": "d89b8962-59f3-428c-a284-241fa79a1044"
      },
      "source": [
        "df[:3]"
      ],
      "execution_count": null,
      "outputs": [
        {
          "output_type": "execute_result",
          "data": {
            "text/html": [
              "\n",
              "  <div id=\"df-94333006-85de-4bc5-a47b-2bbb6ba8d02f\">\n",
              "    <div class=\"colab-df-container\">\n",
              "      <div>\n",
              "<style scoped>\n",
              "    .dataframe tbody tr th:only-of-type {\n",
              "        vertical-align: middle;\n",
              "    }\n",
              "\n",
              "    .dataframe tbody tr th {\n",
              "        vertical-align: top;\n",
              "    }\n",
              "\n",
              "    .dataframe thead th {\n",
              "        text-align: right;\n",
              "    }\n",
              "</style>\n",
              "<table border=\"1\" class=\"dataframe\">\n",
              "  <thead>\n",
              "    <tr style=\"text-align: right;\">\n",
              "      <th></th>\n",
              "      <th>profile_gender</th>\n",
              "      <th>profile_age</th>\n",
              "      <th>work_country</th>\n",
              "      <th>work_province</th>\n",
              "      <th>profile_years_experience</th>\n",
              "      <th>work_years_in_company</th>\n",
              "      <th>work_years_in_current_position</th>\n",
              "      <th>work_people_in_charge_of</th>\n",
              "      <th>profile_studies_level</th>\n",
              "      <th>profile_studies_level_state</th>\n",
              "      <th>profile_career</th>\n",
              "      <th>profile_university</th>\n",
              "      <th>profile_specialization_courses</th>\n",
              "      <th>profile_open_source_contributions</th>\n",
              "      <th>profile_programming_as_hobby</th>\n",
              "      <th>work_role</th>\n",
              "      <th>tools_platform</th>\n",
              "      <th>tools_programming_languages</th>\n",
              "      <th>tools_frameworks</th>\n",
              "      <th>tools_data_bases</th>\n",
              "      <th>tools_qa_testing</th>\n",
              "      <th>tools_IDEs</th>\n",
              "      <th>tools_work_pc_os</th>\n",
              "      <th>tools_cellphone_os</th>\n",
              "      <th>work_on_call_duty</th>\n",
              "      <th>salary_on_call_duty_charge</th>\n",
              "      <th>work_on_call_duty_charge_type</th>\n",
              "      <th>work_contract_type</th>\n",
              "      <th>salary_monthly_GROSS</th>\n",
              "      <th>salary_monthly_NET</th>\n",
              "      <th>salary_in_usd</th>\n",
              "      <th>salary_satisfaction</th>\n",
              "      <th>salary_comparison_last_semester</th>\n",
              "      <th>salary_has_bonus</th>\n",
              "      <th>salary_inflation_adjustment_2020</th>\n",
              "      <th>salary_percentage_inflation_adjustment_2020</th>\n",
              "      <th>salary_month_last_inflation_adjustment</th>\n",
              "      <th>work_has_violence_situations</th>\n",
              "      <th>profile_has_disabilities_hiring_difficulties</th>\n",
              "      <th>company_employee_number</th>\n",
              "      <th>company_main_activity</th>\n",
              "      <th>company_recommended</th>\n",
              "      <th>company_diversity_policies</th>\n",
              "    </tr>\n",
              "  </thead>\n",
              "  <tbody>\n",
              "    <tr>\n",
              "      <th>0</th>\n",
              "      <td>Female</td>\n",
              "      <td>26</td>\n",
              "      <td>Argentina</td>\n",
              "      <td>Ciudad Autónoma de Buenos Aires</td>\n",
              "      <td>3.0</td>\n",
              "      <td>3.0</td>\n",
              "      <td>3.0</td>\n",
              "      <td>0</td>\n",
              "      <td>University</td>\n",
              "      <td>Ongoing</td>\n",
              "      <td>Ingeniería en Sistemas de Información</td>\n",
              "      <td>UTN - Universidad Tecnológica Nacional</td>\n",
              "      <td>Yes, they were paid by my employer</td>\n",
              "      <td>No</td>\n",
              "      <td>Yes</td>\n",
              "      <td>Consultant</td>\n",
              "      <td>None</td>\n",
              "      <td>None</td>\n",
              "      <td>None</td>\n",
              "      <td>None</td>\n",
              "      <td>None</td>\n",
              "      <td>None</td>\n",
              "      <td>GNU/Linux</td>\n",
              "      <td>Android</td>\n",
              "      <td>No</td>\n",
              "      <td>0.0</td>\n",
              "      <td>Gross</td>\n",
              "      <td>Full-Time</td>\n",
              "      <td>53000.0</td>\n",
              "      <td>43000.0</td>\n",
              "      <td>NaN</td>\n",
              "      <td>1</td>\n",
              "      <td>1</td>\n",
              "      <td>No</td>\n",
              "      <td>No</td>\n",
              "      <td>0.0</td>\n",
              "      <td>0</td>\n",
              "      <td>In my current job</td>\n",
              "      <td>NaN</td>\n",
              "      <td>501-1000</td>\n",
              "      <td>Services / Software Consulting / Digital</td>\n",
              "      <td>7</td>\n",
              "      <td>2</td>\n",
              "    </tr>\n",
              "    <tr>\n",
              "      <th>1</th>\n",
              "      <td>Male</td>\n",
              "      <td>29</td>\n",
              "      <td>Argentina</td>\n",
              "      <td>Corrientes</td>\n",
              "      <td>5.0</td>\n",
              "      <td>2.0</td>\n",
              "      <td>2.0</td>\n",
              "      <td>4</td>\n",
              "      <td>University</td>\n",
              "      <td>Ongoing</td>\n",
              "      <td>Ingeniería en Sistemas de Información</td>\n",
              "      <td>UTN - Universidad Tecnológica Nacional</td>\n",
              "      <td>Yes, they were paid by myself, Yes, they were ...</td>\n",
              "      <td>No</td>\n",
              "      <td>Yes</td>\n",
              "      <td>Developer</td>\n",
              "      <td>Docker, Google Cloud Platform/App Engine</td>\n",
              "      <td>HTML, Javascript, Python</td>\n",
              "      <td>Django, jQuery</td>\n",
              "      <td>Informix, MySQL, PostgreSQL</td>\n",
              "      <td>None</td>\n",
              "      <td>IPython / Jupyter, Sublime Text, Visual Studio...</td>\n",
              "      <td>GNU/Linux</td>\n",
              "      <td>Android</td>\n",
              "      <td>No</td>\n",
              "      <td>0.0</td>\n",
              "      <td>Gross</td>\n",
              "      <td>Full-Time</td>\n",
              "      <td>79000.0</td>\n",
              "      <td>63000.0</td>\n",
              "      <td>NaN</td>\n",
              "      <td>2</td>\n",
              "      <td>2</td>\n",
              "      <td>Less than a salary</td>\n",
              "      <td>One</td>\n",
              "      <td>10.0</td>\n",
              "      <td>1</td>\n",
              "      <td>Never</td>\n",
              "      <td>No</td>\n",
              "      <td>201-500</td>\n",
              "      <td>Other industries</td>\n",
              "      <td>8</td>\n",
              "      <td>9</td>\n",
              "    </tr>\n",
              "    <tr>\n",
              "      <th>2</th>\n",
              "      <td>Female</td>\n",
              "      <td>22</td>\n",
              "      <td>Argentina</td>\n",
              "      <td>Ciudad Autónoma de Buenos Aires</td>\n",
              "      <td>2.0</td>\n",
              "      <td>0.0</td>\n",
              "      <td>0.0</td>\n",
              "      <td>0</td>\n",
              "      <td>Secondary</td>\n",
              "      <td>Complete</td>\n",
              "      <td>NaN</td>\n",
              "      <td>NaN</td>\n",
              "      <td>Yes, they were paid by myself, Yes, they were ...</td>\n",
              "      <td>No</td>\n",
              "      <td>Yes</td>\n",
              "      <td>Infosec</td>\n",
              "      <td>Linux, VMWare</td>\n",
              "      <td>None</td>\n",
              "      <td>None</td>\n",
              "      <td>None</td>\n",
              "      <td>None</td>\n",
              "      <td>None</td>\n",
              "      <td>Windows</td>\n",
              "      <td>iOS</td>\n",
              "      <td>No</td>\n",
              "      <td>0.0</td>\n",
              "      <td>Percentage of my salary</td>\n",
              "      <td>Full-Time</td>\n",
              "      <td>160000.0</td>\n",
              "      <td>127000.0</td>\n",
              "      <td>NaN</td>\n",
              "      <td>3</td>\n",
              "      <td>3</td>\n",
              "      <td>One salary</td>\n",
              "      <td>No</td>\n",
              "      <td>0.0</td>\n",
              "      <td>0</td>\n",
              "      <td>In a previous job</td>\n",
              "      <td>No</td>\n",
              "      <td>2001-5000</td>\n",
              "      <td>Other industries</td>\n",
              "      <td>6</td>\n",
              "      <td>9</td>\n",
              "    </tr>\n",
              "  </tbody>\n",
              "</table>\n",
              "</div>\n",
              "      <button class=\"colab-df-convert\" onclick=\"convertToInteractive('df-94333006-85de-4bc5-a47b-2bbb6ba8d02f')\"\n",
              "              title=\"Convert this dataframe to an interactive table.\"\n",
              "              style=\"display:none;\">\n",
              "        \n",
              "  <svg xmlns=\"http://www.w3.org/2000/svg\" height=\"24px\"viewBox=\"0 0 24 24\"\n",
              "       width=\"24px\">\n",
              "    <path d=\"M0 0h24v24H0V0z\" fill=\"none\"/>\n",
              "    <path d=\"M18.56 5.44l.94 2.06.94-2.06 2.06-.94-2.06-.94-.94-2.06-.94 2.06-2.06.94zm-11 1L8.5 8.5l.94-2.06 2.06-.94-2.06-.94L8.5 2.5l-.94 2.06-2.06.94zm10 10l.94 2.06.94-2.06 2.06-.94-2.06-.94-.94-2.06-.94 2.06-2.06.94z\"/><path d=\"M17.41 7.96l-1.37-1.37c-.4-.4-.92-.59-1.43-.59-.52 0-1.04.2-1.43.59L10.3 9.45l-7.72 7.72c-.78.78-.78 2.05 0 2.83L4 21.41c.39.39.9.59 1.41.59.51 0 1.02-.2 1.41-.59l7.78-7.78 2.81-2.81c.8-.78.8-2.07 0-2.86zM5.41 20L4 18.59l7.72-7.72 1.47 1.35L5.41 20z\"/>\n",
              "  </svg>\n",
              "      </button>\n",
              "      \n",
              "  <style>\n",
              "    .colab-df-container {\n",
              "      display:flex;\n",
              "      flex-wrap:wrap;\n",
              "      gap: 12px;\n",
              "    }\n",
              "\n",
              "    .colab-df-convert {\n",
              "      background-color: #E8F0FE;\n",
              "      border: none;\n",
              "      border-radius: 50%;\n",
              "      cursor: pointer;\n",
              "      display: none;\n",
              "      fill: #1967D2;\n",
              "      height: 32px;\n",
              "      padding: 0 0 0 0;\n",
              "      width: 32px;\n",
              "    }\n",
              "\n",
              "    .colab-df-convert:hover {\n",
              "      background-color: #E2EBFA;\n",
              "      box-shadow: 0px 1px 2px rgba(60, 64, 67, 0.3), 0px 1px 3px 1px rgba(60, 64, 67, 0.15);\n",
              "      fill: #174EA6;\n",
              "    }\n",
              "\n",
              "    [theme=dark] .colab-df-convert {\n",
              "      background-color: #3B4455;\n",
              "      fill: #D2E3FC;\n",
              "    }\n",
              "\n",
              "    [theme=dark] .colab-df-convert:hover {\n",
              "      background-color: #434B5C;\n",
              "      box-shadow: 0px 1px 3px 1px rgba(0, 0, 0, 0.15);\n",
              "      filter: drop-shadow(0px 1px 2px rgba(0, 0, 0, 0.3));\n",
              "      fill: #FFFFFF;\n",
              "    }\n",
              "  </style>\n",
              "\n",
              "      <script>\n",
              "        const buttonEl =\n",
              "          document.querySelector('#df-94333006-85de-4bc5-a47b-2bbb6ba8d02f button.colab-df-convert');\n",
              "        buttonEl.style.display =\n",
              "          google.colab.kernel.accessAllowed ? 'block' : 'none';\n",
              "\n",
              "        async function convertToInteractive(key) {\n",
              "          const element = document.querySelector('#df-94333006-85de-4bc5-a47b-2bbb6ba8d02f');\n",
              "          const dataTable =\n",
              "            await google.colab.kernel.invokeFunction('convertToInteractive',\n",
              "                                                     [key], {});\n",
              "          if (!dataTable) return;\n",
              "\n",
              "          const docLinkHtml = 'Like what you see? Visit the ' +\n",
              "            '<a target=\"_blank\" href=https://colab.research.google.com/notebooks/data_table.ipynb>data table notebook</a>'\n",
              "            + ' to learn more about interactive tables.';\n",
              "          element.innerHTML = '';\n",
              "          dataTable['output_type'] = 'display_data';\n",
              "          await google.colab.output.renderOutput(dataTable, element);\n",
              "          const docLink = document.createElement('div');\n",
              "          docLink.innerHTML = docLinkHtml;\n",
              "          element.appendChild(docLink);\n",
              "        }\n",
              "      </script>\n",
              "    </div>\n",
              "  </div>\n",
              "  "
            ],
            "text/plain": [
              "  profile_gender  profile_age  ... company_recommended company_diversity_policies\n",
              "0         Female           26  ...                   7                          2\n",
              "1           Male           29  ...                   8                          9\n",
              "2         Female           22  ...                   6                          9\n",
              "\n",
              "[3 rows x 43 columns]"
            ]
          },
          "metadata": {},
          "execution_count": 90
        }
      ]
    },
    {
      "cell_type": "markdown",
      "metadata": {
        "id": "uI51zs3MoPKI"
      },
      "source": [
        "# Analysis of the salary\n",
        "\n",
        "The first question that comes to mind when we see this survey is: **\"What is the salary of software developers in Argentina?\"**.\n",
        "\n",
        "This is a starting point for the analysis of the data set. The whole process will consist of several iterations: as conclusions are drawn, other relevant aspects of the data will be discovered, triggering new questions."
      ]
    },
    {
      "cell_type": "markdown",
      "metadata": {
        "id": "uX_twatXtp9a"
      },
      "source": [
        "To learn more about the distribution of salaries, it is necessary to choose a column of the survey to analyze."
      ]
    },
    {
      "cell_type": "code",
      "metadata": {
        "id": "-lFCvZP_tj7U"
      },
      "source": [
        "salary_col = 'salary_monthly_NET'"
      ],
      "execution_count": null,
      "outputs": []
    },
    {
      "cell_type": "markdown",
      "metadata": {
        "id": "Rx7D2-rgIioD"
      },
      "source": [
        "An excellent way to start exploration is through visualization. Seaborn provides a specific plot type for plotting columns containing numbers, called a `displot`. (Don't confuse with `distplot`, which is deprecated).\n",
        "\n",
        "The generated graph is a **histogram** of frequencies. First, the values taken by the column are plotted on the x-axis, divided into intervals or bins. Then, on the y-axis, the count of occurrences of values in each interval is plotted."
      ]
    },
    {
      "cell_type": "code",
      "metadata": {
        "id": "2EXC0yLXoC5k",
        "colab": {
          "base_uri": "https://localhost:8080/",
          "height": 352
        },
        "outputId": "475417de-9bf1-494d-c919-3042cf167c92"
      },
      "source": [
        "seaborn.displot(df[salary_col], aspect=2)\n",
        "## Avoid scientific notation in the x axis\n",
        "plt.ticklabel_format(style='plain', axis='x')"
      ],
      "execution_count": null,
      "outputs": [
        {
          "output_type": "display_data",
          "data": {
            "image/png": "[encoded data removed]",
            "text/plain": [
              "<Figure size 720x360 with 1 Axes>"
            ]
          },
          "metadata": {
            "needs_background": "light"
          }
        }
      ]
    },
    {
      "cell_type": "markdown",
      "metadata": {
        "id": "gq8L1PQOvJOm"
      },
      "source": [
        "### What can we see?\n",
        "\n",
        "Simple visualizations are handy for getting to know the shape of your data quickly because they condense a lot of information. For example:\n",
        "* The range of values taken by the column goes from 0 to approximately 2M.\n",
        "* Most values condense below 250K, and few exceed 500K.\n",
        "* The most frequent values appear to be close to 100K.\n",
        "* There is a peak of occurrences at the value 0.\n",
        "  and provide little detail.\n",
        "\n",
        "## Exercise: What other types of questions can we ask ourselves at this point that are not answered with a histogram?"
      ]
    },
    {
      "cell_type": "code",
      "metadata": {
        "id": "H3nkUDGd0Osd",
        "colab": {
          "base_uri": "https://localhost:8080/",
          "height": 644
        },
        "outputId": "a7e452c5-570e-4fab-d43c-6bd6663a0bbe"
      },
      "source": [
        "fig = plt.figure(figsize=(10, 10))\n",
        "seaborn.countplot(y=df.work_province, color='steelblue')"
      ],
      "execution_count": null,
      "outputs": [
        {
          "output_type": "execute_result",
          "data": {
            "text/plain": [
              "<matplotlib.axes._subplots.AxesSubplot at 0x7f3dca23c7d0>"
            ]
          },
          "metadata": {
            "tags": []
          },
          "execution_count": 37
        },
        {
          "output_type": "display_data",
          "data": {
            "image/png": "[encoded data removed]",
            "text/plain": [
              "<Figure size 720x720 with 1 Axes>"
            ]
          },
          "metadata": {
            "tags": [],
            "needs_background": "light"
          }
        }
      ]
    },
    {
      "cell_type": "code",
      "metadata": {
        "colab": {
          "base_uri": "https://localhost:8080/",
          "height": 319
        },
        "id": "n-Fy0He7y2ve",
        "outputId": "e2c91842-1895-4978-d8e8-66c1be3c0493"
      },
      "source": [
        "seaborn.countplot(x=df.work_province, color='steelblue')"
      ],
      "execution_count": null,
      "outputs": [
        {
          "output_type": "execute_result",
          "data": {
            "text/plain": [
              "<matplotlib.axes._subplots.AxesSubplot at 0x7f3dca32cb90>"
            ]
          },
          "metadata": {
            "tags": []
          },
          "execution_count": 32
        },
        {
          "output_type": "display_data",
          "data": {
            "image/png": "[encoded data removed]",
            "text/plain": [
              "<Figure size 432x288 with 1 Axes>"
            ]
          },
          "metadata": {
            "tags": [],
            "needs_background": "light"
          }
        }
      ]
    },
    {
      "cell_type": "markdown",
      "metadata": {
        "id": "WxhUA46yw6RS"
      },
      "source": [
        "To continue the analysis, it is necessary to apply theoretical tools provided by Statistics and Probability."
      ]
    },
    {
      "cell_type": "markdown",
      "metadata": {
        "id": "ElD6s__FHyw1"
      },
      "source": [
        "## Random variables and their types\n",
        "\n",
        "Based on the definition of random variables that we discussed, we can say that each dataset column is a **random variable**. The value of each row is a **realization** of that variable. But what type do those variables have?"
      ]
    },
    {
      "cell_type": "markdown",
      "metadata": {
        "id": "fDT1wPpmIXPU"
      },
      "source": [
        "### Numerical random variables\n",
        "\n",
        "Salary, age, years of experience are random variables whose range is a numerical set. Therefore, we can classify them as **continuous** or **discrete**, although that distinction becomes blurred when working with data computationally. Why?\n",
        "\n",
        "* Data that are theoretically continuous is measured discretely. For example, *years* of experience, a person's height in *centimeters*.\n",
        "* Data that are continuous in theory are discretized for practical purposes. For example, age salary in Argentine pesos."
      ]
    },
    {
      "cell_type": "markdown",
      "metadata": {
        "id": "jBUC2KrxLrf4"
      },
      "source": [
        "To analyze continuous data, histograms are frequently used, as in the previous case of salaries.\n",
        "\n",
        "**Tip!** Before plotting, check the range (since seaborn will try to create thousands of segments if the range is too large) and remove null values."
      ]
    },
    {
      "cell_type": "code",
      "metadata": {
        "colab": {
          "base_uri": "https://localhost:8080/"
        },
        "id": "xF9tJgmnJmzf",
        "outputId": "5edd6bf8-5002-494b-fe88-3bf3ae62ae0a"
      },
      "source": [
        "df.profile_age.min(), df.profile_age.max()"
      ],
      "execution_count": null,
      "outputs": [
        {
          "output_type": "execute_result",
          "data": {
            "text/plain": [
              "(18, 52000)"
            ]
          },
          "metadata": {
            "tags": []
          },
          "execution_count": 6
        }
      ]
    },
    {
      "cell_type": "code",
      "metadata": {
        "colab": {
          "base_uri": "https://localhost:8080/",
          "height": 386
        },
        "id": "98sP34xDixWP",
        "outputId": "e99fe85a-a785-4723-f6bd-f6c94182f4ac"
      },
      "source": [
        "seaborn.displot(df.profile_age[df.profile_age < 100].dropna(),\n",
        "                 stat='count', aspect=4)"
      ],
      "execution_count": null,
      "outputs": [
        {
          "output_type": "execute_result",
          "data": {
            "text/plain": [
              "<seaborn.axisgrid.FacetGrid at 0x7f7c361ab710>"
            ]
          },
          "metadata": {
            "tags": []
          },
          "execution_count": 7
        },
        {
          "output_type": "display_data",
          "data": {
            "image/png": "[encoded data removed]",
            "text/plain": [
              "<Figure size 1440x360 with 1 Axes>"
            ]
          },
          "metadata": {
            "tags": [],
            "needs_background": "light"
          }
        }
      ]
    },
    {
      "cell_type": "markdown",
      "metadata": {
        "id": "HK_1M3qQ43_1"
      },
      "source": [
        "However, histograms can hide information. Why? Because they group ranges of values into automatically inferred intervals. As a result, the display varies with different segment lengths. For example, let's compare the following histograms."
      ]
    },
    {
      "cell_type": "code",
      "metadata": {
        "id": "BR9K373qujYJ",
        "colab": {
          "base_uri": "https://localhost:8080/",
          "height": 627
        },
        "outputId": "a2957639-0862-4424-d9be-b72760fbbef7"
      },
      "source": [
        "# Un ejemplo más avanzado\n",
        "fig, ax = plt.subplots(nrows=2, ncols=3, figsize=(15,10), sharey='row')\n",
        "seaborn.histplot(df.profile_age[df.profile_age < 100].dropna(), ax=ax[0,0],\n",
        "                 stat='count')\n",
        "seaborn.histplot(df.profile_age[df.profile_age < 100].dropna(), ax=ax[0,1],\n",
        "                 bins=20, stat='count')\n",
        "seaborn.histplot(df.profile_age[df.profile_age < 100].dropna(), ax=ax[0,2],\n",
        "                 bins=5, stat='count')\n",
        "\n",
        "seaborn.histplot(df.profile_age[df.profile_age < 100].dropna(), ax=ax[1,0],\n",
        "                 stat='frequency')\n",
        "seaborn.histplot(df.profile_age[df.profile_age < 100].dropna(), ax=ax[1,1],\n",
        "                 bins=20, stat='frequency')\n",
        "seaborn.histplot(df.profile_age[df.profile_age < 100].dropna(), ax=ax[1,2],\n",
        "                 bins=5, stat='frequency')\n",
        "\n",
        "fig.show()"
      ],
      "execution_count": null,
      "outputs": [
        {
          "output_type": "display_data",
          "data": {
            "image/png": "[encoded data removed]",
            "text/plain": [
              "<Figure size 1080x720 with 6 Axes>"
            ]
          },
          "metadata": {
            "tags": [],
            "needs_background": "light"
          }
        }
      ]
    },
    {
      "cell_type": "markdown",
      "metadata": {
        "id": "_kNU3ISA46NE"
      },
      "source": [
        "For discrete variables, a line graph can be used, which allows visualizing the count of each of the points in the observed range.\n",
        "\n",
        "**Can a line chart be used for the `salary_monthly_NET` variable? Makes sense?**"
      ]
    },
    {
      "cell_type": "code",
      "metadata": {
        "colab": {
          "base_uri": "https://localhost:8080/",
          "height": 330
        },
        "id": "z9oJLWSLWpic",
        "outputId": "f2e99f2e-6c99-45ee-d084-35fcea299d05"
      },
      "source": [
        "fig = plt.figure(figsize=(16,4))\n",
        "age_counts = df[df.profile_age < 100].profile_age.value_counts()\n",
        "seaborn.lineplot(age_counts.index, age_counts.values, color='steelblue')\n",
        "plt.xticks(fontsize=14)\n",
        "seaborn.despine()"
      ],
      "execution_count": null,
      "outputs": [
        {
          "output_type": "stream",
          "name": "stderr",
          "text": [
            "/usr/local/lib/python3.7/dist-packages/seaborn/_decorators.py:43: FutureWarning: Pass the following variables as keyword args: x, y. From version 0.12, the only valid positional argument will be `data`, and passing other arguments without an explicit keyword will result in an error or misinterpretation.\n",
            "  FutureWarning\n"
          ]
        },
        {
          "output_type": "display_data",
          "data": {
            "image/png": "[encoded data removed]",
            "text/plain": [
              "<Figure size 1152x288 with 1 Axes>"
            ]
          },
          "metadata": {
            "needs_background": "light"
          }
        }
      ]
    },
    {
      "cell_type": "markdown",
      "metadata": {
        "id": "rq3ALV5OKWAA"
      },
      "source": [
        "### Categorical random variables\n",
        "\n",
        "Categorical variables take values from a pre-defined set, usually but not necessarily finite. To visualize them, a bar graph can be used, representing each observed value with a column and the count of that value with the height of the column.\n",
        "\n",
        "Discrete numerical variables; are they categorical?"
      ]
    },
    {
      "cell_type": "code",
      "metadata": {
        "colab": {
          "base_uri": "https://localhost:8080/"
        },
        "id": "UN1AOH3DakIw",
        "outputId": "c6d80f96-cfd1-4eba-a8e5-a46e7a439ae1"
      },
      "source": [
        "df.profile_gender.unique()"
      ],
      "execution_count": null,
      "outputs": [
        {
          "output_type": "execute_result",
          "data": {
            "text/plain": [
              "array(['Mujer', 'Hombre', 'Otros'], dtype=object)"
            ]
          },
          "metadata": {
            "tags": []
          },
          "execution_count": 10
        }
      ]
    },
    {
      "cell_type": "code",
      "metadata": {
        "colab": {
          "base_uri": "https://localhost:8080/",
          "height": 481
        },
        "id": "IzI0G2jEaeH-",
        "outputId": "78df6cd1-a9c2-458e-ef50-a71dc3cf4015"
      },
      "source": [
        "fig = plt.figure(figsize=(8,6))\n",
        "seaborn.countplot(df.profile_gender, color='steelblue')"
      ],
      "execution_count": null,
      "outputs": [
        {
          "output_type": "stream",
          "text": [
            "/usr/local/lib/python3.7/dist-packages/seaborn/_decorators.py:43: FutureWarning: Pass the following variable as a keyword arg: x. From version 0.12, the only valid positional argument will be `data`, and passing other arguments without an explicit keyword will result in an error or misinterpretation.\n",
            "  FutureWarning\n"
          ],
          "name": "stderr"
        },
        {
          "output_type": "execute_result",
          "data": {
            "text/plain": [
              "<matplotlib.axes._subplots.AxesSubplot at 0x7f7c4740b990>"
            ]
          },
          "metadata": {
            "tags": []
          },
          "execution_count": 11
        },
        {
          "output_type": "display_data",
          "data": {
            "image/png": "[encoded data removed]",
            "text/plain": [
              "<Figure size 576x432 with 1 Axes>"
            ]
          },
          "metadata": {
            "tags": [],
            "needs_background": "light"
          }
        }
      ]
    },
    {
      "cell_type": "markdown",
      "metadata": {
        "id": "LNKEYz22aZLz"
      },
      "source": [
        "Categorical variables can be *ordinal*if a logical order exists between their values. This is independent of whether they are numerical. If an order exists, it is appropriate to include it in the chart."
      ]
    },
    {
      "cell_type": "code",
      "metadata": {
        "id": "3Es9a9vAKLKr",
        "colab": {
          "base_uri": "https://localhost:8080/",
          "height": 551
        },
        "outputId": "b460f202-020c-49e0-ecda-2eef1cc76ea5"
      },
      "source": [
        "sorted_studies_levels = ['Primario', 'Secundario', 'Terciario', 'Universitario',\n",
        "                         'Posgrado', 'Doctorado', 'Posdoctorado']\n",
        "fig, axes = plt.subplots(ncols=2, figsize=(15,6))\n",
        "g = seaborn.countplot(df.profile_studies_level, color='steelblue', ax=axes[0])\n",
        "g = seaborn.countplot(df.profile_studies_level, color='steelblue', ax=axes[1],\n",
        "                  order=sorted_studies_levels)\n",
        "for ax in axes:\n",
        "  ax.tick_params(labelrotation=30)"
      ],
      "execution_count": null,
      "outputs": [
        {
          "output_type": "stream",
          "text": [
            "/usr/local/lib/python3.7/dist-packages/seaborn/_decorators.py:43: FutureWarning: Pass the following variable as a keyword arg: x. From version 0.12, the only valid positional argument will be `data`, and passing other arguments without an explicit keyword will result in an error or misinterpretation.\n",
            "  FutureWarning\n",
            "/usr/local/lib/python3.7/dist-packages/seaborn/_decorators.py:43: FutureWarning: Pass the following variable as a keyword arg: x. From version 0.12, the only valid positional argument will be `data`, and passing other arguments without an explicit keyword will result in an error or misinterpretation.\n",
            "  FutureWarning\n"
          ],
          "name": "stderr"
        },
        {
          "output_type": "display_data",
          "data": {
            "image/png": "[encoded data removed]",
            "text/plain": [
              "<Figure size 1080x432 with 2 Axes>"
            ]
          },
          "metadata": {
            "tags": [],
            "needs_background": "light"
          }
        }
      ]
    },
    {
      "cell_type": "markdown",
      "metadata": {
        "id": "1spi9v6-dLSh"
      },
      "source": [
        "### Variable types vs data types\n",
        "\n",
        "We have to distinguish two concepts with the same name and similar meaning but which are not the same:\n",
        "  - **type of the random variable** is the type of values with which we decide to *interpret* the realizations\n",
        "  - **data type** is a programming concept that indicates in what format the information is represented. When we assign a *Python program* variable `age` to a realization of a conceptual `profile_age` random variable, that `age` variable also has a *Python* type, for example, `int` or `float`."
      ]
    },
    {
      "cell_type": "code",
      "metadata": {
        "colab": {
          "base_uri": "https://localhost:8080/"
        },
        "id": "W4EfQjqte1hl",
        "outputId": "d9369b25-35d3-4c55-d53e-9e4267a6d350"
      },
      "source": [
        "age = df.profile_age.iloc[0]\n",
        "type(age)"
      ],
      "execution_count": null,
      "outputs": [
        {
          "output_type": "execute_result",
          "data": {
            "text/plain": [
              "numpy.int64"
            ]
          },
          "metadata": {
            "tags": []
          },
          "execution_count": 13
        }
      ]
    },
    {
      "cell_type": "markdown",
      "metadata": {
        "id": "P96ppb5pfY77"
      },
      "source": [
        "*Important!* You must also consider the limits of computational capacity when representing mathematical entities.\n",
        "* Real numbers are always \"rounded\" to a rational representation.\n",
        "* Basic types like `Int` can only represent numbers in a range, eg `(-2^31, 2^31)`. Exceeding the range can have unexpected consequences, such as `integer overflow`.\n",
        "\n",
        "Why is it important to know? Because rounding errors or approximate results may occur."
      ]
    },
    {
      "cell_type": "code",
      "metadata": {
        "colab": {
          "base_uri": "https://localhost:8080/"
        },
        "id": "BBuFctfvZtAL",
        "outputId": "413fff00-c712-4c60-d80a-725694292a89"
      },
      "source": [
        "print(type(3), type(3.44), type(1/3))\n",
        "import numpy\n",
        "print(numpy.iinfo('int64').min, numpy.iinfo('int64').max)\n",
        "numpy.int64(numpy.iinfo('int64').max) + 1"
      ],
      "execution_count": null,
      "outputs": [
        {
          "output_type": "stream",
          "text": [
            "<class 'int'> <class 'float'> <class 'float'>\n",
            "-9223372036854775808 9223372036854775807\n"
          ],
          "name": "stdout"
        },
        {
          "output_type": "stream",
          "text": [
            "/usr/local/lib/python3.7/dist-packages/ipykernel_launcher.py:4: RuntimeWarning: overflow encountered in long_scalars\n",
            "  after removing the cwd from sys.path.\n"
          ],
          "name": "stderr"
        },
        {
          "output_type": "execute_result",
          "data": {
            "text/plain": [
              "-9223372036854775808"
            ]
          },
          "metadata": {
            "tags": []
          },
          "execution_count": 14
        }
      ]
    },
    {
      "cell_type": "markdown",
      "metadata": {
        "id": "SX7jH3IOhMk8"
      },
      "source": [
        "The data types of the DataFrame can be accessed. The `object` type is used to represent any non-numeric variable, such as `str`."
      ]
    },
    {
      "cell_type": "code",
      "metadata": {
        "colab": {
          "base_uri": "https://localhost:8080/"
        },
        "id": "49W3njDLhOHe",
        "outputId": "06bea6e0-2938-4376-ceb5-262eac1eccf9"
      },
      "source": [
        "df.dtypes[:10]"
      ],
      "execution_count": null,
      "outputs": [
        {
          "output_type": "execute_result",
          "data": {
            "text/plain": [
              "profile_gender                     object\n",
              "profile_age                         int64\n",
              "work_country                       object\n",
              "work_province                      object\n",
              "profile_years_experience          float64\n",
              "work_years_in_company             float64\n",
              "work_years_in_current_position    float64\n",
              "work_people_in_charge_of            int64\n",
              "profile_studies_level              object\n",
              "profile_studies_level_state        object\n",
              "dtype: object"
            ]
          },
          "metadata": {},
          "execution_count": 94
        }
      ]
    },
    {
      "cell_type": "markdown",
      "metadata": {
        "id": "kF5u79olaP_C"
      },
      "source": [
        "Remember that the graphics libraries will allow us to create the visualizations we want, as long as the data types are appropriate.\n",
        "\n",
        "For example, we can make a histogram of the variable `profile_open_source_contributions` by casting it to type `bool` (which is internally represented as an integer type). However, this doesn't make any sense."
      ]
    },
    {
      "cell_type": "code",
      "metadata": {
        "colab": {
          "base_uri": "https://localhost:8080/"
        },
        "id": "e_NtWA6KjZUY",
        "outputId": "567cb15b-aa55-495f-d419-e84c9d7efd8e"
      },
      "source": [
        "df.loc[:,'salary_in_usd_bool'] = \\\n",
        "  df.salary_in_usd.replace({'My salary is dollarized': True}).fillna(False)\n",
        "print(df.salary_in_usd.unique(), df.salary_in_usd_bool.unique())"
      ],
      "execution_count": null,
      "outputs": [
        {
          "output_type": "stream",
          "name": "stdout",
          "text": [
            "[nan 'My salary is dollarized'] [False  True]\n"
          ]
        }
      ]
    },
    {
      "cell_type": "code",
      "metadata": {
        "colab": {
          "base_uri": "https://localhost:8080/",
          "height": 318
        },
        "id": "KIyV5sezkSTE",
        "outputId": "63c41f17-c414-47d9-b523-98b16f2aa2ec"
      },
      "source": [
        "seaborn.histplot(df.salary_in_usd_bool, bins=5)"
      ],
      "execution_count": null,
      "outputs": [
        {
          "output_type": "execute_result",
          "data": {
            "text/plain": [
              "<matplotlib.axes._subplots.AxesSubplot at 0x7fcfd4197190>"
            ]
          },
          "metadata": {},
          "execution_count": 97
        },
        {
          "output_type": "display_data",
          "data": {
            "image/png": "[encoded data removed]",
            "text/plain": [
              "<Figure size 432x288 with 1 Axes>"
            ]
          },
          "metadata": {
            "needs_background": "light"
          }
        }
      ]
    },
    {
      "cell_type": "markdown",
      "metadata": {
        "id": "c0HKdM8olrwE"
      },
      "source": [
        "We can also plot the frequency of a categorical variable using a line graph. **Why is this plot incorrect?**"
      ]
    },
    {
      "cell_type": "code",
      "metadata": {
        "colab": {
          "base_uri": "https://localhost:8080/",
          "height": 476
        },
        "id": "KB_ogJIzkOSk",
        "outputId": "2714df57-c249-4d38-f2fd-58afedeed58e"
      },
      "source": [
        "count_by_province = df.work_province.value_counts()\n",
        "fig = plt.figure(figsize=(16, 4))\n",
        "seaborn.lineplot(x=count_by_province.index, y=count_by_province.values)\n",
        "plt.xticks(rotation=45)\n",
        "seaborn.despine()"
      ],
      "execution_count": null,
      "outputs": [
        {
          "output_type": "display_data",
          "data": {
            "image/png": "[encoded data removed]",
            "text/plain": [
              "<Figure size 1152x288 with 1 Axes>"
            ]
          },
          "metadata": {
            "needs_background": "light"
          }
        }
      ]
    },
    {
      "cell_type": "markdown",
      "metadata": {
        "id": "PaQBY7c3oGk7"
      },
      "source": [
        "# Analysis of the impact of years of experience\n",
        "\n",
        "Now that we know roughly the shape of our data, we can move on to another question (another iteration of the analysis process):\n",
        "\n",
        "**Does more years of experience mean you get paid more?**\n",
        "\n",
        "To answer this question, we analyze the probability that a programmer has a monthly salary higher than the average when he has more than 5 years of experience."
      ]
    },
    {
      "cell_type": "code",
      "metadata": {
        "id": "DXQCb250t94J",
        "colab": {
          "base_uri": "https://localhost:8080/"
        },
        "outputId": "a26e9442-0284-4dc3-f108-051d2e6a381c"
      },
      "source": [
        "avg_salary = df[salary_col].mean()\n",
        "avg_salary"
      ],
      "execution_count": null,
      "outputs": [
        {
          "output_type": "execute_result",
          "data": {
            "text/plain": [
              "94907.9491018188"
            ]
          },
          "metadata": {
            "tags": []
          },
          "execution_count": 20
        }
      ]
    },
    {
      "cell_type": "markdown",
      "metadata": {
        "id": "WRssCsuhbzpd"
      },
      "source": [
        "## Probability measure\n",
        "\n",
        "We saw that if each of our events is independent and identically distributed, that is, $P(\\{\\omega_i\\})=1/k$, then the probability of a set $A \\subset \\Omega$ is the ratio of $A$, where.\n",
        "\n",
        "$$P(\\{\\omega_i\\})=1/k \\implies P(A)=|A|/|\\Omega|=|A|/k$$\n",
        "\n",
        "In this problem, $\\Omega$ are all the answers in the dataset, each $a_i$ is a variable representing an answer, and the set $A$ are the answers (rows) in which the `salary_col` column has a higher than average value.\n"
      ]
    },
    {
      "cell_type": "code",
      "metadata": {
        "colab": {
          "base_uri": "https://localhost:8080/"
        },
        "id": "WxN28Ib3uQl2",
        "outputId": "9af35c2b-da41-46d2-c444-1e9d75957e89"
      },
      "source": [
        "p_above_avg = len(df[df[salary_col] >= avg_salary]) / len(df)\n",
        "p_above_avg"
      ],
      "execution_count": null,
      "outputs": [
        {
          "output_type": "execute_result",
          "data": {
            "text/plain": [
              "0.33125512715340444"
            ]
          },
          "metadata": {
            "tags": []
          },
          "execution_count": 21
        }
      ]
    },
    {
      "cell_type": "markdown",
      "metadata": {
        "id": "0EC-NAnOuy_s"
      },
      "source": [
        "* Why can we use probability theory?\n",
        "* Why do we calculate a probability with this formula?\n",
        "* How can we interpret this probability?"
      ]
    },
    {
      "cell_type": "markdown",
      "metadata": {
        "id": "s4KuOb_tn2zG"
      },
      "source": [
        "## Conditional Probability\n",
        "\n",
        "Now we can move on to talk about the conditional probability between the two events. We define it as\n",
        "\n",
        "$$P(A|B) = \\frac{P(A \\cap B)}{P(B)}$$\n",
        "\n",
        "This is equivalent to:\n",
        "\n",
        "$$P(A|B) = \\frac{|A \\cap B|}{|B|}$$\n",
        "\n",
        "## Exercise\n",
        "\n",
        "Answer: **If one has more than 5 years of experience, does the probability of earning more than the average increase? Are these events independent?**"
      ]
    },
    {
      "cell_type": "code",
      "metadata": {
        "id": "2lzmzK1NuPNT"
      },
      "source": [
        "is_above_avg = df[salary_col] > avg_salary\n",
        "experience_greater_5 = df.profile_years_experience > 5\n",
        "intersection_count = len(df[is_above_avg & experience_greater_5])"
      ],
      "execution_count": null,
      "outputs": []
    },
    {
      "cell_type": "code",
      "metadata": {
        "id": "PaINF9wSp8bk",
        "colab": {
          "base_uri": "https://localhost:8080/"
        },
        "outputId": "effdd840-a80f-4aa7-9368-4e3894b18950"
      },
      "source": [
        "p_above_avg_given_experience = 0\n",
        "p_above_avg_given_experience"
      ],
      "execution_count": null,
      "outputs": [
        {
          "output_type": "execute_result",
          "data": {
            "text/plain": [
              "0"
            ]
          },
          "metadata": {
            "tags": []
          },
          "execution_count": 23
        }
      ]
    },
    {
      "cell_type": "code",
      "metadata": {
        "id": "BA7YyOp7IIrb"
      },
      "source": [
        "plt.figure(figsize=(12, 6))\n",
        "seaborn.boxplot(data=df, x=salary_col, y='profile_studies_level',\n",
        "                color='orangered')\n",
        "plt.ticklabel_format(style='plain', axis='x')"
      ],
      "execution_count": null,
      "outputs": []
    }
  ]
}