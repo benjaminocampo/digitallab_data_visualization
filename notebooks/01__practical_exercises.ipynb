{
  "nbformat": 4,
  "nbformat_minor": 0,
  "metadata": {
    "colab": {
      "name": "01__practical_exercises.ipynb",
      "provenance": [],
      "collapsed_sections": []
    },
    "kernelspec": {
      "name": "python3",
      "display_name": "Python 3"
    }
  },
  "cells": [
    {
      "cell_type": "markdown",
      "metadata": {
        "id": "LYvAOR2VzHmW"
      },
      "source": [
        "## Practical Exercises - Part 1"
      ]
    },
    {
      "cell_type": "code",
      "metadata": {
        "id": "Xwdfo7z20TUK"
      },
      "source": [
        "import io\n",
        "import matplotlib\n",
        "import matplotlib.pyplot as plt\n",
        "import numpy\n",
        "import pandas as pd\n",
        "import seaborn\n",
        "\n",
        "seaborn.set_context('talk')"
      ],
      "execution_count": 1,
      "outputs": []
    },
    {
      "cell_type": "markdown",
      "metadata": {
        "id": "XY2Hl-Ma07Nn"
      },
      "source": [
        "## Reading the dataset"
      ]
    },
    {
      "cell_type": "code",
      "metadata": {
        "id": "Vviv_sqXdR5W"
      },
      "source": [
        "url = 'https://www.famaf.unc.edu.ar/~nocampo043/sysarmy_survey_2020_processed.csv'\n",
        "df = pd.read_csv(url)"
      ],
      "execution_count": 2,
      "outputs": []
    },
    {
      "cell_type": "code",
      "source": [
        "df[\"tools_programming_languages\"].iloc[6092]"
      ],
      "metadata": {
        "colab": {
          "base_uri": "https://localhost:8080/",
          "height": 36
        },
        "id": "YhZToMpI5dRW",
        "outputId": "363a05b4-09c0-4347-d93a-7a97ed08dbb1"
      },
      "execution_count": 3,
      "outputs": [
        {
          "output_type": "execute_result",
          "data": {
            "application/vnd.google.colaboratory.intrinsic+json": {
              "type": "string"
            },
            "text/plain": [
              "'None of the previous one'"
            ]
          },
          "metadata": {},
          "execution_count": 3
        }
      ]
    },
    {
      "cell_type": "code",
      "metadata": {
        "id": "gckNHXXLktJ4",
        "colab": {
          "base_uri": "https://localhost:8080/",
          "height": 306
        },
        "outputId": "bebdfbfc-3794-47b5-d468-335031cfbb2e"
      },
      "source": [
        "df[:3]"
      ],
      "execution_count": 4,
      "outputs": [
        {
          "output_type": "execute_result",
          "data": {
            "text/html": [
              "\n",
              "  <div id=\"df-c103fb0d-9892-4c9c-8e50-ea8dd8d4031a\">\n",
              "    <div class=\"colab-df-container\">\n",
              "      <div>\n",
              "<style scoped>\n",
              "    .dataframe tbody tr th:only-of-type {\n",
              "        vertical-align: middle;\n",
              "    }\n",
              "\n",
              "    .dataframe tbody tr th {\n",
              "        vertical-align: top;\n",
              "    }\n",
              "\n",
              "    .dataframe thead th {\n",
              "        text-align: right;\n",
              "    }\n",
              "</style>\n",
              "<table border=\"1\" class=\"dataframe\">\n",
              "  <thead>\n",
              "    <tr style=\"text-align: right;\">\n",
              "      <th></th>\n",
              "      <th>profile_gender</th>\n",
              "      <th>profile_age</th>\n",
              "      <th>work_country</th>\n",
              "      <th>work_province</th>\n",
              "      <th>profile_years_experience</th>\n",
              "      <th>work_years_in_company</th>\n",
              "      <th>work_years_in_current_position</th>\n",
              "      <th>work_people_in_charge_of</th>\n",
              "      <th>profile_studies_level</th>\n",
              "      <th>profile_studies_level_state</th>\n",
              "      <th>...</th>\n",
              "      <th>salary_has_bonus</th>\n",
              "      <th>salary_inflation_adjustment_2020</th>\n",
              "      <th>salary_percentage_inflation_adjustment_2020</th>\n",
              "      <th>salary_month_last_inflation_adjustment</th>\n",
              "      <th>work_has_violence_situations</th>\n",
              "      <th>profile_has_disabilities_hiring_difficulties</th>\n",
              "      <th>company_employee_number</th>\n",
              "      <th>company_main_activity</th>\n",
              "      <th>company_recommended</th>\n",
              "      <th>company_diversity_policies</th>\n",
              "    </tr>\n",
              "  </thead>\n",
              "  <tbody>\n",
              "    <tr>\n",
              "      <th>0</th>\n",
              "      <td>Female</td>\n",
              "      <td>26</td>\n",
              "      <td>Argentina</td>\n",
              "      <td>Ciudad Autónoma de Buenos Aires</td>\n",
              "      <td>3.0</td>\n",
              "      <td>3.0</td>\n",
              "      <td>3.0</td>\n",
              "      <td>0</td>\n",
              "      <td>University</td>\n",
              "      <td>Ongoing</td>\n",
              "      <td>...</td>\n",
              "      <td>No</td>\n",
              "      <td>No</td>\n",
              "      <td>0.0</td>\n",
              "      <td>0</td>\n",
              "      <td>In my current job</td>\n",
              "      <td>NaN</td>\n",
              "      <td>501-1000</td>\n",
              "      <td>Services / Software Consulting / Digital</td>\n",
              "      <td>7</td>\n",
              "      <td>2</td>\n",
              "    </tr>\n",
              "    <tr>\n",
              "      <th>1</th>\n",
              "      <td>Male</td>\n",
              "      <td>29</td>\n",
              "      <td>Argentina</td>\n",
              "      <td>Corrientes</td>\n",
              "      <td>5.0</td>\n",
              "      <td>2.0</td>\n",
              "      <td>2.0</td>\n",
              "      <td>4</td>\n",
              "      <td>University</td>\n",
              "      <td>Ongoing</td>\n",
              "      <td>...</td>\n",
              "      <td>Less than a salary</td>\n",
              "      <td>One</td>\n",
              "      <td>10.0</td>\n",
              "      <td>1</td>\n",
              "      <td>Never</td>\n",
              "      <td>No</td>\n",
              "      <td>201-500</td>\n",
              "      <td>Other industries</td>\n",
              "      <td>8</td>\n",
              "      <td>9</td>\n",
              "    </tr>\n",
              "    <tr>\n",
              "      <th>2</th>\n",
              "      <td>Female</td>\n",
              "      <td>22</td>\n",
              "      <td>Argentina</td>\n",
              "      <td>Ciudad Autónoma de Buenos Aires</td>\n",
              "      <td>2.0</td>\n",
              "      <td>0.0</td>\n",
              "      <td>0.0</td>\n",
              "      <td>0</td>\n",
              "      <td>Secondary</td>\n",
              "      <td>Complete</td>\n",
              "      <td>...</td>\n",
              "      <td>One salary</td>\n",
              "      <td>No</td>\n",
              "      <td>0.0</td>\n",
              "      <td>0</td>\n",
              "      <td>In a previous job</td>\n",
              "      <td>No</td>\n",
              "      <td>2001-5000</td>\n",
              "      <td>Other industries</td>\n",
              "      <td>6</td>\n",
              "      <td>9</td>\n",
              "    </tr>\n",
              "  </tbody>\n",
              "</table>\n",
              "<p>3 rows × 43 columns</p>\n",
              "</div>\n",
              "      <button class=\"colab-df-convert\" onclick=\"convertToInteractive('df-c103fb0d-9892-4c9c-8e50-ea8dd8d4031a')\"\n",
              "              title=\"Convert this dataframe to an interactive table.\"\n",
              "              style=\"display:none;\">\n",
              "        \n",
              "  <svg xmlns=\"http://www.w3.org/2000/svg\" height=\"24px\"viewBox=\"0 0 24 24\"\n",
              "       width=\"24px\">\n",
              "    <path d=\"M0 0h24v24H0V0z\" fill=\"none\"/>\n",
              "    <path d=\"M18.56 5.44l.94 2.06.94-2.06 2.06-.94-2.06-.94-.94-2.06-.94 2.06-2.06.94zm-11 1L8.5 8.5l.94-2.06 2.06-.94-2.06-.94L8.5 2.5l-.94 2.06-2.06.94zm10 10l.94 2.06.94-2.06 2.06-.94-2.06-.94-.94-2.06-.94 2.06-2.06.94z\"/><path d=\"M17.41 7.96l-1.37-1.37c-.4-.4-.92-.59-1.43-.59-.52 0-1.04.2-1.43.59L10.3 9.45l-7.72 7.72c-.78.78-.78 2.05 0 2.83L4 21.41c.39.39.9.59 1.41.59.51 0 1.02-.2 1.41-.59l7.78-7.78 2.81-2.81c.8-.78.8-2.07 0-2.86zM5.41 20L4 18.59l7.72-7.72 1.47 1.35L5.41 20z\"/>\n",
              "  </svg>\n",
              "      </button>\n",
              "      \n",
              "  <style>\n",
              "    .colab-df-container {\n",
              "      display:flex;\n",
              "      flex-wrap:wrap;\n",
              "      gap: 12px;\n",
              "    }\n",
              "\n",
              "    .colab-df-convert {\n",
              "      background-color: #E8F0FE;\n",
              "      border: none;\n",
              "      border-radius: 50%;\n",
              "      cursor: pointer;\n",
              "      display: none;\n",
              "      fill: #1967D2;\n",
              "      height: 32px;\n",
              "      padding: 0 0 0 0;\n",
              "      width: 32px;\n",
              "    }\n",
              "\n",
              "    .colab-df-convert:hover {\n",
              "      background-color: #E2EBFA;\n",
              "      box-shadow: 0px 1px 2px rgba(60, 64, 67, 0.3), 0px 1px 3px 1px rgba(60, 64, 67, 0.15);\n",
              "      fill: #174EA6;\n",
              "    }\n",
              "\n",
              "    [theme=dark] .colab-df-convert {\n",
              "      background-color: #3B4455;\n",
              "      fill: #D2E3FC;\n",
              "    }\n",
              "\n",
              "    [theme=dark] .colab-df-convert:hover {\n",
              "      background-color: #434B5C;\n",
              "      box-shadow: 0px 1px 3px 1px rgba(0, 0, 0, 0.15);\n",
              "      filter: drop-shadow(0px 1px 2px rgba(0, 0, 0, 0.3));\n",
              "      fill: #FFFFFF;\n",
              "    }\n",
              "  </style>\n",
              "\n",
              "      <script>\n",
              "        const buttonEl =\n",
              "          document.querySelector('#df-c103fb0d-9892-4c9c-8e50-ea8dd8d4031a button.colab-df-convert');\n",
              "        buttonEl.style.display =\n",
              "          google.colab.kernel.accessAllowed ? 'block' : 'none';\n",
              "\n",
              "        async function convertToInteractive(key) {\n",
              "          const element = document.querySelector('#df-c103fb0d-9892-4c9c-8e50-ea8dd8d4031a');\n",
              "          const dataTable =\n",
              "            await google.colab.kernel.invokeFunction('convertToInteractive',\n",
              "                                                     [key], {});\n",
              "          if (!dataTable) return;\n",
              "\n",
              "          const docLinkHtml = 'Like what you see? Visit the ' +\n",
              "            '<a target=\"_blank\" href=https://colab.research.google.com/notebooks/data_table.ipynb>data table notebook</a>'\n",
              "            + ' to learn more about interactive tables.';\n",
              "          element.innerHTML = '';\n",
              "          dataTable['output_type'] = 'display_data';\n",
              "          await google.colab.output.renderOutput(dataTable, element);\n",
              "          const docLink = document.createElement('div');\n",
              "          docLink.innerHTML = docLinkHtml;\n",
              "          element.appendChild(docLink);\n",
              "        }\n",
              "      </script>\n",
              "    </div>\n",
              "  </div>\n",
              "  "
            ],
            "text/plain": [
              "  profile_gender  profile_age work_country                    work_province  \\\n",
              "0         Female           26    Argentina  Ciudad Autónoma de Buenos Aires   \n",
              "1           Male           29    Argentina                       Corrientes   \n",
              "2         Female           22    Argentina  Ciudad Autónoma de Buenos Aires   \n",
              "\n",
              "   profile_years_experience  work_years_in_company  \\\n",
              "0                       3.0                    3.0   \n",
              "1                       5.0                    2.0   \n",
              "2                       2.0                    0.0   \n",
              "\n",
              "   work_years_in_current_position  work_people_in_charge_of  \\\n",
              "0                             3.0                         0   \n",
              "1                             2.0                         4   \n",
              "2                             0.0                         0   \n",
              "\n",
              "  profile_studies_level profile_studies_level_state  ...    salary_has_bonus  \\\n",
              "0            University                     Ongoing  ...                  No   \n",
              "1            University                     Ongoing  ...  Less than a salary   \n",
              "2             Secondary                    Complete  ...          One salary   \n",
              "\n",
              "  salary_inflation_adjustment_2020  \\\n",
              "0                               No   \n",
              "1                              One   \n",
              "2                               No   \n",
              "\n",
              "  salary_percentage_inflation_adjustment_2020  \\\n",
              "0                                         0.0   \n",
              "1                                        10.0   \n",
              "2                                         0.0   \n",
              "\n",
              "  salary_month_last_inflation_adjustment work_has_violence_situations  \\\n",
              "0                                      0            In my current job   \n",
              "1                                      1                        Never   \n",
              "2                                      0            In a previous job   \n",
              "\n",
              "  profile_has_disabilities_hiring_difficulties company_employee_number  \\\n",
              "0                                          NaN                501-1000   \n",
              "1                                           No                 201-500   \n",
              "2                                           No               2001-5000   \n",
              "\n",
              "                      company_main_activity company_recommended  \\\n",
              "0  Services / Software Consulting / Digital                   7   \n",
              "1                          Other industries                   8   \n",
              "2                          Other industries                   6   \n",
              "\n",
              "  company_diversity_policies  \n",
              "0                          2  \n",
              "1                          9  \n",
              "2                          9  \n",
              "\n",
              "[3 rows x 43 columns]"
            ]
          },
          "metadata": {},
          "execution_count": 4
        }
      ]
    },
    {
      "cell_type": "markdown",
      "metadata": {
        "id": "-ZSQYANFHHgV"
      },
      "source": [
        "# Exercise 1 - Descriptive analysis\n",
        "\n",
        "Answer the question: **What programming languages are ​​associated with the best salaries?**\n",
        "\n",
        "For it:\n",
        "1. Select the relevant columns to analyze.\n",
        "2. Select the relevant rows to analyze. This includes removing extreme and erroneous values, but you can also focus the analysis on a sub-population. For example, they can be limited to people with a salary greater than 10,000 pesos or people who work only in \"Data Science\", but you must justify your choice and reformulate the initial question if necessary.\n",
        "  * Get a list of the most popular programming languages. Then, decide how many and which ones to select to include in the analysis.\n",
        "  * For each of the columns from the previous point, choose the ranges or values ​​selected to include in the analysis.\n",
        "3. Select metrics that help answer the question and methods to analyze them. Choose ONE of the following options:\n",
        "  * Compare salary distributions for each language using visualizations. As the visualization is the final product, it must be clear and show relevant information.\n",
        "  * Compare measures of descriptive statistics on salary distribution for each language. Be creative. Descriptive statistics allow us to say things like: \"Kotlin programmers mostly earn the top 10% of salaries!\" (where *majority* is a slippery middle ground that just means more than 50%). To compare multiple languages, we recommend using visualizations as well.\n",
        "  * Compare odds. For example: \"If you know Python or Java, you have a 30% more chance of winning over 100K\".\n",
        "\n",
        "If you consider it necessary, carry out several iterations. That is, if they find that the distributions of the programming languages ​​they initially selected are not very different, they can redo the analysis using only the programming languages ​​that are different."
      ]
    },
    {
      "cell_type": "code",
      "metadata": {
        "id": "6dqTEr7cZgvl"
      },
      "source": [
        "# complete here if you want to include more columns\n",
        "relevant_columns = ['tools_programming_languages',\n",
        "                    'salary_monthly_NET',\n",
        "                    'work_contract_type',\n",
        "                    'tools_platform',\n",
        "                    'profile_studies_level']"
      ],
      "execution_count": 5,
      "outputs": []
    },
    {
      "cell_type": "markdown",
      "metadata": {
        "id": "OoGgzMvuEocM"
      },
      "source": [
        "### Frequency count of programming languages\n",
        "\n",
        "The column that contains information about the programming languages used is `tools_programming_languages`. Its values are strings with the selected languages separated by commas."
      ]
    },
    {
      "cell_type": "code",
      "metadata": {
        "colab": {
          "base_uri": "https://localhost:8080/"
        },
        "id": "J7AB2Ty8SvNl",
        "outputId": "2cdde3d9-cf1b-43f8-fcd7-0d979a8855c1"
      },
      "source": [
        "df.tools_programming_languages[:3]"
      ],
      "execution_count": 6,
      "outputs": [
        {
          "output_type": "execute_result",
          "data": {
            "text/plain": [
              "0                        None\n",
              "1    HTML, Javascript, Python\n",
              "2                        None\n",
              "Name: tools_programming_languages, dtype: object"
            ]
          },
          "metadata": {},
          "execution_count": 6
        }
      ]
    },
    {
      "cell_type": "markdown",
      "metadata": {
        "id": "l8bYmvMhSroH"
      },
      "source": [
        "The following code cells separate these programming languages and count how often they appear.\n",
        "\n",
        "It is not necessary to understand this code in depth, although it is a good exercise."
      ]
    },
    {
      "cell_type": "code",
      "metadata": {
        "colab": {
          "base_uri": "https://localhost:8080/",
          "height": 337
        },
        "id": "PAQ81x3iUP_N",
        "outputId": "23f1811f-2364-4415-ad1a-1359ced501a7"
      },
      "source": [
        "# Convert the comma-separated string of languages to a list of string.\n",
        "# Remove 'None of the previous one' option, spaces and training commas.\n",
        "def split_languages(languages_str):\n",
        "  if not isinstance(languages_str, str):\n",
        "    return []\n",
        "  # Remove 'other' option\n",
        "  languages_str = languages_str.lower()\\\n",
        "    .replace('none of the previous one', '') \\\n",
        "    .replace('none', '')\n",
        "  # Split string into list of items\n",
        "  # Remove spaces and commas for each item\n",
        "  return [lang.strip().replace(',', '')\n",
        "          for lang in languages_str.split()]\n",
        "\n",
        "# Create a new column with the list of languages\n",
        "df.loc[:, 'cured_programming_languages'] = df.tools_programming_languages\\\n",
        "    .apply(split_languages)\n",
        "if 'cured_programming_languages' not in relevant_columns:\n",
        "    relevant_columns.append('cured_programming_languages') \n",
        "\n",
        "# Duplicate each row of df for each programming language\n",
        "# mentioned in the response.\n",
        "# We only include in df_lang the columns we are going to analyze later, so we\n",
        "# don't duplicate innecesary information.\n",
        "df_lang = df.cured_programming_languages\\\n",
        "    .apply(pd.Series).stack()\\\n",
        "    .reset_index(level=-1, drop=True).to_frame()\\\n",
        "    .join(df[relevant_columns])\\\n",
        "    .rename(columns={0: 'programming_language'})\n",
        "# Horrible programming style! But a lot of data science code can be written with\n",
        "# as concatenations of functions (pipelines), and there's no elegant way of\n",
        "# doing that on Python.\n",
        "df_lang[:5]"
      ],
      "execution_count": 7,
      "outputs": [
        {
          "output_type": "execute_result",
          "data": {
            "text/html": [
              "\n",
              "  <div id=\"df-f786aabc-e366-4a4b-acd0-a7d68e0f8fe5\">\n",
              "    <div class=\"colab-df-container\">\n",
              "      <div>\n",
              "<style scoped>\n",
              "    .dataframe tbody tr th:only-of-type {\n",
              "        vertical-align: middle;\n",
              "    }\n",
              "\n",
              "    .dataframe tbody tr th {\n",
              "        vertical-align: top;\n",
              "    }\n",
              "\n",
              "    .dataframe thead th {\n",
              "        text-align: right;\n",
              "    }\n",
              "</style>\n",
              "<table border=\"1\" class=\"dataframe\">\n",
              "  <thead>\n",
              "    <tr style=\"text-align: right;\">\n",
              "      <th></th>\n",
              "      <th>programming_language</th>\n",
              "      <th>tools_programming_languages</th>\n",
              "      <th>salary_monthly_NET</th>\n",
              "      <th>work_contract_type</th>\n",
              "      <th>tools_platform</th>\n",
              "      <th>profile_studies_level</th>\n",
              "      <th>cured_programming_languages</th>\n",
              "    </tr>\n",
              "  </thead>\n",
              "  <tbody>\n",
              "    <tr>\n",
              "      <th>1</th>\n",
              "      <td>html</td>\n",
              "      <td>HTML, Javascript, Python</td>\n",
              "      <td>63000.0</td>\n",
              "      <td>Full-Time</td>\n",
              "      <td>Docker, Google Cloud Platform/App Engine</td>\n",
              "      <td>University</td>\n",
              "      <td>[html, javascript, python]</td>\n",
              "    </tr>\n",
              "    <tr>\n",
              "      <th>1</th>\n",
              "      <td>javascript</td>\n",
              "      <td>HTML, Javascript, Python</td>\n",
              "      <td>63000.0</td>\n",
              "      <td>Full-Time</td>\n",
              "      <td>Docker, Google Cloud Platform/App Engine</td>\n",
              "      <td>University</td>\n",
              "      <td>[html, javascript, python]</td>\n",
              "    </tr>\n",
              "    <tr>\n",
              "      <th>1</th>\n",
              "      <td>python</td>\n",
              "      <td>HTML, Javascript, Python</td>\n",
              "      <td>63000.0</td>\n",
              "      <td>Full-Time</td>\n",
              "      <td>Docker, Google Cloud Platform/App Engine</td>\n",
              "      <td>University</td>\n",
              "      <td>[html, javascript, python]</td>\n",
              "    </tr>\n",
              "    <tr>\n",
              "      <th>3</th>\n",
              "      <td>bash/shell</td>\n",
              "      <td>Bash/Shell, C, CSS, HTML, Java, Javascript, PH...</td>\n",
              "      <td>102000.0</td>\n",
              "      <td>Full-Time</td>\n",
              "      <td>Docker, Linux, OpenStack, VMWare, Windows Server</td>\n",
              "      <td>Postgraduate</td>\n",
              "      <td>[bash/shell, c, css, html, java, javascript, p...</td>\n",
              "    </tr>\n",
              "    <tr>\n",
              "      <th>3</th>\n",
              "      <td>c</td>\n",
              "      <td>Bash/Shell, C, CSS, HTML, Java, Javascript, PH...</td>\n",
              "      <td>102000.0</td>\n",
              "      <td>Full-Time</td>\n",
              "      <td>Docker, Linux, OpenStack, VMWare, Windows Server</td>\n",
              "      <td>Postgraduate</td>\n",
              "      <td>[bash/shell, c, css, html, java, javascript, p...</td>\n",
              "    </tr>\n",
              "  </tbody>\n",
              "</table>\n",
              "</div>\n",
              "      <button class=\"colab-df-convert\" onclick=\"convertToInteractive('df-f786aabc-e366-4a4b-acd0-a7d68e0f8fe5')\"\n",
              "              title=\"Convert this dataframe to an interactive table.\"\n",
              "              style=\"display:none;\">\n",
              "        \n",
              "  <svg xmlns=\"http://www.w3.org/2000/svg\" height=\"24px\"viewBox=\"0 0 24 24\"\n",
              "       width=\"24px\">\n",
              "    <path d=\"M0 0h24v24H0V0z\" fill=\"none\"/>\n",
              "    <path d=\"M18.56 5.44l.94 2.06.94-2.06 2.06-.94-2.06-.94-.94-2.06-.94 2.06-2.06.94zm-11 1L8.5 8.5l.94-2.06 2.06-.94-2.06-.94L8.5 2.5l-.94 2.06-2.06.94zm10 10l.94 2.06.94-2.06 2.06-.94-2.06-.94-.94-2.06-.94 2.06-2.06.94z\"/><path d=\"M17.41 7.96l-1.37-1.37c-.4-.4-.92-.59-1.43-.59-.52 0-1.04.2-1.43.59L10.3 9.45l-7.72 7.72c-.78.78-.78 2.05 0 2.83L4 21.41c.39.39.9.59 1.41.59.51 0 1.02-.2 1.41-.59l7.78-7.78 2.81-2.81c.8-.78.8-2.07 0-2.86zM5.41 20L4 18.59l7.72-7.72 1.47 1.35L5.41 20z\"/>\n",
              "  </svg>\n",
              "      </button>\n",
              "      \n",
              "  <style>\n",
              "    .colab-df-container {\n",
              "      display:flex;\n",
              "      flex-wrap:wrap;\n",
              "      gap: 12px;\n",
              "    }\n",
              "\n",
              "    .colab-df-convert {\n",
              "      background-color: #E8F0FE;\n",
              "      border: none;\n",
              "      border-radius: 50%;\n",
              "      cursor: pointer;\n",
              "      display: none;\n",
              "      fill: #1967D2;\n",
              "      height: 32px;\n",
              "      padding: 0 0 0 0;\n",
              "      width: 32px;\n",
              "    }\n",
              "\n",
              "    .colab-df-convert:hover {\n",
              "      background-color: #E2EBFA;\n",
              "      box-shadow: 0px 1px 2px rgba(60, 64, 67, 0.3), 0px 1px 3px 1px rgba(60, 64, 67, 0.15);\n",
              "      fill: #174EA6;\n",
              "    }\n",
              "\n",
              "    [theme=dark] .colab-df-convert {\n",
              "      background-color: #3B4455;\n",
              "      fill: #D2E3FC;\n",
              "    }\n",
              "\n",
              "    [theme=dark] .colab-df-convert:hover {\n",
              "      background-color: #434B5C;\n",
              "      box-shadow: 0px 1px 3px 1px rgba(0, 0, 0, 0.15);\n",
              "      filter: drop-shadow(0px 1px 2px rgba(0, 0, 0, 0.3));\n",
              "      fill: #FFFFFF;\n",
              "    }\n",
              "  </style>\n",
              "\n",
              "      <script>\n",
              "        const buttonEl =\n",
              "          document.querySelector('#df-f786aabc-e366-4a4b-acd0-a7d68e0f8fe5 button.colab-df-convert');\n",
              "        buttonEl.style.display =\n",
              "          google.colab.kernel.accessAllowed ? 'block' : 'none';\n",
              "\n",
              "        async function convertToInteractive(key) {\n",
              "          const element = document.querySelector('#df-f786aabc-e366-4a4b-acd0-a7d68e0f8fe5');\n",
              "          const dataTable =\n",
              "            await google.colab.kernel.invokeFunction('convertToInteractive',\n",
              "                                                     [key], {});\n",
              "          if (!dataTable) return;\n",
              "\n",
              "          const docLinkHtml = 'Like what you see? Visit the ' +\n",
              "            '<a target=\"_blank\" href=https://colab.research.google.com/notebooks/data_table.ipynb>data table notebook</a>'\n",
              "            + ' to learn more about interactive tables.';\n",
              "          element.innerHTML = '';\n",
              "          dataTable['output_type'] = 'display_data';\n",
              "          await google.colab.output.renderOutput(dataTable, element);\n",
              "          const docLink = document.createElement('div');\n",
              "          docLink.innerHTML = docLinkHtml;\n",
              "          element.appendChild(docLink);\n",
              "        }\n",
              "      </script>\n",
              "    </div>\n",
              "  </div>\n",
              "  "
            ],
            "text/plain": [
              "  programming_language                        tools_programming_languages  \\\n",
              "1                 html                           HTML, Javascript, Python   \n",
              "1           javascript                           HTML, Javascript, Python   \n",
              "1               python                           HTML, Javascript, Python   \n",
              "3           bash/shell  Bash/Shell, C, CSS, HTML, Java, Javascript, PH...   \n",
              "3                    c  Bash/Shell, C, CSS, HTML, Java, Javascript, PH...   \n",
              "\n",
              "   salary_monthly_NET work_contract_type  \\\n",
              "1             63000.0          Full-Time   \n",
              "1             63000.0          Full-Time   \n",
              "1             63000.0          Full-Time   \n",
              "3            102000.0          Full-Time   \n",
              "3            102000.0          Full-Time   \n",
              "\n",
              "                                     tools_platform profile_studies_level  \\\n",
              "1          Docker, Google Cloud Platform/App Engine            University   \n",
              "1          Docker, Google Cloud Platform/App Engine            University   \n",
              "1          Docker, Google Cloud Platform/App Engine            University   \n",
              "3  Docker, Linux, OpenStack, VMWare, Windows Server          Postgraduate   \n",
              "3  Docker, Linux, OpenStack, VMWare, Windows Server          Postgraduate   \n",
              "\n",
              "                         cured_programming_languages  \n",
              "1                         [html, javascript, python]  \n",
              "1                         [html, javascript, python]  \n",
              "1                         [html, javascript, python]  \n",
              "3  [bash/shell, c, css, html, java, javascript, p...  \n",
              "3  [bash/shell, c, css, html, java, javascript, p...  "
            ]
          },
          "metadata": {},
          "execution_count": 7
        }
      ]
    },
    {
      "cell_type": "markdown",
      "metadata": {
        "id": "qm8NUg-7UEue"
      },
      "source": [
        "In the `programming_language` column, you will find each language separately. Note that if a response contained 3 languages, such as `\"HTML, Javascript, Python\"`, the row has been replicated 3 times. Therefore, there are three rows with index 1."
      ]
    },
    {
      "cell_type": "code",
      "metadata": {
        "colab": {
          "base_uri": "https://localhost:8080/",
          "height": 363
        },
        "id": "lNPb4tTvWCwv",
        "outputId": "737945bf-4291-4ac6-cb6f-578bc2de6cc2"
      },
      "source": [
        "language_count = df_lang.programming_language.value_counts()\\\n",
        "    .reset_index()\\\n",
        "    .rename(columns={'index': 'language', 'programming_language': 'frequency'})\n",
        "language_count[:10]"
      ],
      "execution_count": 8,
      "outputs": [
        {
          "output_type": "execute_result",
          "data": {
            "text/html": [
              "\n",
              "  <div id=\"df-d6aba201-82fb-431d-b98b-6493cf5782c3\">\n",
              "    <div class=\"colab-df-container\">\n",
              "      <div>\n",
              "<style scoped>\n",
              "    .dataframe tbody tr th:only-of-type {\n",
              "        vertical-align: middle;\n",
              "    }\n",
              "\n",
              "    .dataframe tbody tr th {\n",
              "        vertical-align: top;\n",
              "    }\n",
              "\n",
              "    .dataframe thead th {\n",
              "        text-align: right;\n",
              "    }\n",
              "</style>\n",
              "<table border=\"1\" class=\"dataframe\">\n",
              "  <thead>\n",
              "    <tr style=\"text-align: right;\">\n",
              "      <th></th>\n",
              "      <th>language</th>\n",
              "      <th>frequency</th>\n",
              "    </tr>\n",
              "  </thead>\n",
              "  <tbody>\n",
              "    <tr>\n",
              "      <th>0</th>\n",
              "      <td>javascript</td>\n",
              "      <td>2513</td>\n",
              "    </tr>\n",
              "    <tr>\n",
              "      <th>1</th>\n",
              "      <td>sql</td>\n",
              "      <td>2154</td>\n",
              "    </tr>\n",
              "    <tr>\n",
              "      <th>2</th>\n",
              "      <td>html</td>\n",
              "      <td>1861</td>\n",
              "    </tr>\n",
              "    <tr>\n",
              "      <th>3</th>\n",
              "      <td>python</td>\n",
              "      <td>1475</td>\n",
              "    </tr>\n",
              "    <tr>\n",
              "      <th>4</th>\n",
              "      <td>java</td>\n",
              "      <td>1453</td>\n",
              "    </tr>\n",
              "    <tr>\n",
              "      <th>5</th>\n",
              "      <td>css</td>\n",
              "      <td>1247</td>\n",
              "    </tr>\n",
              "    <tr>\n",
              "      <th>6</th>\n",
              "      <td>bash/shell</td>\n",
              "      <td>993</td>\n",
              "    </tr>\n",
              "    <tr>\n",
              "      <th>7</th>\n",
              "      <td>php</td>\n",
              "      <td>891</td>\n",
              "    </tr>\n",
              "    <tr>\n",
              "      <th>8</th>\n",
              "      <td>.net</td>\n",
              "      <td>823</td>\n",
              "    </tr>\n",
              "    <tr>\n",
              "      <th>9</th>\n",
              "      <td>typescript</td>\n",
              "      <td>779</td>\n",
              "    </tr>\n",
              "  </tbody>\n",
              "</table>\n",
              "</div>\n",
              "      <button class=\"colab-df-convert\" onclick=\"convertToInteractive('df-d6aba201-82fb-431d-b98b-6493cf5782c3')\"\n",
              "              title=\"Convert this dataframe to an interactive table.\"\n",
              "              style=\"display:none;\">\n",
              "        \n",
              "  <svg xmlns=\"http://www.w3.org/2000/svg\" height=\"24px\"viewBox=\"0 0 24 24\"\n",
              "       width=\"24px\">\n",
              "    <path d=\"M0 0h24v24H0V0z\" fill=\"none\"/>\n",
              "    <path d=\"M18.56 5.44l.94 2.06.94-2.06 2.06-.94-2.06-.94-.94-2.06-.94 2.06-2.06.94zm-11 1L8.5 8.5l.94-2.06 2.06-.94-2.06-.94L8.5 2.5l-.94 2.06-2.06.94zm10 10l.94 2.06.94-2.06 2.06-.94-2.06-.94-.94-2.06-.94 2.06-2.06.94z\"/><path d=\"M17.41 7.96l-1.37-1.37c-.4-.4-.92-.59-1.43-.59-.52 0-1.04.2-1.43.59L10.3 9.45l-7.72 7.72c-.78.78-.78 2.05 0 2.83L4 21.41c.39.39.9.59 1.41.59.51 0 1.02-.2 1.41-.59l7.78-7.78 2.81-2.81c.8-.78.8-2.07 0-2.86zM5.41 20L4 18.59l7.72-7.72 1.47 1.35L5.41 20z\"/>\n",
              "  </svg>\n",
              "      </button>\n",
              "      \n",
              "  <style>\n",
              "    .colab-df-container {\n",
              "      display:flex;\n",
              "      flex-wrap:wrap;\n",
              "      gap: 12px;\n",
              "    }\n",
              "\n",
              "    .colab-df-convert {\n",
              "      background-color: #E8F0FE;\n",
              "      border: none;\n",
              "      border-radius: 50%;\n",
              "      cursor: pointer;\n",
              "      display: none;\n",
              "      fill: #1967D2;\n",
              "      height: 32px;\n",
              "      padding: 0 0 0 0;\n",
              "      width: 32px;\n",
              "    }\n",
              "\n",
              "    .colab-df-convert:hover {\n",
              "      background-color: #E2EBFA;\n",
              "      box-shadow: 0px 1px 2px rgba(60, 64, 67, 0.3), 0px 1px 3px 1px rgba(60, 64, 67, 0.15);\n",
              "      fill: #174EA6;\n",
              "    }\n",
              "\n",
              "    [theme=dark] .colab-df-convert {\n",
              "      background-color: #3B4455;\n",
              "      fill: #D2E3FC;\n",
              "    }\n",
              "\n",
              "    [theme=dark] .colab-df-convert:hover {\n",
              "      background-color: #434B5C;\n",
              "      box-shadow: 0px 1px 3px 1px rgba(0, 0, 0, 0.15);\n",
              "      filter: drop-shadow(0px 1px 2px rgba(0, 0, 0, 0.3));\n",
              "      fill: #FFFFFF;\n",
              "    }\n",
              "  </style>\n",
              "\n",
              "      <script>\n",
              "        const buttonEl =\n",
              "          document.querySelector('#df-d6aba201-82fb-431d-b98b-6493cf5782c3 button.colab-df-convert');\n",
              "        buttonEl.style.display =\n",
              "          google.colab.kernel.accessAllowed ? 'block' : 'none';\n",
              "\n",
              "        async function convertToInteractive(key) {\n",
              "          const element = document.querySelector('#df-d6aba201-82fb-431d-b98b-6493cf5782c3');\n",
              "          const dataTable =\n",
              "            await google.colab.kernel.invokeFunction('convertToInteractive',\n",
              "                                                     [key], {});\n",
              "          if (!dataTable) return;\n",
              "\n",
              "          const docLinkHtml = 'Like what you see? Visit the ' +\n",
              "            '<a target=\"_blank\" href=https://colab.research.google.com/notebooks/data_table.ipynb>data table notebook</a>'\n",
              "            + ' to learn more about interactive tables.';\n",
              "          element.innerHTML = '';\n",
              "          dataTable['output_type'] = 'display_data';\n",
              "          await google.colab.output.renderOutput(dataTable, element);\n",
              "          const docLink = document.createElement('div');\n",
              "          docLink.innerHTML = docLinkHtml;\n",
              "          element.appendChild(docLink);\n",
              "        }\n",
              "      </script>\n",
              "    </div>\n",
              "  </div>\n",
              "  "
            ],
            "text/plain": [
              "     language  frequency\n",
              "0  javascript       2513\n",
              "1         sql       2154\n",
              "2        html       1861\n",
              "3      python       1475\n",
              "4        java       1453\n",
              "5         css       1247\n",
              "6  bash/shell        993\n",
              "7         php        891\n",
              "8        .net        823\n",
              "9  typescript        779"
            ]
          },
          "metadata": {},
          "execution_count": 8
        }
      ]
    },
    {
      "cell_type": "markdown",
      "metadata": {
        "id": "nThbJ1KeUgDo"
      },
      "source": [
        "## Relevant language filtering\n",
        "\n",
        "The following code allows you to select only the rows where the value of the `programming_language` column is found in the `interesting_languages` list."
      ]
    },
    {
      "cell_type": "code",
      "metadata": {
        "colab": {
          "base_uri": "https://localhost:8080/",
          "height": 711
        },
        "id": "DEpVptnLZUQU",
        "outputId": "8e181bb2-7e5c-442e-807c-97a2f6a66a8d"
      },
      "source": [
        "# Filter out languages that we want to exclude\n",
        "# Complete here with your selected list.\n",
        "interesting_languages = [\"python\", \"javascript\"]\n",
        "filtered_df_lang = df_lang[df_lang.programming_language.isin(interesting_languages)]\n",
        "filtered_df_lang"
      ],
      "execution_count": 9,
      "outputs": [
        {
          "output_type": "execute_result",
          "data": {
            "text/html": [
              "\n",
              "  <div id=\"df-3b592ad6-3dc6-485b-86cc-6536d480c921\">\n",
              "    <div class=\"colab-df-container\">\n",
              "      <div>\n",
              "<style scoped>\n",
              "    .dataframe tbody tr th:only-of-type {\n",
              "        vertical-align: middle;\n",
              "    }\n",
              "\n",
              "    .dataframe tbody tr th {\n",
              "        vertical-align: top;\n",
              "    }\n",
              "\n",
              "    .dataframe thead th {\n",
              "        text-align: right;\n",
              "    }\n",
              "</style>\n",
              "<table border=\"1\" class=\"dataframe\">\n",
              "  <thead>\n",
              "    <tr style=\"text-align: right;\">\n",
              "      <th></th>\n",
              "      <th>programming_language</th>\n",
              "      <th>tools_programming_languages</th>\n",
              "      <th>salary_monthly_NET</th>\n",
              "      <th>work_contract_type</th>\n",
              "      <th>tools_platform</th>\n",
              "      <th>profile_studies_level</th>\n",
              "      <th>cured_programming_languages</th>\n",
              "    </tr>\n",
              "  </thead>\n",
              "  <tbody>\n",
              "    <tr>\n",
              "      <th>1</th>\n",
              "      <td>javascript</td>\n",
              "      <td>HTML, Javascript, Python</td>\n",
              "      <td>63000.0</td>\n",
              "      <td>Full-Time</td>\n",
              "      <td>Docker, Google Cloud Platform/App Engine</td>\n",
              "      <td>University</td>\n",
              "      <td>[html, javascript, python]</td>\n",
              "    </tr>\n",
              "    <tr>\n",
              "      <th>1</th>\n",
              "      <td>python</td>\n",
              "      <td>HTML, Javascript, Python</td>\n",
              "      <td>63000.0</td>\n",
              "      <td>Full-Time</td>\n",
              "      <td>Docker, Google Cloud Platform/App Engine</td>\n",
              "      <td>University</td>\n",
              "      <td>[html, javascript, python]</td>\n",
              "    </tr>\n",
              "    <tr>\n",
              "      <th>3</th>\n",
              "      <td>javascript</td>\n",
              "      <td>Bash/Shell, C, CSS, HTML, Java, Javascript, PH...</td>\n",
              "      <td>102000.0</td>\n",
              "      <td>Full-Time</td>\n",
              "      <td>Docker, Linux, OpenStack, VMWare, Windows Server</td>\n",
              "      <td>Postgraduate</td>\n",
              "      <td>[bash/shell, c, css, html, java, javascript, p...</td>\n",
              "    </tr>\n",
              "    <tr>\n",
              "      <th>3</th>\n",
              "      <td>python</td>\n",
              "      <td>Bash/Shell, C, CSS, HTML, Java, Javascript, PH...</td>\n",
              "      <td>102000.0</td>\n",
              "      <td>Full-Time</td>\n",
              "      <td>Docker, Linux, OpenStack, VMWare, Windows Server</td>\n",
              "      <td>Postgraduate</td>\n",
              "      <td>[bash/shell, c, css, html, java, javascript, p...</td>\n",
              "    </tr>\n",
              "    <tr>\n",
              "      <th>4</th>\n",
              "      <td>javascript</td>\n",
              "      <td>CSS, HTML, Javascript, SQL, TypeScript</td>\n",
              "      <td>106000.0</td>\n",
              "      <td>Full-Time</td>\n",
              "      <td>Amazon Web Services</td>\n",
              "      <td>University</td>\n",
              "      <td>[css, html, javascript, sql, typescript]</td>\n",
              "    </tr>\n",
              "    <tr>\n",
              "      <th>...</th>\n",
              "      <td>...</td>\n",
              "      <td>...</td>\n",
              "      <td>...</td>\n",
              "      <td>...</td>\n",
              "      <td>...</td>\n",
              "      <td>...</td>\n",
              "      <td>...</td>\n",
              "    </tr>\n",
              "    <tr>\n",
              "      <th>6087</th>\n",
              "      <td>python</td>\n",
              "      <td>Python</td>\n",
              "      <td>120000.0</td>\n",
              "      <td>Full-Time</td>\n",
              "      <td>*BSD, HP-UX, Linux, Solaris</td>\n",
              "      <td>University</td>\n",
              "      <td>[python]</td>\n",
              "    </tr>\n",
              "    <tr>\n",
              "      <th>6089</th>\n",
              "      <td>python</td>\n",
              "      <td>Bash/Shell, Python, SQL</td>\n",
              "      <td>130000.0</td>\n",
              "      <td>Full-Time</td>\n",
              "      <td>Linux, Windows Server</td>\n",
              "      <td>University</td>\n",
              "      <td>[bash/shell, python, sql]</td>\n",
              "    </tr>\n",
              "    <tr>\n",
              "      <th>6090</th>\n",
              "      <td>javascript</td>\n",
              "      <td>.NET, C#, COBOL, CSS, HTML, Javascript, PHP, S...</td>\n",
              "      <td>97000.0</td>\n",
              "      <td>Full-Time</td>\n",
              "      <td>Docker, Google Cloud Platform/App Engine, Linu...</td>\n",
              "      <td>Terciary</td>\n",
              "      <td>[.net, c#, cobol, css, html, javascript, php, ...</td>\n",
              "    </tr>\n",
              "    <tr>\n",
              "      <th>6093</th>\n",
              "      <td>javascript</td>\n",
              "      <td>C, C++, HTML, Java, Javascript, PHP, Python, SQL</td>\n",
              "      <td>72.0</td>\n",
              "      <td>Full-Time</td>\n",
              "      <td>Amazon Web Services, Docker, Kubernetes, Linux</td>\n",
              "      <td>Terciary</td>\n",
              "      <td>[c, c++, html, java, javascript, php, python, ...</td>\n",
              "    </tr>\n",
              "    <tr>\n",
              "      <th>6093</th>\n",
              "      <td>python</td>\n",
              "      <td>C, C++, HTML, Java, Javascript, PHP, Python, SQL</td>\n",
              "      <td>72.0</td>\n",
              "      <td>Full-Time</td>\n",
              "      <td>Amazon Web Services, Docker, Kubernetes, Linux</td>\n",
              "      <td>Terciary</td>\n",
              "      <td>[c, c++, html, java, javascript, php, python, ...</td>\n",
              "    </tr>\n",
              "  </tbody>\n",
              "</table>\n",
              "<p>3988 rows × 7 columns</p>\n",
              "</div>\n",
              "      <button class=\"colab-df-convert\" onclick=\"convertToInteractive('df-3b592ad6-3dc6-485b-86cc-6536d480c921')\"\n",
              "              title=\"Convert this dataframe to an interactive table.\"\n",
              "              style=\"display:none;\">\n",
              "        \n",
              "  <svg xmlns=\"http://www.w3.org/2000/svg\" height=\"24px\"viewBox=\"0 0 24 24\"\n",
              "       width=\"24px\">\n",
              "    <path d=\"M0 0h24v24H0V0z\" fill=\"none\"/>\n",
              "    <path d=\"M18.56 5.44l.94 2.06.94-2.06 2.06-.94-2.06-.94-.94-2.06-.94 2.06-2.06.94zm-11 1L8.5 8.5l.94-2.06 2.06-.94-2.06-.94L8.5 2.5l-.94 2.06-2.06.94zm10 10l.94 2.06.94-2.06 2.06-.94-2.06-.94-.94-2.06-.94 2.06-2.06.94z\"/><path d=\"M17.41 7.96l-1.37-1.37c-.4-.4-.92-.59-1.43-.59-.52 0-1.04.2-1.43.59L10.3 9.45l-7.72 7.72c-.78.78-.78 2.05 0 2.83L4 21.41c.39.39.9.59 1.41.59.51 0 1.02-.2 1.41-.59l7.78-7.78 2.81-2.81c.8-.78.8-2.07 0-2.86zM5.41 20L4 18.59l7.72-7.72 1.47 1.35L5.41 20z\"/>\n",
              "  </svg>\n",
              "      </button>\n",
              "      \n",
              "  <style>\n",
              "    .colab-df-container {\n",
              "      display:flex;\n",
              "      flex-wrap:wrap;\n",
              "      gap: 12px;\n",
              "    }\n",
              "\n",
              "    .colab-df-convert {\n",
              "      background-color: #E8F0FE;\n",
              "      border: none;\n",
              "      border-radius: 50%;\n",
              "      cursor: pointer;\n",
              "      display: none;\n",
              "      fill: #1967D2;\n",
              "      height: 32px;\n",
              "      padding: 0 0 0 0;\n",
              "      width: 32px;\n",
              "    }\n",
              "\n",
              "    .colab-df-convert:hover {\n",
              "      background-color: #E2EBFA;\n",
              "      box-shadow: 0px 1px 2px rgba(60, 64, 67, 0.3), 0px 1px 3px 1px rgba(60, 64, 67, 0.15);\n",
              "      fill: #174EA6;\n",
              "    }\n",
              "\n",
              "    [theme=dark] .colab-df-convert {\n",
              "      background-color: #3B4455;\n",
              "      fill: #D2E3FC;\n",
              "    }\n",
              "\n",
              "    [theme=dark] .colab-df-convert:hover {\n",
              "      background-color: #434B5C;\n",
              "      box-shadow: 0px 1px 3px 1px rgba(0, 0, 0, 0.15);\n",
              "      filter: drop-shadow(0px 1px 2px rgba(0, 0, 0, 0.3));\n",
              "      fill: #FFFFFF;\n",
              "    }\n",
              "  </style>\n",
              "\n",
              "      <script>\n",
              "        const buttonEl =\n",
              "          document.querySelector('#df-3b592ad6-3dc6-485b-86cc-6536d480c921 button.colab-df-convert');\n",
              "        buttonEl.style.display =\n",
              "          google.colab.kernel.accessAllowed ? 'block' : 'none';\n",
              "\n",
              "        async function convertToInteractive(key) {\n",
              "          const element = document.querySelector('#df-3b592ad6-3dc6-485b-86cc-6536d480c921');\n",
              "          const dataTable =\n",
              "            await google.colab.kernel.invokeFunction('convertToInteractive',\n",
              "                                                     [key], {});\n",
              "          if (!dataTable) return;\n",
              "\n",
              "          const docLinkHtml = 'Like what you see? Visit the ' +\n",
              "            '<a target=\"_blank\" href=https://colab.research.google.com/notebooks/data_table.ipynb>data table notebook</a>'\n",
              "            + ' to learn more about interactive tables.';\n",
              "          element.innerHTML = '';\n",
              "          dataTable['output_type'] = 'display_data';\n",
              "          await google.colab.output.renderOutput(dataTable, element);\n",
              "          const docLink = document.createElement('div');\n",
              "          docLink.innerHTML = docLinkHtml;\n",
              "          element.appendChild(docLink);\n",
              "        }\n",
              "      </script>\n",
              "    </div>\n",
              "  </div>\n",
              "  "
            ],
            "text/plain": [
              "     programming_language                        tools_programming_languages  \\\n",
              "1              javascript                           HTML, Javascript, Python   \n",
              "1                  python                           HTML, Javascript, Python   \n",
              "3              javascript  Bash/Shell, C, CSS, HTML, Java, Javascript, PH...   \n",
              "3                  python  Bash/Shell, C, CSS, HTML, Java, Javascript, PH...   \n",
              "4              javascript             CSS, HTML, Javascript, SQL, TypeScript   \n",
              "...                   ...                                                ...   \n",
              "6087               python                                             Python   \n",
              "6089               python                            Bash/Shell, Python, SQL   \n",
              "6090           javascript  .NET, C#, COBOL, CSS, HTML, Javascript, PHP, S...   \n",
              "6093           javascript   C, C++, HTML, Java, Javascript, PHP, Python, SQL   \n",
              "6093               python   C, C++, HTML, Java, Javascript, PHP, Python, SQL   \n",
              "\n",
              "      salary_monthly_NET work_contract_type  \\\n",
              "1                63000.0          Full-Time   \n",
              "1                63000.0          Full-Time   \n",
              "3               102000.0          Full-Time   \n",
              "3               102000.0          Full-Time   \n",
              "4               106000.0          Full-Time   \n",
              "...                  ...                ...   \n",
              "6087            120000.0          Full-Time   \n",
              "6089            130000.0          Full-Time   \n",
              "6090             97000.0          Full-Time   \n",
              "6093                72.0          Full-Time   \n",
              "6093                72.0          Full-Time   \n",
              "\n",
              "                                         tools_platform profile_studies_level  \\\n",
              "1              Docker, Google Cloud Platform/App Engine            University   \n",
              "1              Docker, Google Cloud Platform/App Engine            University   \n",
              "3      Docker, Linux, OpenStack, VMWare, Windows Server          Postgraduate   \n",
              "3      Docker, Linux, OpenStack, VMWare, Windows Server          Postgraduate   \n",
              "4                                   Amazon Web Services            University   \n",
              "...                                                 ...                   ...   \n",
              "6087                        *BSD, HP-UX, Linux, Solaris            University   \n",
              "6089                              Linux, Windows Server            University   \n",
              "6090  Docker, Google Cloud Platform/App Engine, Linu...              Terciary   \n",
              "6093     Amazon Web Services, Docker, Kubernetes, Linux              Terciary   \n",
              "6093     Amazon Web Services, Docker, Kubernetes, Linux              Terciary   \n",
              "\n",
              "                            cured_programming_languages  \n",
              "1                            [html, javascript, python]  \n",
              "1                            [html, javascript, python]  \n",
              "3     [bash/shell, c, css, html, java, javascript, p...  \n",
              "3     [bash/shell, c, css, html, java, javascript, p...  \n",
              "4              [css, html, javascript, sql, typescript]  \n",
              "...                                                 ...  \n",
              "6087                                           [python]  \n",
              "6089                          [bash/shell, python, sql]  \n",
              "6090  [.net, c#, cobol, css, html, javascript, php, ...  \n",
              "6093  [c, c++, html, java, javascript, php, python, ...  \n",
              "6093  [c, c++, html, java, javascript, php, python, ...  \n",
              "\n",
              "[3988 rows x 7 columns]"
            ]
          },
          "metadata": {},
          "execution_count": 9
        }
      ]
    },
    {
      "cell_type": "code",
      "source": [
        "df_lang"
      ],
      "metadata": {
        "colab": {
          "base_uri": "https://localhost:8080/",
          "height": 1000
        },
        "id": "QZADIAVEXTFV",
        "outputId": "d1a63c93-4982-4442-d10f-f6c38d53041e"
      },
      "execution_count": null,
      "outputs": [
        {
          "output_type": "execute_result",
          "data": {
            "text/html": [
              "\n",
              "  <div id=\"df-6699e45b-b5e2-4324-975a-0fb6f984cf71\">\n",
              "    <div class=\"colab-df-container\">\n",
              "      <div>\n",
              "<style scoped>\n",
              "    .dataframe tbody tr th:only-of-type {\n",
              "        vertical-align: middle;\n",
              "    }\n",
              "\n",
              "    .dataframe tbody tr th {\n",
              "        vertical-align: top;\n",
              "    }\n",
              "\n",
              "    .dataframe thead th {\n",
              "        text-align: right;\n",
              "    }\n",
              "</style>\n",
              "<table border=\"1\" class=\"dataframe\">\n",
              "  <thead>\n",
              "    <tr style=\"text-align: right;\">\n",
              "      <th></th>\n",
              "      <th>programming_language</th>\n",
              "      <th>tools_programming_languages</th>\n",
              "      <th>salary_monthly_NET</th>\n",
              "      <th>work_contract_type</th>\n",
              "      <th>tools_platform</th>\n",
              "      <th>profile_studies_level</th>\n",
              "      <th>cured_programming_languages</th>\n",
              "    </tr>\n",
              "  </thead>\n",
              "  <tbody>\n",
              "    <tr>\n",
              "      <th>1</th>\n",
              "      <td>html</td>\n",
              "      <td>HTML, Javascript, Python</td>\n",
              "      <td>63000.0</td>\n",
              "      <td>Full-Time</td>\n",
              "      <td>Docker, Google Cloud Platform/App Engine</td>\n",
              "      <td>University</td>\n",
              "      <td>[html, javascript, python]</td>\n",
              "    </tr>\n",
              "    <tr>\n",
              "      <th>1</th>\n",
              "      <td>javascript</td>\n",
              "      <td>HTML, Javascript, Python</td>\n",
              "      <td>63000.0</td>\n",
              "      <td>Full-Time</td>\n",
              "      <td>Docker, Google Cloud Platform/App Engine</td>\n",
              "      <td>University</td>\n",
              "      <td>[html, javascript, python]</td>\n",
              "    </tr>\n",
              "    <tr>\n",
              "      <th>1</th>\n",
              "      <td>python</td>\n",
              "      <td>HTML, Javascript, Python</td>\n",
              "      <td>63000.0</td>\n",
              "      <td>Full-Time</td>\n",
              "      <td>Docker, Google Cloud Platform/App Engine</td>\n",
              "      <td>University</td>\n",
              "      <td>[html, javascript, python]</td>\n",
              "    </tr>\n",
              "    <tr>\n",
              "      <th>3</th>\n",
              "      <td>bash/shell</td>\n",
              "      <td>Bash/Shell, C, CSS, HTML, Java, Javascript, PH...</td>\n",
              "      <td>102000.0</td>\n",
              "      <td>Full-Time</td>\n",
              "      <td>Docker, Linux, OpenStack, VMWare, Windows Server</td>\n",
              "      <td>Postgraduate</td>\n",
              "      <td>[bash/shell, c, css, html, java, javascript, p...</td>\n",
              "    </tr>\n",
              "    <tr>\n",
              "      <th>3</th>\n",
              "      <td>c</td>\n",
              "      <td>Bash/Shell, C, CSS, HTML, Java, Javascript, PH...</td>\n",
              "      <td>102000.0</td>\n",
              "      <td>Full-Time</td>\n",
              "      <td>Docker, Linux, OpenStack, VMWare, Windows Server</td>\n",
              "      <td>Postgraduate</td>\n",
              "      <td>[bash/shell, c, css, html, java, javascript, p...</td>\n",
              "    </tr>\n",
              "    <tr>\n",
              "      <th>...</th>\n",
              "      <td>...</td>\n",
              "      <td>...</td>\n",
              "      <td>...</td>\n",
              "      <td>...</td>\n",
              "      <td>...</td>\n",
              "      <td>...</td>\n",
              "      <td>...</td>\n",
              "    </tr>\n",
              "    <tr>\n",
              "      <th>6093</th>\n",
              "      <td>java</td>\n",
              "      <td>C, C++, HTML, Java, Javascript, PHP, Python, SQL</td>\n",
              "      <td>72.0</td>\n",
              "      <td>Full-Time</td>\n",
              "      <td>Amazon Web Services, Docker, Kubernetes, Linux</td>\n",
              "      <td>Terciary</td>\n",
              "      <td>[c, c++, html, java, javascript, php, python, ...</td>\n",
              "    </tr>\n",
              "    <tr>\n",
              "      <th>6093</th>\n",
              "      <td>javascript</td>\n",
              "      <td>C, C++, HTML, Java, Javascript, PHP, Python, SQL</td>\n",
              "      <td>72.0</td>\n",
              "      <td>Full-Time</td>\n",
              "      <td>Amazon Web Services, Docker, Kubernetes, Linux</td>\n",
              "      <td>Terciary</td>\n",
              "      <td>[c, c++, html, java, javascript, php, python, ...</td>\n",
              "    </tr>\n",
              "    <tr>\n",
              "      <th>6093</th>\n",
              "      <td>php</td>\n",
              "      <td>C, C++, HTML, Java, Javascript, PHP, Python, SQL</td>\n",
              "      <td>72.0</td>\n",
              "      <td>Full-Time</td>\n",
              "      <td>Amazon Web Services, Docker, Kubernetes, Linux</td>\n",
              "      <td>Terciary</td>\n",
              "      <td>[c, c++, html, java, javascript, php, python, ...</td>\n",
              "    </tr>\n",
              "    <tr>\n",
              "      <th>6093</th>\n",
              "      <td>python</td>\n",
              "      <td>C, C++, HTML, Java, Javascript, PHP, Python, SQL</td>\n",
              "      <td>72.0</td>\n",
              "      <td>Full-Time</td>\n",
              "      <td>Amazon Web Services, Docker, Kubernetes, Linux</td>\n",
              "      <td>Terciary</td>\n",
              "      <td>[c, c++, html, java, javascript, php, python, ...</td>\n",
              "    </tr>\n",
              "    <tr>\n",
              "      <th>6093</th>\n",
              "      <td>sql</td>\n",
              "      <td>C, C++, HTML, Java, Javascript, PHP, Python, SQL</td>\n",
              "      <td>72.0</td>\n",
              "      <td>Full-Time</td>\n",
              "      <td>Amazon Web Services, Docker, Kubernetes, Linux</td>\n",
              "      <td>Terciary</td>\n",
              "      <td>[c, c++, html, java, javascript, php, python, ...</td>\n",
              "    </tr>\n",
              "  </tbody>\n",
              "</table>\n",
              "<p>17702 rows × 7 columns</p>\n",
              "</div>\n",
              "      <button class=\"colab-df-convert\" onclick=\"convertToInteractive('df-6699e45b-b5e2-4324-975a-0fb6f984cf71')\"\n",
              "              title=\"Convert this dataframe to an interactive table.\"\n",
              "              style=\"display:none;\">\n",
              "        \n",
              "  <svg xmlns=\"http://www.w3.org/2000/svg\" height=\"24px\"viewBox=\"0 0 24 24\"\n",
              "       width=\"24px\">\n",
              "    <path d=\"M0 0h24v24H0V0z\" fill=\"none\"/>\n",
              "    <path d=\"M18.56 5.44l.94 2.06.94-2.06 2.06-.94-2.06-.94-.94-2.06-.94 2.06-2.06.94zm-11 1L8.5 8.5l.94-2.06 2.06-.94-2.06-.94L8.5 2.5l-.94 2.06-2.06.94zm10 10l.94 2.06.94-2.06 2.06-.94-2.06-.94-.94-2.06-.94 2.06-2.06.94z\"/><path d=\"M17.41 7.96l-1.37-1.37c-.4-.4-.92-.59-1.43-.59-.52 0-1.04.2-1.43.59L10.3 9.45l-7.72 7.72c-.78.78-.78 2.05 0 2.83L4 21.41c.39.39.9.59 1.41.59.51 0 1.02-.2 1.41-.59l7.78-7.78 2.81-2.81c.8-.78.8-2.07 0-2.86zM5.41 20L4 18.59l7.72-7.72 1.47 1.35L5.41 20z\"/>\n",
              "  </svg>\n",
              "      </button>\n",
              "      \n",
              "  <style>\n",
              "    .colab-df-container {\n",
              "      display:flex;\n",
              "      flex-wrap:wrap;\n",
              "      gap: 12px;\n",
              "    }\n",
              "\n",
              "    .colab-df-convert {\n",
              "      background-color: #E8F0FE;\n",
              "      border: none;\n",
              "      border-radius: 50%;\n",
              "      cursor: pointer;\n",
              "      display: none;\n",
              "      fill: #1967D2;\n",
              "      height: 32px;\n",
              "      padding: 0 0 0 0;\n",
              "      width: 32px;\n",
              "    }\n",
              "\n",
              "    .colab-df-convert:hover {\n",
              "      background-color: #E2EBFA;\n",
              "      box-shadow: 0px 1px 2px rgba(60, 64, 67, 0.3), 0px 1px 3px 1px rgba(60, 64, 67, 0.15);\n",
              "      fill: #174EA6;\n",
              "    }\n",
              "\n",
              "    [theme=dark] .colab-df-convert {\n",
              "      background-color: #3B4455;\n",
              "      fill: #D2E3FC;\n",
              "    }\n",
              "\n",
              "    [theme=dark] .colab-df-convert:hover {\n",
              "      background-color: #434B5C;\n",
              "      box-shadow: 0px 1px 3px 1px rgba(0, 0, 0, 0.15);\n",
              "      filter: drop-shadow(0px 1px 2px rgba(0, 0, 0, 0.3));\n",
              "      fill: #FFFFFF;\n",
              "    }\n",
              "  </style>\n",
              "\n",
              "      <script>\n",
              "        const buttonEl =\n",
              "          document.querySelector('#df-6699e45b-b5e2-4324-975a-0fb6f984cf71 button.colab-df-convert');\n",
              "        buttonEl.style.display =\n",
              "          google.colab.kernel.accessAllowed ? 'block' : 'none';\n",
              "\n",
              "        async function convertToInteractive(key) {\n",
              "          const element = document.querySelector('#df-6699e45b-b5e2-4324-975a-0fb6f984cf71');\n",
              "          const dataTable =\n",
              "            await google.colab.kernel.invokeFunction('convertToInteractive',\n",
              "                                                     [key], {});\n",
              "          if (!dataTable) return;\n",
              "\n",
              "          const docLinkHtml = 'Like what you see? Visit the ' +\n",
              "            '<a target=\"_blank\" href=https://colab.research.google.com/notebooks/data_table.ipynb>data table notebook</a>'\n",
              "            + ' to learn more about interactive tables.';\n",
              "          element.innerHTML = '';\n",
              "          dataTable['output_type'] = 'display_data';\n",
              "          await google.colab.output.renderOutput(dataTable, element);\n",
              "          const docLink = document.createElement('div');\n",
              "          docLink.innerHTML = docLinkHtml;\n",
              "          element.appendChild(docLink);\n",
              "        }\n",
              "      </script>\n",
              "    </div>\n",
              "  </div>\n",
              "  "
            ],
            "text/plain": [
              "     programming_language  ...                        cured_programming_languages\n",
              "1                    html  ...                         [html, javascript, python]\n",
              "1              javascript  ...                         [html, javascript, python]\n",
              "1                  python  ...                         [html, javascript, python]\n",
              "3              bash/shell  ...  [bash/shell, c, css, html, java, javascript, p...\n",
              "3                       c  ...  [bash/shell, c, css, html, java, javascript, p...\n",
              "...                   ...  ...                                                ...\n",
              "6093                 java  ...  [c, c++, html, java, javascript, php, python, ...\n",
              "6093           javascript  ...  [c, c++, html, java, javascript, php, python, ...\n",
              "6093                  php  ...  [c, c++, html, java, javascript, php, python, ...\n",
              "6093               python  ...  [c, c++, html, java, javascript, php, python, ...\n",
              "6093                  sql  ...  [c, c++, html, java, javascript, php, python, ...\n",
              "\n",
              "[17702 rows x 7 columns]"
            ]
          },
          "metadata": {},
          "execution_count": 10
        }
      ]
    },
    {
      "cell_type": "code",
      "source": [
        "# Filter the dataframe:\n",
        "# - Remove the outliers with interquartile range or with standard deviation\n",
        "# - Filtering by full-time jobs"
      ],
      "metadata": {
        "id": "Sg7iD7yDXmBp"
      },
      "execution_count": null,
      "outputs": []
    },
    {
      "cell_type": "code",
      "source": [
        "remove_outliers = numpy.abs(\n",
        "    df_lang[\"salary_monthly_NET\"] - df_lang[\"salary_monthly_NET\"].mean()\n",
        ") <= (2.5 * df_lang[\"salary_monthly_NET\"].std())\n",
        "\n",
        "df_filtered = df_lang[(df_lang[\"work_contract_type\"].isin([\"Full-Time\", \"Part-Time\"])) &\n",
        "                      remove_outliers]"
      ],
      "metadata": {
        "id": "poTuJB3tZF7y"
      },
      "execution_count": 10,
      "outputs": []
    },
    {
      "cell_type": "code",
      "source": [
        "df_filtered"
      ],
      "metadata": {
        "colab": {
          "base_uri": "https://localhost:8080/",
          "height": 763
        },
        "id": "BIwNZWxmE1Br",
        "outputId": "899261a4-acd4-424f-bd15-80a9ae835478"
      },
      "execution_count": 11,
      "outputs": [
        {
          "output_type": "execute_result",
          "data": {
            "text/html": [
              "\n",
              "  <div id=\"df-133d9009-11f9-4684-a770-a5c692dc1470\">\n",
              "    <div class=\"colab-df-container\">\n",
              "      <div>\n",
              "<style scoped>\n",
              "    .dataframe tbody tr th:only-of-type {\n",
              "        vertical-align: middle;\n",
              "    }\n",
              "\n",
              "    .dataframe tbody tr th {\n",
              "        vertical-align: top;\n",
              "    }\n",
              "\n",
              "    .dataframe thead th {\n",
              "        text-align: right;\n",
              "    }\n",
              "</style>\n",
              "<table border=\"1\" class=\"dataframe\">\n",
              "  <thead>\n",
              "    <tr style=\"text-align: right;\">\n",
              "      <th></th>\n",
              "      <th>programming_language</th>\n",
              "      <th>tools_programming_languages</th>\n",
              "      <th>salary_monthly_NET</th>\n",
              "      <th>work_contract_type</th>\n",
              "      <th>tools_platform</th>\n",
              "      <th>profile_studies_level</th>\n",
              "      <th>cured_programming_languages</th>\n",
              "    </tr>\n",
              "  </thead>\n",
              "  <tbody>\n",
              "    <tr>\n",
              "      <th>1</th>\n",
              "      <td>html</td>\n",
              "      <td>HTML, Javascript, Python</td>\n",
              "      <td>63000.0</td>\n",
              "      <td>Full-Time</td>\n",
              "      <td>Docker, Google Cloud Platform/App Engine</td>\n",
              "      <td>University</td>\n",
              "      <td>[html, javascript, python]</td>\n",
              "    </tr>\n",
              "    <tr>\n",
              "      <th>1</th>\n",
              "      <td>javascript</td>\n",
              "      <td>HTML, Javascript, Python</td>\n",
              "      <td>63000.0</td>\n",
              "      <td>Full-Time</td>\n",
              "      <td>Docker, Google Cloud Platform/App Engine</td>\n",
              "      <td>University</td>\n",
              "      <td>[html, javascript, python]</td>\n",
              "    </tr>\n",
              "    <tr>\n",
              "      <th>1</th>\n",
              "      <td>python</td>\n",
              "      <td>HTML, Javascript, Python</td>\n",
              "      <td>63000.0</td>\n",
              "      <td>Full-Time</td>\n",
              "      <td>Docker, Google Cloud Platform/App Engine</td>\n",
              "      <td>University</td>\n",
              "      <td>[html, javascript, python]</td>\n",
              "    </tr>\n",
              "    <tr>\n",
              "      <th>3</th>\n",
              "      <td>bash/shell</td>\n",
              "      <td>Bash/Shell, C, CSS, HTML, Java, Javascript, PH...</td>\n",
              "      <td>102000.0</td>\n",
              "      <td>Full-Time</td>\n",
              "      <td>Docker, Linux, OpenStack, VMWare, Windows Server</td>\n",
              "      <td>Postgraduate</td>\n",
              "      <td>[bash/shell, c, css, html, java, javascript, p...</td>\n",
              "    </tr>\n",
              "    <tr>\n",
              "      <th>3</th>\n",
              "      <td>c</td>\n",
              "      <td>Bash/Shell, C, CSS, HTML, Java, Javascript, PH...</td>\n",
              "      <td>102000.0</td>\n",
              "      <td>Full-Time</td>\n",
              "      <td>Docker, Linux, OpenStack, VMWare, Windows Server</td>\n",
              "      <td>Postgraduate</td>\n",
              "      <td>[bash/shell, c, css, html, java, javascript, p...</td>\n",
              "    </tr>\n",
              "    <tr>\n",
              "      <th>...</th>\n",
              "      <td>...</td>\n",
              "      <td>...</td>\n",
              "      <td>...</td>\n",
              "      <td>...</td>\n",
              "      <td>...</td>\n",
              "      <td>...</td>\n",
              "      <td>...</td>\n",
              "    </tr>\n",
              "    <tr>\n",
              "      <th>6093</th>\n",
              "      <td>java</td>\n",
              "      <td>C, C++, HTML, Java, Javascript, PHP, Python, SQL</td>\n",
              "      <td>72.0</td>\n",
              "      <td>Full-Time</td>\n",
              "      <td>Amazon Web Services, Docker, Kubernetes, Linux</td>\n",
              "      <td>Terciary</td>\n",
              "      <td>[c, c++, html, java, javascript, php, python, ...</td>\n",
              "    </tr>\n",
              "    <tr>\n",
              "      <th>6093</th>\n",
              "      <td>javascript</td>\n",
              "      <td>C, C++, HTML, Java, Javascript, PHP, Python, SQL</td>\n",
              "      <td>72.0</td>\n",
              "      <td>Full-Time</td>\n",
              "      <td>Amazon Web Services, Docker, Kubernetes, Linux</td>\n",
              "      <td>Terciary</td>\n",
              "      <td>[c, c++, html, java, javascript, php, python, ...</td>\n",
              "    </tr>\n",
              "    <tr>\n",
              "      <th>6093</th>\n",
              "      <td>php</td>\n",
              "      <td>C, C++, HTML, Java, Javascript, PHP, Python, SQL</td>\n",
              "      <td>72.0</td>\n",
              "      <td>Full-Time</td>\n",
              "      <td>Amazon Web Services, Docker, Kubernetes, Linux</td>\n",
              "      <td>Terciary</td>\n",
              "      <td>[c, c++, html, java, javascript, php, python, ...</td>\n",
              "    </tr>\n",
              "    <tr>\n",
              "      <th>6093</th>\n",
              "      <td>python</td>\n",
              "      <td>C, C++, HTML, Java, Javascript, PHP, Python, SQL</td>\n",
              "      <td>72.0</td>\n",
              "      <td>Full-Time</td>\n",
              "      <td>Amazon Web Services, Docker, Kubernetes, Linux</td>\n",
              "      <td>Terciary</td>\n",
              "      <td>[c, c++, html, java, javascript, php, python, ...</td>\n",
              "    </tr>\n",
              "    <tr>\n",
              "      <th>6093</th>\n",
              "      <td>sql</td>\n",
              "      <td>C, C++, HTML, Java, Javascript, PHP, Python, SQL</td>\n",
              "      <td>72.0</td>\n",
              "      <td>Full-Time</td>\n",
              "      <td>Amazon Web Services, Docker, Kubernetes, Linux</td>\n",
              "      <td>Terciary</td>\n",
              "      <td>[c, c++, html, java, javascript, php, python, ...</td>\n",
              "    </tr>\n",
              "  </tbody>\n",
              "</table>\n",
              "<p>15234 rows × 7 columns</p>\n",
              "</div>\n",
              "      <button class=\"colab-df-convert\" onclick=\"convertToInteractive('df-133d9009-11f9-4684-a770-a5c692dc1470')\"\n",
              "              title=\"Convert this dataframe to an interactive table.\"\n",
              "              style=\"display:none;\">\n",
              "        \n",
              "  <svg xmlns=\"http://www.w3.org/2000/svg\" height=\"24px\"viewBox=\"0 0 24 24\"\n",
              "       width=\"24px\">\n",
              "    <path d=\"M0 0h24v24H0V0z\" fill=\"none\"/>\n",
              "    <path d=\"M18.56 5.44l.94 2.06.94-2.06 2.06-.94-2.06-.94-.94-2.06-.94 2.06-2.06.94zm-11 1L8.5 8.5l.94-2.06 2.06-.94-2.06-.94L8.5 2.5l-.94 2.06-2.06.94zm10 10l.94 2.06.94-2.06 2.06-.94-2.06-.94-.94-2.06-.94 2.06-2.06.94z\"/><path d=\"M17.41 7.96l-1.37-1.37c-.4-.4-.92-.59-1.43-.59-.52 0-1.04.2-1.43.59L10.3 9.45l-7.72 7.72c-.78.78-.78 2.05 0 2.83L4 21.41c.39.39.9.59 1.41.59.51 0 1.02-.2 1.41-.59l7.78-7.78 2.81-2.81c.8-.78.8-2.07 0-2.86zM5.41 20L4 18.59l7.72-7.72 1.47 1.35L5.41 20z\"/>\n",
              "  </svg>\n",
              "      </button>\n",
              "      \n",
              "  <style>\n",
              "    .colab-df-container {\n",
              "      display:flex;\n",
              "      flex-wrap:wrap;\n",
              "      gap: 12px;\n",
              "    }\n",
              "\n",
              "    .colab-df-convert {\n",
              "      background-color: #E8F0FE;\n",
              "      border: none;\n",
              "      border-radius: 50%;\n",
              "      cursor: pointer;\n",
              "      display: none;\n",
              "      fill: #1967D2;\n",
              "      height: 32px;\n",
              "      padding: 0 0 0 0;\n",
              "      width: 32px;\n",
              "    }\n",
              "\n",
              "    .colab-df-convert:hover {\n",
              "      background-color: #E2EBFA;\n",
              "      box-shadow: 0px 1px 2px rgba(60, 64, 67, 0.3), 0px 1px 3px 1px rgba(60, 64, 67, 0.15);\n",
              "      fill: #174EA6;\n",
              "    }\n",
              "\n",
              "    [theme=dark] .colab-df-convert {\n",
              "      background-color: #3B4455;\n",
              "      fill: #D2E3FC;\n",
              "    }\n",
              "\n",
              "    [theme=dark] .colab-df-convert:hover {\n",
              "      background-color: #434B5C;\n",
              "      box-shadow: 0px 1px 3px 1px rgba(0, 0, 0, 0.15);\n",
              "      filter: drop-shadow(0px 1px 2px rgba(0, 0, 0, 0.3));\n",
              "      fill: #FFFFFF;\n",
              "    }\n",
              "  </style>\n",
              "\n",
              "      <script>\n",
              "        const buttonEl =\n",
              "          document.querySelector('#df-133d9009-11f9-4684-a770-a5c692dc1470 button.colab-df-convert');\n",
              "        buttonEl.style.display =\n",
              "          google.colab.kernel.accessAllowed ? 'block' : 'none';\n",
              "\n",
              "        async function convertToInteractive(key) {\n",
              "          const element = document.querySelector('#df-133d9009-11f9-4684-a770-a5c692dc1470');\n",
              "          const dataTable =\n",
              "            await google.colab.kernel.invokeFunction('convertToInteractive',\n",
              "                                                     [key], {});\n",
              "          if (!dataTable) return;\n",
              "\n",
              "          const docLinkHtml = 'Like what you see? Visit the ' +\n",
              "            '<a target=\"_blank\" href=https://colab.research.google.com/notebooks/data_table.ipynb>data table notebook</a>'\n",
              "            + ' to learn more about interactive tables.';\n",
              "          element.innerHTML = '';\n",
              "          dataTable['output_type'] = 'display_data';\n",
              "          await google.colab.output.renderOutput(dataTable, element);\n",
              "          const docLink = document.createElement('div');\n",
              "          docLink.innerHTML = docLinkHtml;\n",
              "          element.appendChild(docLink);\n",
              "        }\n",
              "      </script>\n",
              "    </div>\n",
              "  </div>\n",
              "  "
            ],
            "text/plain": [
              "     programming_language                        tools_programming_languages  \\\n",
              "1                    html                           HTML, Javascript, Python   \n",
              "1              javascript                           HTML, Javascript, Python   \n",
              "1                  python                           HTML, Javascript, Python   \n",
              "3              bash/shell  Bash/Shell, C, CSS, HTML, Java, Javascript, PH...   \n",
              "3                       c  Bash/Shell, C, CSS, HTML, Java, Javascript, PH...   \n",
              "...                   ...                                                ...   \n",
              "6093                 java   C, C++, HTML, Java, Javascript, PHP, Python, SQL   \n",
              "6093           javascript   C, C++, HTML, Java, Javascript, PHP, Python, SQL   \n",
              "6093                  php   C, C++, HTML, Java, Javascript, PHP, Python, SQL   \n",
              "6093               python   C, C++, HTML, Java, Javascript, PHP, Python, SQL   \n",
              "6093                  sql   C, C++, HTML, Java, Javascript, PHP, Python, SQL   \n",
              "\n",
              "      salary_monthly_NET work_contract_type  \\\n",
              "1                63000.0          Full-Time   \n",
              "1                63000.0          Full-Time   \n",
              "1                63000.0          Full-Time   \n",
              "3               102000.0          Full-Time   \n",
              "3               102000.0          Full-Time   \n",
              "...                  ...                ...   \n",
              "6093                72.0          Full-Time   \n",
              "6093                72.0          Full-Time   \n",
              "6093                72.0          Full-Time   \n",
              "6093                72.0          Full-Time   \n",
              "6093                72.0          Full-Time   \n",
              "\n",
              "                                        tools_platform profile_studies_level  \\\n",
              "1             Docker, Google Cloud Platform/App Engine            University   \n",
              "1             Docker, Google Cloud Platform/App Engine            University   \n",
              "1             Docker, Google Cloud Platform/App Engine            University   \n",
              "3     Docker, Linux, OpenStack, VMWare, Windows Server          Postgraduate   \n",
              "3     Docker, Linux, OpenStack, VMWare, Windows Server          Postgraduate   \n",
              "...                                                ...                   ...   \n",
              "6093    Amazon Web Services, Docker, Kubernetes, Linux              Terciary   \n",
              "6093    Amazon Web Services, Docker, Kubernetes, Linux              Terciary   \n",
              "6093    Amazon Web Services, Docker, Kubernetes, Linux              Terciary   \n",
              "6093    Amazon Web Services, Docker, Kubernetes, Linux              Terciary   \n",
              "6093    Amazon Web Services, Docker, Kubernetes, Linux              Terciary   \n",
              "\n",
              "                            cured_programming_languages  \n",
              "1                            [html, javascript, python]  \n",
              "1                            [html, javascript, python]  \n",
              "1                            [html, javascript, python]  \n",
              "3     [bash/shell, c, css, html, java, javascript, p...  \n",
              "3     [bash/shell, c, css, html, java, javascript, p...  \n",
              "...                                                 ...  \n",
              "6093  [c, c++, html, java, javascript, php, python, ...  \n",
              "6093  [c, c++, html, java, javascript, php, python, ...  \n",
              "6093  [c, c++, html, java, javascript, php, python, ...  \n",
              "6093  [c, c++, html, java, javascript, php, python, ...  \n",
              "6093  [c, c++, html, java, javascript, php, python, ...  \n",
              "\n",
              "[15234 rows x 7 columns]"
            ]
          },
          "metadata": {},
          "execution_count": 11
        }
      ]
    },
    {
      "cell_type": "code",
      "source": [
        "df_lang_counts = df_filtered[\"programming_language\"].value_counts()"
      ],
      "metadata": {
        "id": "El19QguO7fH8"
      },
      "execution_count": 12,
      "outputs": []
    },
    {
      "cell_type": "code",
      "source": [
        "df_lang_counts"
      ],
      "metadata": {
        "colab": {
          "base_uri": "https://localhost:8080/"
        },
        "id": "VHJ_Y1t48_Zu",
        "outputId": "35f4e9bf-7fe6-4865-a4ce-1b6686673534"
      },
      "execution_count": 13,
      "outputs": [
        {
          "output_type": "execute_result",
          "data": {
            "text/plain": [
              "javascript    2119\n",
              "sql           1883\n",
              "html          1585\n",
              "java          1300\n",
              "python        1275\n",
              "              ... \n",
              "soy              1\n",
              "recruiter        1\n",
              "asp              1\n",
              "kdb              1\n",
              "infobasic        1\n",
              "Name: programming_language, Length: 195, dtype: int64"
            ]
          },
          "metadata": {},
          "execution_count": 13
        }
      ]
    },
    {
      "cell_type": "code",
      "source": [
        "df_lang_counts.sort_values(ascending=False).head(5)"
      ],
      "metadata": {
        "colab": {
          "base_uri": "https://localhost:8080/"
        },
        "id": "taQTGd-C-Pto",
        "outputId": "3d6d65b8-5903-414c-cc93-9ea27b322d2b"
      },
      "execution_count": 14,
      "outputs": [
        {
          "output_type": "execute_result",
          "data": {
            "text/plain": [
              "javascript    2119\n",
              "sql           1883\n",
              "html          1585\n",
              "java          1300\n",
              "python        1275\n",
              "Name: programming_language, dtype: int64"
            ]
          },
          "metadata": {},
          "execution_count": 14
        }
      ]
    },
    {
      "cell_type": "code",
      "source": [
        "df_top5_langs = (\n",
        "    df_lang_counts\n",
        "      .sort_values(ascending=False)\n",
        "      .head(5)\n",
        "      .reset_index()\n",
        "      .rename(columns={\"index\": \"top5\", \"programming_language\": \"frequency\"})\n",
        ")"
      ],
      "metadata": {
        "id": "wY4IYnfW9qbW"
      },
      "execution_count": 15,
      "outputs": []
    },
    {
      "cell_type": "code",
      "source": [
        "df_top5_langs[\"frequency\"].sum()"
      ],
      "metadata": {
        "colab": {
          "base_uri": "https://localhost:8080/"
        },
        "id": "prRHPEKUEOXO",
        "outputId": "fbddbd86-b275-4274-c9d8-ba983bd43559"
      },
      "execution_count": 16,
      "outputs": [
        {
          "output_type": "execute_result",
          "data": {
            "text/plain": [
              "8162"
            ]
          },
          "metadata": {},
          "execution_count": 16
        }
      ]
    },
    {
      "cell_type": "code",
      "source": [
        "df_top5_langs[\"top5\"]"
      ],
      "metadata": {
        "colab": {
          "base_uri": "https://localhost:8080/"
        },
        "id": "0pW4dSrJ-t3t",
        "outputId": "a1955122-4604-4e8f-afa7-a50cd083c3a5"
      },
      "execution_count": null,
      "outputs": [
        {
          "output_type": "execute_result",
          "data": {
            "text/plain": [
              "0    javascript\n",
              "1           sql\n",
              "2          html\n",
              "3          java\n",
              "4        python\n",
              "Name: top5, dtype: object"
            ]
          },
          "metadata": {},
          "execution_count": 89
        }
      ]
    },
    {
      "cell_type": "code",
      "source": [
        "df_filtered = df_filtered[df_filtered.programming_language.isin(df_top5_langs[\"top5\"])]"
      ],
      "metadata": {
        "id": "0-ieoCmv-BN-"
      },
      "execution_count": null,
      "outputs": []
    },
    {
      "cell_type": "code",
      "source": [
        "for wtype in df_filtered[\"work_contract_type\"].unique():\n",
        "    seaborn.displot(data=df_filtered[df_filtered[\"work_contract_type\"] == wtype].reset_index(),\n",
        "                    x=\"salary_monthly_NET\",\n",
        "                    col=\"programming_language\")\n",
        "    plt.ticklabel_format(style='plain', axis='x')"
      ],
      "metadata": {
        "colab": {
          "base_uri": "https://localhost:8080/",
          "height": 474
        },
        "id": "NfNOPltPK746",
        "outputId": "23224441-5d4c-4026-ff83-fdbeac7ec38c"
      },
      "execution_count": null,
      "outputs": [
        {
          "output_type": "display_data",
          "data": {
            "image/png": "[encoded data removed]",
            "text/plain": [
              "<Figure size 1800x360 with 5 Axes>"
            ]
          },
          "metadata": {
            "needs_background": "light"
          }
        },
        {
          "output_type": "display_data",
          "data": {
            "image/png": "[encoded data removed]",
            "text/plain": [
              "<Figure size 1800x360 with 5 Axes>"
            ]
          },
          "metadata": {
            "needs_background": "light"
          }
        }
      ]
    },
    {
      "cell_type": "markdown",
      "metadata": {
        "id": "tWo8SmmC9FAk"
      },
      "source": [
        "# Exercise 2 - Densities and various variables\n",
        "\n",
        "Answer the general question: **What tools (practical and theoretical) are useful to explore the base, discover patterns, associations?**\n",
        "\n",
        "To do this, consider (same as the previous exercise):\n",
        "1. Select the relevant columns to analyze.\n",
        "2. Select the relevant rows to analyze. This includes removing extreme and erroneous values but can also focus the analysis on sub-populations."
      ]
    },
    {
      "cell_type": "markdown",
      "metadata": {
        "id": "5baYhH0XHM3S"
      },
      "source": [
        "## a) Joint density\n",
        "\n",
        "What visual tools and models can you use to study the distribution and behavior of your data?\n",
        "\n",
        "Choose three numeric variables and 2 categorical variables. Visualize the base according to several of the chosen variables. Can you describe in some way the behavior of your data? What tools would you use? describe"
      ]
    },
    {
      "cell_type": "code",
      "source": [
        "numerical_variables = [\"salary_monthly_NET\", \"profile_years_experience\", \"work_people_in_charge_of\"]\n",
        "categorical_variables = [\"profile_gender\", \"salary_in_usd\"]"
      ],
      "metadata": {
        "id": "g4o0BJaidUn6"
      },
      "execution_count": null,
      "outputs": []
    },
    {
      "cell_type": "code",
      "source": [
        "df[\"profile_gender\"].unique()"
      ],
      "metadata": {
        "colab": {
          "base_uri": "https://localhost:8080/"
        },
        "id": "H4UFBnu1dvHA",
        "outputId": "8c7ba75c-2596-4a2e-f935-541bfae66595"
      },
      "execution_count": null,
      "outputs": [
        {
          "output_type": "execute_result",
          "data": {
            "text/plain": [
              "array(['Female', 'Male', 'Other'], dtype=object)"
            ]
          },
          "metadata": {},
          "execution_count": 98
        }
      ]
    },
    {
      "cell_type": "code",
      "source": [
        "df[\"work_people_in_charge_of\"].unique()"
      ],
      "metadata": {
        "colab": {
          "base_uri": "https://localhost:8080/"
        },
        "id": "qY2qQ_ppeSUN",
        "outputId": "ebbc4e13-3470-4f6a-b388-51e8d02ddd3e"
      },
      "execution_count": null,
      "outputs": [
        {
          "output_type": "execute_result",
          "data": {
            "text/plain": [
              "array([   0,    4,    5,    3,   14,   38,    7,   16,    2,   24,    1,\n",
              "          9,   20,   10,   40,   17,    6,   15,   30,    8,   25,   50,\n",
              "         27,   12,   18,   11,   22,   60,   13,  300,  110,   45,   35,\n",
              "        120,   76,  100,   90,   19,   21,   23,  170,  138,   28,  150,\n",
              "         55,   36,   31,   59,   70, 2500,   80])"
            ]
          },
          "metadata": {},
          "execution_count": 99
        }
      ]
    },
    {
      "cell_type": "code",
      "source": [
        "df[\"work_people_in_charge_of\"].mean()"
      ],
      "metadata": {
        "colab": {
          "base_uri": "https://localhost:8080/"
        },
        "id": "T6S2rj2PmIeA",
        "outputId": "ce32ef2a-59fe-4c7b-afee-253846c608a0"
      },
      "execution_count": null,
      "outputs": [
        {
          "output_type": "execute_result",
          "data": {
            "text/plain": [
              "2.2116488925348645"
            ]
          },
          "metadata": {},
          "execution_count": 109
        }
      ]
    },
    {
      "cell_type": "code",
      "source": [
        "df[\"work_people_in_charge_of\"].median()"
      ],
      "metadata": {
        "colab": {
          "base_uri": "https://localhost:8080/"
        },
        "id": "S5KHycItmR5R",
        "outputId": "935f73b9-f9d6-4821-8918-5e6eb77ef1f2"
      },
      "execution_count": null,
      "outputs": [
        {
          "output_type": "execute_result",
          "data": {
            "text/plain": [
              "0.0"
            ]
          },
          "metadata": {},
          "execution_count": 111
        }
      ]
    },
    {
      "cell_type": "code",
      "source": [
        "df[\"work_people_in_charge_of\"].std()"
      ],
      "metadata": {
        "colab": {
          "base_uri": "https://localhost:8080/"
        },
        "id": "NPKqylKomNWi",
        "outputId": "18842166-fb31-4843-bb44-f2739e76a38e"
      },
      "execution_count": null,
      "outputs": [
        {
          "output_type": "execute_result",
          "data": {
            "text/plain": [
              "32.98339472655397"
            ]
          },
          "metadata": {},
          "execution_count": 110
        }
      ]
    },
    {
      "cell_type": "code",
      "source": [
        "\n",
        "remove_outliers = numpy.abs(\n",
        "    df[\"work_people_in_charge_of\"] - df[\"work_people_in_charge_of\"].mean()\n",
        ") <= (1.5 * df[\"work_people_in_charge_of\"].std())\n",
        "\n",
        "seaborn.violinplot(\n",
        "    x=\"profile_gender\",\n",
        "    y=\"work_people_in_charge_of\",\n",
        "    data=df[remove_outliers &\n",
        "            (df[\"work_people_in_charge_of\"] <= 6)])"
      ],
      "metadata": {
        "colab": {
          "base_uri": "https://localhost:8080/",
          "height": 328
        },
        "id": "WNDTNdZqkqFC",
        "outputId": "bd07de28-42a6-4abd-9b6e-d42ba0da3285"
      },
      "execution_count": null,
      "outputs": [
        {
          "output_type": "execute_result",
          "data": {
            "text/plain": [
              "<matplotlib.axes._subplots.AxesSubplot at 0x7f3979d75a90>"
            ]
          },
          "metadata": {},
          "execution_count": 115
        },
        {
          "output_type": "display_data",
          "data": {
            "image/png": "[encoded data removed]",
            "text/plain": [
              "<Figure size 432x288 with 1 Axes>"
            ]
          },
          "metadata": {
            "needs_background": "light"
          }
        }
      ]
    },
    {
      "cell_type": "code",
      "source": [
        "df[\"profile_gender\"].value_counts()"
      ],
      "metadata": {
        "colab": {
          "base_uri": "https://localhost:8080/"
        },
        "id": "5Ai7ULROnqnK",
        "outputId": "745db7ce-8c20-41ab-c086-21bddab97fd0"
      },
      "execution_count": null,
      "outputs": [
        {
          "output_type": "execute_result",
          "data": {
            "text/plain": [
              "Male      5122\n",
              "Female     942\n",
              "Other       31\n",
              "Name: profile_gender, dtype: int64"
            ]
          },
          "metadata": {},
          "execution_count": 116
        }
      ]
    },
    {
      "cell_type": "markdown",
      "metadata": {
        "id": "lkuHE2aZGHMO"
      },
      "source": [
        "## b) Association\n",
        "\n",
        "* We need to decide whether or not to remove the gross salary column. To make the survey simpler.\n",
        "Is there a correlation between gross and net salary? What approach and measures would you use?"
      ]
    },
    {
      "cell_type": "markdown",
      "metadata": {
        "id": "7MZrbRJCm-ae"
      },
      "source": [
        "## c) Conditional density\n",
        "\n",
        "Study the salary distribution according to the level of study.\n",
        "\n",
        "Separate the population according to the level of education (choose two significant subpopulations) and graph both histograms of the variable `'salary_monthly_NET'` comparatively.\n",
        "Do you consider that both variables are independent?\n",
        "What would you analyze about it?\n",
        "\n",
        "Compute measures of centralization and dispersion for each subpopulation"
      ]
    },
    {
      "cell_type": "markdown",
      "metadata": {
        "id": "u8wgYxNiqVpE"
      },
      "source": [
        "## d) Conditional Joint Density\n",
        "\n",
        "Choose two numeric variables and one categorical.\n",
        "Study the dispersion (scatterplot) of the two variables discriminating in color by the categorical variable."
      ]
    }
  ]
}