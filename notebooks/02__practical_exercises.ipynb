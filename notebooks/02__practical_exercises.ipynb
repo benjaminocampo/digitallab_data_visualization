{
  "nbformat": 4,
  "nbformat_minor": 0,
  "metadata": {
    "colab": {
      "name": "02__practical_exercises.ipynb",
      "provenance": [],
      "collapsed_sections": []
    },
    "kernelspec": {
      "name": "python3",
      "display_name": "Python 3"
    },
    "language_info": {
      "name": "python"
    }
  },
  "cells": [
    {
      "cell_type": "markdown",
      "source": [
        "## Exercise 3: Communication and visualization\n",
        "\n",
        "**Instruction:** Select a result that seems relevant to you from one of the exercises in part 1. Design and implement a communication based on this message in Dash.\n",
        "\n",
        "Choose the most appropriate words and visualization so that the communication is understandable, practical, and adapts to the following situation:\n",
        "\n",
        "A tweet (or LinkedIn post) for a consulting company account that does data analysis. The objective is to promote an analysis of open data that they will include in their portfolio:\n",
        "  1. Example: [Covid vaccine comparison](https://twitter.com/infobeautiful/status/1381577746527236098?s=20)\n",
        "  2. Example: [IDB Tweet](https://twitter.com/el_IDB/status/1388508583944507396?s=20). The value of this tweet is that they used a single number to convey a message. It can be something like this, or with a very simple graph.\n",
        "  3. Example: [Climate change](https://twitter.com/UNFCCC/status/1387732156190011394?s=20)\n",
        "  3. Example: [How long do programmers stay in companies?](https://www.linkedin.com/posts/denis-rothman-0b034043_tech-career-work-activity-6793861923269054464-gS6y) (We do not verify the truth or seriousness of the source).\n",
        "  4. Key points:\n",
        "    1. Your audience is not going to look at the visualization for more than a few seconds, and they don't have an strong background on the topic.\n",
        "  3. They must also include a *brief* description of how they obtained the data they are presenting, which would not go into the tweet."
      ],
      "metadata": {
        "id": "lWdVnCygMBee"
      }
    },
    {
      "cell_type": "code",
      "source": [
        ""
      ],
      "metadata": {
        "id": "MzM6R6yLMS9z"
      },
      "execution_count": null,
      "outputs": []
    }
  ]
}